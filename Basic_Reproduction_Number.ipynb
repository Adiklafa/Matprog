{
 "cells": [
  {
   "cell_type": "markdown",
   "metadata": {},
   "source": [
    "## $R_{0}$ Becslése\n",
    "\n",
    "Két gyakran használt statisztikai becslési módszert fogunk megvizsgálni:  \n",
    "(1) Exponenciális növekedési ütem alkalmazása $R_{0}$ becslésére (_exponential growth rate_)  \n",
    "(2) Tényleges 'szaporodási' számmal való közelítés  \n",
    "\n"
   ]
  },
  {
   "cell_type": "markdown",
   "metadata": {},
   "source": [
    "**(1) Módszer alkalmazása**  \n",
    "Két statisztikai lépésben végezhető el ez a becslés: megbecsüljük az exponenciális növekedési ütemet, amit _r_ jelöl, majd _r_ segítségével kiszámítjuk $R_{0}$ értéket."
   ]
  },
  {
   "cell_type": "code",
   "execution_count": 2,
   "metadata": {},
   "outputs": [
    {
     "data": {
      "text/latex": [
       "$\\displaystyle j{\\left(t \\right)} = \\int\\limits_{0}^{\\infty} A{\\left(τ \\right)} j{\\left(t - τ \\right)}\\, dτ$"
      ],
      "text/plain": [
       "Eq(j(t), Integral(A(τ)*j(t - τ), (τ, 0, oo)))"
      ]
     },
     "execution_count": 2,
     "metadata": {},
     "output_type": "execute_result"
    }
   ],
   "source": [
    "import sympy as sp\n",
    "\n",
    "t=sp.Symbol('t')\n",
    "j=sp.Function('j')\n",
    "tau=sp.symbols(u'τ') #megfertőződés óta eltelt idő\n",
    "A=sp.Function('A')\n",
    "\n",
    "\n",
    "val=sp.integrate(A(tau)*j(t-tau), (tau, 0, sp.oo))\n",
    "\n",
    "expr1=sp.Equality(j(t), val)\n",
    "expr1"
   ]
  },
  {
   "cell_type": "markdown",
   "metadata": {},
   "source": [
    "Ha feltesszük, hogy a járvány kezdetekor $j(t)$ exponenciálisan növekedő _r_ sebességgel (ami az exponenciális növekedési ütem),  \n",
    "akkor ebben az esetben könnyen megkapható $A(\\tau)$"
   ]
  },
  {
   "cell_type": "code",
   "execution_count": 3,
   "metadata": {},
   "outputs": [
    {
     "data": {
      "text/latex": [
       "$\\displaystyle j{\\left(t \\right)} = k e^{r t}$"
      ],
      "text/plain": [
       "Eq(j(t), k*exp(r*t))"
      ]
     },
     "metadata": {},
     "output_type": "display_data"
    },
    {
     "data": {
      "text/latex": [
       "$\\displaystyle j{\\left(t - τ \\right)} = k e^{r t} e^{- r τ}$"
      ],
      "text/plain": [
       "Eq(j(t - τ), k*exp(r*t)*exp(-r*τ))"
      ]
     },
     "metadata": {},
     "output_type": "display_data"
    }
   ],
   "source": [
    "k=sp.Symbol('k')\n",
    "r=sp.Symbol('r')\n",
    "expr2=sp.Equality(j(t), k*sp.E**(r*t))\n",
    "expr3=sp.Equality(j(t-tau), k*sp.E**(r*t)*sp.E**(-r*tau))\n",
    "\n",
    "display(expr2,expr3)"
   ]
  },
  {
   "cell_type": "markdown",
   "metadata": {},
   "source": [
    "Egy egyszerű behelyettesítéssel megkaphatjuk:"
   ]
  },
  {
   "cell_type": "code",
   "execution_count": 4,
   "metadata": {},
   "outputs": [
    {
     "data": {
      "text/latex": [
       "$\\displaystyle k e^{r t} = k e^{r t} \\int\\limits_{0}^{\\infty} A{\\left(τ \\right)} e^{- r τ}\\, dτ$"
      ],
      "text/plain": [
       "Eq(k*exp(r*t), k*exp(r*t)*Integral(A(τ)*exp(-r*τ), (τ, 0, oo)))"
      ]
     },
     "metadata": {},
     "output_type": "display_data"
    }
   ],
   "source": [
    "expr4=sp.Equality(k*sp.E**(r*t), sp.integrate(A(tau)*k*sp.E**(r*t)*sp.E**(-r*tau), (tau, 0, sp.oo)))\n",
    "display(expr4)"
   ]
  },
  {
   "cell_type": "markdown",
   "metadata": {},
   "source": [
    "Mivel a sympy rendkívűl okos, ki is hozta az integrálból azokat a tagokat, amik nem függnek $\\tau$-tól. Egy egyszerű átosztással pedig a következő egyenlőséget kapjuk:"
   ]
  },
  {
   "cell_type": "code",
   "execution_count": 5,
   "metadata": {},
   "outputs": [
    {
     "data": {
      "text/latex": [
       "$\\displaystyle 1 = \\int\\limits_{0}^{\\infty} A{\\left(τ \\right)} e^{- r τ}\\, dτ$"
      ],
      "text/plain": [
       "Eq(1, Integral(A(τ)*exp(-r*τ), (τ, 0, oo)))"
      ]
     },
     "metadata": {},
     "output_type": "display_data"
    }
   ],
   "source": [
    "expr5=sp.Equality(1, sp.integrate(A(tau)*sp.E**(-r*tau), (tau, 0, sp.oo)))\n",
    "display(expr5)"
   ]
  },
  {
   "cell_type": "markdown",
   "metadata": {},
   "source": [
    "Mostmár közel vagyunk ahhoz, hogy meghatározzuk $A(\\tau)$-t és onnan már egy egyszerű lépés, hogy kapjunk egy értéket $R_{0}$-ra is. Ehhez vesszük $g(\\tau)$ függvényt, ami 'generálódási' idő sűrűségfüggvénye, azaz azt mondja meg, hogy $\\tau$ idő alatt mennyire gyakori a másodlagos megbetegedések száma."
   ]
  },
  {
   "cell_type": "code",
   "execution_count": 6,
   "metadata": {},
   "outputs": [
    {
     "data": {
      "text/latex": [
       "$\\displaystyle g{\\left(τ \\right)} = \\frac{A{\\left(τ \\right)}}{\\int\\limits_{0}^{\\infty} A{\\left(s \\right)}\\, ds}$"
      ],
      "text/plain": [
       "Eq(g(τ), A(τ)/Integral(A(s), (s, 0, oo)))"
      ]
     },
     "metadata": {},
     "output_type": "display_data"
    }
   ],
   "source": [
    "g=sp.Function('g')\n",
    "s=sp.Symbol('s')\n",
    "expr6=sp.Equality(g(tau), A(tau)/sp.integrate(A(s), (s, 0, sp.oo)))\n",
    "display(expr6)"
   ]
  },
  {
   "cell_type": "markdown",
   "metadata": {},
   "source": [
    "Itt a nevező jelentése: az összes elsődlegesen megfertőzödött egyén által megfertőzött másodlagos fertőzések száma, ami a definícionk alapján pont $R_{0}$. Vagyis azt kapjuk, hogy:"
   ]
  },
  {
   "cell_type": "code",
   "execution_count": 7,
   "metadata": {},
   "outputs": [
    {
     "data": {
      "text/latex": [
       "$\\displaystyle g{\\left(τ \\right)} = \\frac{A{\\left(τ \\right)}}{R_{0}}$"
      ],
      "text/plain": [
       "Eq(g(τ), A(τ)/R_0)"
      ]
     },
     "metadata": {},
     "output_type": "display_data"
    },
    {
     "data": {
      "text/latex": [
       "$\\displaystyle A{\\left(τ \\right)} = R_{0} g{\\left(τ \\right)}$"
      ],
      "text/plain": [
       "Eq(A(τ), R_0*g(τ))"
      ]
     },
     "metadata": {},
     "output_type": "display_data"
    }
   ],
   "source": [
    "R_0=sp.Symbol('R_0')\n",
    "expr7=sp.Equality(g(tau), A(tau)/R_0)\n",
    "expr8=sp.Equality(A(tau), R_0*g(tau))\n",
    "display(expr7, expr8)"
   ]
  },
  {
   "cell_type": "markdown",
   "metadata": {},
   "source": [
    "Ezt visszahelyettesítve az (5)-ös egyenletünkbe megkapjuk:"
   ]
  },
  {
   "cell_type": "code",
   "execution_count": 8,
   "metadata": {},
   "outputs": [
    {
     "data": {
      "text/latex": [
       "$\\displaystyle 1 = R_{0} \\int\\limits_{0}^{\\infty} g{\\left(τ \\right)} e^{- r τ}\\, dτ$"
      ],
      "text/plain": [
       "Eq(1, R_0*Integral(g(τ)*exp(-r*τ), (τ, 0, oo)))"
      ]
     },
     "metadata": {},
     "output_type": "display_data"
    },
    {
     "data": {
      "text/latex": [
       "$\\displaystyle R_{0} = \\frac{1}{\\int\\limits_{0}^{\\infty} g{\\left(τ \\right)} e^{- r τ}\\, dτ}$"
      ],
      "text/plain": [
       "Eq(R_0, 1/Integral(g(τ)*exp(-r*τ), (τ, 0, oo)))"
      ]
     },
     "metadata": {},
     "output_type": "display_data"
    }
   ],
   "source": [
    "expr9=sp.Equality(1, sp.integrate(R_0*g(tau)*sp.E**(-r*tau), (tau, 0, sp.oo)))\n",
    "expr10=sp.Equality(R_0, 1/sp.integrate(g(tau)*sp.E**(-r*tau), (tau, 0, sp.oo)))\n",
    "display(expr9, expr10)"
   ]
  },
  {
   "cell_type": "markdown",
   "metadata": {},
   "source": [
    "Ezzel megkapunk egy becslést $R_{0}$-ra, amihez két adatra van szükségünk:  \n",
    "(1) a már említett _r_ exponenciális növekedési ütem  \n",
    "(2) valamint a $g(\\tau)$, ami a másodlagos megfertőződések száma $\\tau$ idő alatt  \n",
    "  \n",
    "Persze számos másfajta becslése is létezik $R_{0}$-nak, pl. az Actual Reproduction Number segítségével vett közelítés, ML-becslés, SIR modellből származtatott $R_{0}$ és még sok más.\n",
    "A korábbiakban levezetett 'képlet' $R_{0}$-ra talán a leggyakrabban használt számítási módszer, de kell hozzá _r_."
   ]
  },
  {
   "cell_type": "markdown",
   "metadata": {},
   "source": [
    "### r meghatározása\n",
    "**'Pure Birth Process' (Folytonos Markov Láncok spec. esete)**  \n",
    "Ha ismert a 0-adik időpillanattól a $t-1$-edik időpillanatig az új fertőzések száma (azaz, amit $j(t)$-vel jelöltünk korábban), akkor a $t$-edik időpillanatban az esetek számának ($J_{t}$) felételes valószínűsége a következő kifejezéssel arányos:"
   ]
  },
  {
   "cell_type": "code",
   "execution_count": 9,
   "metadata": {},
   "outputs": [
    {
     "data": {
      "text/latex": [
       "$\\displaystyle \\left(1 - e^{- r}\\right)^{- J_{0} + J_{t}} e^{- r \\sum_{i=0}^{t - 1} J_{i}}$"
      ],
      "text/plain": [
       "(1 - exp(-r))**(-J_0 + J_t)*exp(-r*Sum(J_i, (i, 0, t - 1)))"
      ]
     },
     "metadata": {},
     "output_type": "display_data"
    }
   ],
   "source": [
    "J_i=sp.Symbol('J_i')\n",
    "J_t=sp.Symbol('J_t')\n",
    "J_0=sp.Symbol('J_0')\n",
    "i=sp.Symbol('i')\n",
    "expr11=sp.E**(-r*sp.Sum(J_i, (i, 0, t-1)))*(1-sp.E**(-r))**(J_t-J_0)\n",
    "display(expr11)"
   ]
  },
  {
   "cell_type": "markdown",
   "metadata": {},
   "source": [
    "Ebből meghatározható _r_ Maximum-Likelihood becsléssel (és adható 95%-os konfidenciaintervallum)"
   ]
  },
  {
   "cell_type": "markdown",
   "metadata": {},
   "source": [
    "## $R_{0}$ vizsgálata és ábrázolása számított adatokból"
   ]
  },
  {
   "cell_type": "markdown",
   "metadata": {},
   "source": [
    "Az alábbiakban 8 országban a megfigyelt fertőzött egyének számát és az exponenciális növekedési ütemmel becsült $R_{0}$ (basic reproduction number) viszonyát vetjük össze. Először beolvassuk az adatokat."
   ]
  },
  {
   "cell_type": "code",
   "execution_count": 10,
   "metadata": {},
   "outputs": [],
   "source": [
    "import pandas as pd\n",
    "import seaborn as sns\n",
    "\n",
    "R_0_vals = pd.read_csv('R0_vals.csv')\n",
    "USA_cases = pd.read_csv('USA.csv')\n",
    "India_cases = pd.read_csv('India.csv')\n",
    "Brazil_cases = pd.read_csv('Brazil.csv')\n",
    "Russia_cases = pd.read_csv('Russia.csv')\n",
    "Peru_cases = pd.read_csv('Peru.csv')\n",
    "Colombia_cases = pd.read_csv('Colombia.csv')\n",
    "Turkey_cases = pd.read_csv('Turkey.csv')\n",
    "Germany_cases = pd.read_csv('Germany.csv')"
   ]
  },
  {
   "cell_type": "code",
   "execution_count": 11,
   "metadata": {},
   "outputs": [],
   "source": [
    "cases=[USA_cases,India_cases,Brazil_cases,Russia_cases,Peru_cases,Colombia_cases,Turkey_cases,Germany_cases]"
   ]
  },
  {
   "cell_type": "markdown",
   "metadata": {},
   "source": [
    "Ezután mivel az $R_{0}$-at tartalmazó táblázatban a dátumok nem azonos formátumúak a további adatokat tartalmazó táblázatokkal, így ezeket átírjuk, hogy a többi dátummal a későbbiekben összehasonlítható legyen."
   ]
  },
  {
   "cell_type": "code",
   "execution_count": 28,
   "metadata": {},
   "outputs": [
    {
     "data": {
      "text/html": [
       "<div>\n",
       "<style scoped>\n",
       "    .dataframe tbody tr th:only-of-type {\n",
       "        vertical-align: middle;\n",
       "    }\n",
       "\n",
       "    .dataframe tbody tr th {\n",
       "        vertical-align: top;\n",
       "    }\n",
       "\n",
       "    .dataframe thead th {\n",
       "        text-align: right;\n",
       "    }\n",
       "</style>\n",
       "<table border=\"1\" class=\"dataframe\">\n",
       "  <thead>\n",
       "    <tr style=\"text-align: right;\">\n",
       "      <th></th>\n",
       "      <th>Date</th>\n",
       "      <th>USA</th>\n",
       "      <th>India</th>\n",
       "      <th>Brazil</th>\n",
       "      <th>Russia</th>\n",
       "      <th>Peru</th>\n",
       "      <th>Colombia</th>\n",
       "      <th>Turkey</th>\n",
       "      <th>Germany</th>\n",
       "    </tr>\n",
       "  </thead>\n",
       "  <tbody>\n",
       "    <tr>\n",
       "      <th>0</th>\n",
       "      <td>2/8</td>\n",
       "      <td>0.4</td>\n",
       "      <td>NaN</td>\n",
       "      <td>NaN</td>\n",
       "      <td>NaN</td>\n",
       "      <td>NaN</td>\n",
       "      <td>NaN</td>\n",
       "      <td>NaN</td>\n",
       "      <td>NaN</td>\n",
       "    </tr>\n",
       "    <tr>\n",
       "      <th>1</th>\n",
       "      <td>2/9</td>\n",
       "      <td>1.0</td>\n",
       "      <td>NaN</td>\n",
       "      <td>NaN</td>\n",
       "      <td>NaN</td>\n",
       "      <td>NaN</td>\n",
       "      <td>NaN</td>\n",
       "      <td>NaN</td>\n",
       "      <td>NaN</td>\n",
       "    </tr>\n",
       "    <tr>\n",
       "      <th>2</th>\n",
       "      <td>2/10</td>\n",
       "      <td>1.0</td>\n",
       "      <td>NaN</td>\n",
       "      <td>NaN</td>\n",
       "      <td>NaN</td>\n",
       "      <td>NaN</td>\n",
       "      <td>NaN</td>\n",
       "      <td>NaN</td>\n",
       "      <td>NaN</td>\n",
       "    </tr>\n",
       "    <tr>\n",
       "      <th>3</th>\n",
       "      <td>2/11</td>\n",
       "      <td>0.6</td>\n",
       "      <td>NaN</td>\n",
       "      <td>NaN</td>\n",
       "      <td>NaN</td>\n",
       "      <td>NaN</td>\n",
       "      <td>NaN</td>\n",
       "      <td>NaN</td>\n",
       "      <td>NaN</td>\n",
       "    </tr>\n",
       "    <tr>\n",
       "      <th>4</th>\n",
       "      <td>2/12</td>\n",
       "      <td>1.4</td>\n",
       "      <td>NaN</td>\n",
       "      <td>NaN</td>\n",
       "      <td>NaN</td>\n",
       "      <td>NaN</td>\n",
       "      <td>NaN</td>\n",
       "      <td>NaN</td>\n",
       "      <td>NaN</td>\n",
       "    </tr>\n",
       "    <tr>\n",
       "      <th>...</th>\n",
       "      <td>...</td>\n",
       "      <td>...</td>\n",
       "      <td>...</td>\n",
       "      <td>...</td>\n",
       "      <td>...</td>\n",
       "      <td>...</td>\n",
       "      <td>...</td>\n",
       "      <td>...</td>\n",
       "      <td>...</td>\n",
       "    </tr>\n",
       "    <tr>\n",
       "      <th>212</th>\n",
       "      <td>9/7</td>\n",
       "      <td>1.0</td>\n",
       "      <td>1.0</td>\n",
       "      <td>1.0</td>\n",
       "      <td>1.0</td>\n",
       "      <td>1.0</td>\n",
       "      <td>1.0</td>\n",
       "      <td>1.0</td>\n",
       "      <td>1.0</td>\n",
       "    </tr>\n",
       "    <tr>\n",
       "      <th>213</th>\n",
       "      <td>9/8</td>\n",
       "      <td>1.0</td>\n",
       "      <td>1.0</td>\n",
       "      <td>1.0</td>\n",
       "      <td>1.0</td>\n",
       "      <td>1.0</td>\n",
       "      <td>1.0</td>\n",
       "      <td>1.0</td>\n",
       "      <td>1.0</td>\n",
       "    </tr>\n",
       "    <tr>\n",
       "      <th>214</th>\n",
       "      <td>9/9</td>\n",
       "      <td>1.0</td>\n",
       "      <td>1.0</td>\n",
       "      <td>1.0</td>\n",
       "      <td>1.0</td>\n",
       "      <td>1.0</td>\n",
       "      <td>1.0</td>\n",
       "      <td>1.0</td>\n",
       "      <td>1.0</td>\n",
       "    </tr>\n",
       "    <tr>\n",
       "      <th>215</th>\n",
       "      <td>9/10</td>\n",
       "      <td>1.0</td>\n",
       "      <td>1.0</td>\n",
       "      <td>1.0</td>\n",
       "      <td>1.0</td>\n",
       "      <td>1.0</td>\n",
       "      <td>1.0</td>\n",
       "      <td>1.0</td>\n",
       "      <td>1.0</td>\n",
       "    </tr>\n",
       "    <tr>\n",
       "      <th>216</th>\n",
       "      <td>9/11</td>\n",
       "      <td>1.0</td>\n",
       "      <td>1.0</td>\n",
       "      <td>1.0</td>\n",
       "      <td>1.0</td>\n",
       "      <td>1.0</td>\n",
       "      <td>1.0</td>\n",
       "      <td>1.0</td>\n",
       "      <td>1.0</td>\n",
       "    </tr>\n",
       "  </tbody>\n",
       "</table>\n",
       "<p>217 rows × 9 columns</p>\n",
       "</div>"
      ],
      "text/plain": [
       "     Date  USA  India  Brazil  Russia  Peru  Colombia  Turkey  Germany\n",
       "0     2/8  0.4    NaN     NaN     NaN   NaN       NaN     NaN      NaN\n",
       "1     2/9  1.0    NaN     NaN     NaN   NaN       NaN     NaN      NaN\n",
       "2    2/10  1.0    NaN     NaN     NaN   NaN       NaN     NaN      NaN\n",
       "3    2/11  0.6    NaN     NaN     NaN   NaN       NaN     NaN      NaN\n",
       "4    2/12  1.4    NaN     NaN     NaN   NaN       NaN     NaN      NaN\n",
       "..    ...  ...    ...     ...     ...   ...       ...     ...      ...\n",
       "212   9/7  1.0    1.0     1.0     1.0   1.0       1.0     1.0      1.0\n",
       "213   9/8  1.0    1.0     1.0     1.0   1.0       1.0     1.0      1.0\n",
       "214   9/9  1.0    1.0     1.0     1.0   1.0       1.0     1.0      1.0\n",
       "215  9/10  1.0    1.0     1.0     1.0   1.0       1.0     1.0      1.0\n",
       "216  9/11  1.0    1.0     1.0     1.0   1.0       1.0     1.0      1.0\n",
       "\n",
       "[217 rows x 9 columns]"
      ]
     },
     "metadata": {},
     "output_type": "display_data"
    }
   ],
   "source": [
    "pd.options.mode.chained_assignment = None \n",
    "R_0_vals = pd.read_csv('R0_vals.csv')\n",
    "for i in range(len(R_0_vals)):\n",
    "    if len(R_0_vals['Date'][i])==8:\n",
    "        R_0_vals['Date'][i]=(R_0_vals['Date'][i])[1:5]\n",
    "        \n",
    "for i in range(len(R_0_vals)):\n",
    "    if (R_0_vals['Date'][i])[2]=='0':\n",
    "        R_0_vals['Date'][i]=(R_0_vals['Date'][i])[0:2]+(R_0_vals['Date'][i])[3]\n",
    "display(R_0_vals)"
   ]
  },
  {
   "cell_type": "code",
   "execution_count": 29,
   "metadata": {},
   "outputs": [
    {
     "data": {
      "text/html": [
       "<div>\n",
       "<style scoped>\n",
       "    .dataframe tbody tr th:only-of-type {\n",
       "        vertical-align: middle;\n",
       "    }\n",
       "\n",
       "    .dataframe tbody tr th {\n",
       "        vertical-align: top;\n",
       "    }\n",
       "\n",
       "    .dataframe thead th {\n",
       "        text-align: right;\n",
       "    }\n",
       "</style>\n",
       "<table border=\"1\" class=\"dataframe\">\n",
       "  <thead>\n",
       "    <tr style=\"text-align: right;\">\n",
       "      <th></th>\n",
       "      <th>Date</th>\n",
       "      <th>USA</th>\n",
       "      <th>India</th>\n",
       "      <th>Brazil</th>\n",
       "      <th>Russia</th>\n",
       "      <th>Peru</th>\n",
       "      <th>Colombia</th>\n",
       "      <th>Turkey</th>\n",
       "      <th>Germany</th>\n",
       "    </tr>\n",
       "  </thead>\n",
       "  <tbody>\n",
       "    <tr>\n",
       "      <th>0</th>\n",
       "      <td>2020/2/8</td>\n",
       "      <td>0.4</td>\n",
       "      <td>NaN</td>\n",
       "      <td>NaN</td>\n",
       "      <td>NaN</td>\n",
       "      <td>NaN</td>\n",
       "      <td>NaN</td>\n",
       "      <td>NaN</td>\n",
       "      <td>NaN</td>\n",
       "    </tr>\n",
       "    <tr>\n",
       "      <th>1</th>\n",
       "      <td>2020/2/9</td>\n",
       "      <td>1.0</td>\n",
       "      <td>NaN</td>\n",
       "      <td>NaN</td>\n",
       "      <td>NaN</td>\n",
       "      <td>NaN</td>\n",
       "      <td>NaN</td>\n",
       "      <td>NaN</td>\n",
       "      <td>NaN</td>\n",
       "    </tr>\n",
       "    <tr>\n",
       "      <th>2</th>\n",
       "      <td>2020/2/10</td>\n",
       "      <td>1.0</td>\n",
       "      <td>NaN</td>\n",
       "      <td>NaN</td>\n",
       "      <td>NaN</td>\n",
       "      <td>NaN</td>\n",
       "      <td>NaN</td>\n",
       "      <td>NaN</td>\n",
       "      <td>NaN</td>\n",
       "    </tr>\n",
       "    <tr>\n",
       "      <th>3</th>\n",
       "      <td>2020/2/11</td>\n",
       "      <td>0.6</td>\n",
       "      <td>NaN</td>\n",
       "      <td>NaN</td>\n",
       "      <td>NaN</td>\n",
       "      <td>NaN</td>\n",
       "      <td>NaN</td>\n",
       "      <td>NaN</td>\n",
       "      <td>NaN</td>\n",
       "    </tr>\n",
       "    <tr>\n",
       "      <th>4</th>\n",
       "      <td>2020/2/12</td>\n",
       "      <td>1.4</td>\n",
       "      <td>NaN</td>\n",
       "      <td>NaN</td>\n",
       "      <td>NaN</td>\n",
       "      <td>NaN</td>\n",
       "      <td>NaN</td>\n",
       "      <td>NaN</td>\n",
       "      <td>NaN</td>\n",
       "    </tr>\n",
       "    <tr>\n",
       "      <th>...</th>\n",
       "      <td>...</td>\n",
       "      <td>...</td>\n",
       "      <td>...</td>\n",
       "      <td>...</td>\n",
       "      <td>...</td>\n",
       "      <td>...</td>\n",
       "      <td>...</td>\n",
       "      <td>...</td>\n",
       "      <td>...</td>\n",
       "    </tr>\n",
       "    <tr>\n",
       "      <th>212</th>\n",
       "      <td>2020/9/7</td>\n",
       "      <td>1.0</td>\n",
       "      <td>1.0</td>\n",
       "      <td>1.0</td>\n",
       "      <td>1.0</td>\n",
       "      <td>1.0</td>\n",
       "      <td>1.0</td>\n",
       "      <td>1.0</td>\n",
       "      <td>1.0</td>\n",
       "    </tr>\n",
       "    <tr>\n",
       "      <th>213</th>\n",
       "      <td>2020/9/8</td>\n",
       "      <td>1.0</td>\n",
       "      <td>1.0</td>\n",
       "      <td>1.0</td>\n",
       "      <td>1.0</td>\n",
       "      <td>1.0</td>\n",
       "      <td>1.0</td>\n",
       "      <td>1.0</td>\n",
       "      <td>1.0</td>\n",
       "    </tr>\n",
       "    <tr>\n",
       "      <th>214</th>\n",
       "      <td>2020/9/9</td>\n",
       "      <td>1.0</td>\n",
       "      <td>1.0</td>\n",
       "      <td>1.0</td>\n",
       "      <td>1.0</td>\n",
       "      <td>1.0</td>\n",
       "      <td>1.0</td>\n",
       "      <td>1.0</td>\n",
       "      <td>1.0</td>\n",
       "    </tr>\n",
       "    <tr>\n",
       "      <th>215</th>\n",
       "      <td>2020/9/10</td>\n",
       "      <td>1.0</td>\n",
       "      <td>1.0</td>\n",
       "      <td>1.0</td>\n",
       "      <td>1.0</td>\n",
       "      <td>1.0</td>\n",
       "      <td>1.0</td>\n",
       "      <td>1.0</td>\n",
       "      <td>1.0</td>\n",
       "    </tr>\n",
       "    <tr>\n",
       "      <th>216</th>\n",
       "      <td>2020/9/11</td>\n",
       "      <td>1.0</td>\n",
       "      <td>1.0</td>\n",
       "      <td>1.0</td>\n",
       "      <td>1.0</td>\n",
       "      <td>1.0</td>\n",
       "      <td>1.0</td>\n",
       "      <td>1.0</td>\n",
       "      <td>1.0</td>\n",
       "    </tr>\n",
       "  </tbody>\n",
       "</table>\n",
       "<p>217 rows × 9 columns</p>\n",
       "</div>"
      ],
      "text/plain": [
       "          Date  USA  India  Brazil  Russia  Peru  Colombia  Turkey  Germany\n",
       "0     2020/2/8  0.4    NaN     NaN     NaN   NaN       NaN     NaN      NaN\n",
       "1     2020/2/9  1.0    NaN     NaN     NaN   NaN       NaN     NaN      NaN\n",
       "2    2020/2/10  1.0    NaN     NaN     NaN   NaN       NaN     NaN      NaN\n",
       "3    2020/2/11  0.6    NaN     NaN     NaN   NaN       NaN     NaN      NaN\n",
       "4    2020/2/12  1.4    NaN     NaN     NaN   NaN       NaN     NaN      NaN\n",
       "..         ...  ...    ...     ...     ...   ...       ...     ...      ...\n",
       "212   2020/9/7  1.0    1.0     1.0     1.0   1.0       1.0     1.0      1.0\n",
       "213   2020/9/8  1.0    1.0     1.0     1.0   1.0       1.0     1.0      1.0\n",
       "214   2020/9/9  1.0    1.0     1.0     1.0   1.0       1.0     1.0      1.0\n",
       "215  2020/9/10  1.0    1.0     1.0     1.0   1.0       1.0     1.0      1.0\n",
       "216  2020/9/11  1.0    1.0     1.0     1.0   1.0       1.0     1.0      1.0\n",
       "\n",
       "[217 rows x 9 columns]"
      ]
     },
     "metadata": {},
     "output_type": "display_data"
    }
   ],
   "source": [
    "for i in range(len(R_0_vals)):\n",
    "    R_0_vals['Date'][i]='2020/'+(R_0_vals['Date'][i])[0:5]\n",
    "display(R_0_vals)"
   ]
  },
  {
   "cell_type": "markdown",
   "metadata": {},
   "source": [
    "A többi táblázatban találhatóak olyan adatokat tartalmazó oszlopok, amik az $R_{0}$ számításhoz hasznosak voltak, de számunkra nem relevánsak, így eltároljuk csak a fertőzött egyének számát minden országból."
   ]
  },
  {
   "cell_type": "code",
   "execution_count": 30,
   "metadata": {},
   "outputs": [
    {
     "data": {
      "text/html": [
       "<div>\n",
       "<style scoped>\n",
       "    .dataframe tbody tr th:only-of-type {\n",
       "        vertical-align: middle;\n",
       "    }\n",
       "\n",
       "    .dataframe tbody tr th {\n",
       "        vertical-align: top;\n",
       "    }\n",
       "\n",
       "    .dataframe thead th {\n",
       "        text-align: right;\n",
       "    }\n",
       "</style>\n",
       "<table border=\"1\" class=\"dataframe\">\n",
       "  <thead>\n",
       "    <tr style=\"text-align: right;\">\n",
       "      <th></th>\n",
       "      <th>Date</th>\n",
       "      <th>USA infected</th>\n",
       "      <th>India infected</th>\n",
       "      <th>Brazil infected</th>\n",
       "      <th>Russia infected</th>\n",
       "      <th>Peru infected</th>\n",
       "      <th>Colombia infected</th>\n",
       "      <th>Turkey infected</th>\n",
       "      <th>Germany infected</th>\n",
       "    </tr>\n",
       "  </thead>\n",
       "  <tbody>\n",
       "    <tr>\n",
       "      <th>0</th>\n",
       "      <td>2020/2/8</td>\n",
       "      <td>11</td>\n",
       "      <td>3</td>\n",
       "      <td>NaN</td>\n",
       "      <td>2</td>\n",
       "      <td>NaN</td>\n",
       "      <td>NaN</td>\n",
       "      <td>NaN</td>\n",
       "      <td>13</td>\n",
       "    </tr>\n",
       "    <tr>\n",
       "      <th>1</th>\n",
       "      <td>2020/2/9</td>\n",
       "      <td>11</td>\n",
       "      <td>3</td>\n",
       "      <td>NaN</td>\n",
       "      <td>2</td>\n",
       "      <td>NaN</td>\n",
       "      <td>NaN</td>\n",
       "      <td>NaN</td>\n",
       "      <td>14</td>\n",
       "    </tr>\n",
       "    <tr>\n",
       "      <th>2</th>\n",
       "      <td>2020/2/10</td>\n",
       "      <td>11</td>\n",
       "      <td>3</td>\n",
       "      <td>NaN</td>\n",
       "      <td>2</td>\n",
       "      <td>NaN</td>\n",
       "      <td>NaN</td>\n",
       "      <td>NaN</td>\n",
       "      <td>14</td>\n",
       "    </tr>\n",
       "    <tr>\n",
       "      <th>3</th>\n",
       "      <td>2020/2/11</td>\n",
       "      <td>12</td>\n",
       "      <td>3</td>\n",
       "      <td>NaN</td>\n",
       "      <td>2</td>\n",
       "      <td>NaN</td>\n",
       "      <td>NaN</td>\n",
       "      <td>NaN</td>\n",
       "      <td>16</td>\n",
       "    </tr>\n",
       "    <tr>\n",
       "      <th>4</th>\n",
       "      <td>2020/2/12</td>\n",
       "      <td>12</td>\n",
       "      <td>3</td>\n",
       "      <td>NaN</td>\n",
       "      <td>2</td>\n",
       "      <td>NaN</td>\n",
       "      <td>NaN</td>\n",
       "      <td>NaN</td>\n",
       "      <td>16</td>\n",
       "    </tr>\n",
       "    <tr>\n",
       "      <th>...</th>\n",
       "      <td>...</td>\n",
       "      <td>...</td>\n",
       "      <td>...</td>\n",
       "      <td>...</td>\n",
       "      <td>...</td>\n",
       "      <td>...</td>\n",
       "      <td>...</td>\n",
       "      <td>...</td>\n",
       "      <td>...</td>\n",
       "    </tr>\n",
       "    <tr>\n",
       "      <th>212</th>\n",
       "      <td>2020/9/7</td>\n",
       "      <td>6300622</td>\n",
       "      <td>4280422</td>\n",
       "      <td>4147794</td>\n",
       "      <td>1027334</td>\n",
       "      <td>689977</td>\n",
       "      <td>671848</td>\n",
       "      <td>281509</td>\n",
       "      <td>253626</td>\n",
       "    </tr>\n",
       "    <tr>\n",
       "      <th>213</th>\n",
       "      <td>2020/9/8</td>\n",
       "      <td>6327009</td>\n",
       "      <td>4370128</td>\n",
       "      <td>4162073</td>\n",
       "      <td>1032354</td>\n",
       "      <td>691575</td>\n",
       "      <td>671533</td>\n",
       "      <td>283270</td>\n",
       "      <td>254957</td>\n",
       "    </tr>\n",
       "    <tr>\n",
       "      <th>214</th>\n",
       "      <td>2020/9/9</td>\n",
       "      <td>6360212</td>\n",
       "      <td>4465863</td>\n",
       "      <td>4197889</td>\n",
       "      <td>1037526</td>\n",
       "      <td>696190</td>\n",
       "      <td>686851</td>\n",
       "      <td>284943</td>\n",
       "      <td>256433</td>\n",
       "    </tr>\n",
       "    <tr>\n",
       "      <th>215</th>\n",
       "      <td>2020/9/10</td>\n",
       "      <td>6396100</td>\n",
       "      <td>4562414</td>\n",
       "      <td>4238446</td>\n",
       "      <td>1042836</td>\n",
       "      <td>702776</td>\n",
       "      <td>694664</td>\n",
       "      <td>286455</td>\n",
       "      <td>258149</td>\n",
       "    </tr>\n",
       "    <tr>\n",
       "      <th>216</th>\n",
       "      <td>2020/9/11</td>\n",
       "      <td>6443652</td>\n",
       "      <td>4659984</td>\n",
       "      <td>4282164</td>\n",
       "      <td>1048257</td>\n",
       "      <td>710067</td>\n",
       "      <td>702088</td>\n",
       "      <td>288126</td>\n",
       "      <td>259735</td>\n",
       "    </tr>\n",
       "  </tbody>\n",
       "</table>\n",
       "<p>217 rows × 9 columns</p>\n",
       "</div>"
      ],
      "text/plain": [
       "          Date USA infected India infected Brazil infected Russia infected  \\\n",
       "0     2020/2/8           11              3             NaN               2   \n",
       "1     2020/2/9           11              3             NaN               2   \n",
       "2    2020/2/10           11              3             NaN               2   \n",
       "3    2020/2/11           12              3             NaN               2   \n",
       "4    2020/2/12           12              3             NaN               2   \n",
       "..         ...          ...            ...             ...             ...   \n",
       "212   2020/9/7      6300622        4280422         4147794         1027334   \n",
       "213   2020/9/8      6327009        4370128         4162073         1032354   \n",
       "214   2020/9/9      6360212        4465863         4197889         1037526   \n",
       "215  2020/9/10      6396100        4562414         4238446         1042836   \n",
       "216  2020/9/11      6443652        4659984         4282164         1048257   \n",
       "\n",
       "    Peru infected Colombia infected Turkey infected Germany infected  \n",
       "0             NaN               NaN             NaN               13  \n",
       "1             NaN               NaN             NaN               14  \n",
       "2             NaN               NaN             NaN               14  \n",
       "3             NaN               NaN             NaN               16  \n",
       "4             NaN               NaN             NaN               16  \n",
       "..            ...               ...             ...              ...  \n",
       "212        689977            671848          281509           253626  \n",
       "213        691575            671533          283270           254957  \n",
       "214        696190            686851          284943           256433  \n",
       "215        702776            694664          286455           258149  \n",
       "216        710067            702088          288126           259735  \n",
       "\n",
       "[217 rows x 9 columns]"
      ]
     },
     "execution_count": 30,
     "metadata": {},
     "output_type": "execute_result"
    }
   ],
   "source": [
    "Table=pd.DataFrame(columns=['Date', 'USA infected', 'India infected', 'Brazil infected', 'Russia infected', \n",
    "                            'Peru infected', 'Colombia infected', 'Turkey infected', 'Germany infected'])\n",
    "Table['Date']=R_0_vals['Date']\n",
    "infected_list=['USA infected', 'India infected', 'Brazil infected', 'Russia infected', 'Peru infected', 'Colombia infected', 'Turkey infected', 'Germany infected']\n",
    "for j in range(len(infected_list)):\n",
    "    for i in range(len(Table)):\n",
    "        if len(cases[j].loc[cases[j]['Date']==Table['Date'][i], 'Infected individuals'].values)>0:\n",
    "            Table[infected_list[j]][i]=cases[j].loc[cases[j]['Date']==Table['Date'][i], 'Infected individuals'].values[0]\n",
    "        else:\n",
    "            continue\n",
    "Table"
   ]
  },
  {
   "cell_type": "markdown",
   "metadata": {},
   "source": [
    "Az adattisztogatás végével itt jön az érdekesebb rész. Tekintjük, hogy a becsült $R_{0}$ segítségével várhatóan mennyi lehet a rákövetkező napon a fertőzöttek száma, majd ezt összevetjük a megfigyelt esetszámmal."
   ]
  },
  {
   "cell_type": "code",
   "execution_count": 31,
   "metadata": {},
   "outputs": [],
   "source": [
    "approximated=[0]\n",
    "for i in range(1,len(R_0_vals)):\n",
    "    approximated.append(R_0_vals['USA'][i]*Table['USA infected'][i])\n",
    "approximated \n",
    "approximated_data={\n",
    "    'approximated' : approximated,\n",
    "    'date' : R_0_vals['Date']\n",
    "}\n",
    "approximated_data=pd.DataFrame(approximated_data)\n",
    "approximated_data\n",
    "\n",
    "approximated_data.reset_index(inplace=True)\n",
    "approximated_data.set_index('date', inplace=True)"
   ]
  },
  {
   "cell_type": "code",
   "execution_count": 32,
   "metadata": {},
   "outputs": [],
   "source": [
    "Table.reset_index(inplace=True)\n",
    "Table.set_index('Date', inplace=True)"
   ]
  },
  {
   "cell_type": "code",
   "execution_count": 33,
   "metadata": {},
   "outputs": [],
   "source": [
    "Table1 = Table.iloc[[ i for i in range(0,25)]]\n",
    "Table2 = approximated_data.iloc[[ i for i in range(0,25)]]\n",
    "\n",
    "Table3 = Table.iloc[[ i for i in range(25,50)]]\n",
    "Table4 = approximated_data.iloc[[ i for i in range(25,50)]]\n",
    "\n",
    "Table5 = Table.iloc[[ i for i in range(50,75)]]\n",
    "Table6 = approximated_data.iloc[[ i for i in range(50,75)]]\n",
    "\n",
    "Table7 = Table.iloc[[ i for i in range(75,100)]]\n",
    "Table8 = approximated_data.iloc[[ i for i in range(75,100)]]\n",
    "\n",
    "Table9 = Table.iloc[[ i for i in range(100,125)]]\n",
    "Table10 = approximated_data.iloc[[ i for i in range(100,125)]]\n",
    "\n",
    "Table11 = Table.iloc[[ i for i in range(190,216)]]\n",
    "Table12 = approximated_data.iloc[[ i for i in range(190,216)]]"
   ]
  },
  {
   "cell_type": "code",
   "execution_count": 34,
   "metadata": {},
   "outputs": [
    {
     "data": {
      "image/png": "[encoded data removed]",
      "text/plain": [
       "<Figure size 1000x500 with 6 Axes>"
      ]
     },
     "metadata": {},
     "output_type": "display_data"
    }
   ],
   "source": [
    "import seaborn as sns\n",
    "import matplotlib.pyplot as plt\n",
    "\n",
    "fig, axs = plt.subplots(2,3, figsize=(10,5))\n",
    "\n",
    "sns.set_theme(style=\"darkgrid\")\n",
    "\n",
    "g1=sns.lineplot(data=Table1['USA infected'], linewidth=2.5, color='midnightblue', ax=axs[0,0])\n",
    "sns.lineplot(data=Table2['approximated'], linewidth=2.5, color='lightsteelblue', ax=axs[0,0])\n",
    "g1.set(xticks=[])\n",
    "axs[0,0].set_title('Első 25 nap')\n",
    "\n",
    "g2=sns.lineplot(data=Table3['USA infected'], linewidth=2.5, color='midnightblue', ax=axs[0,1])\n",
    "sns.lineplot(data=Table4['approximated'], linewidth=2.5, color='lightsteelblue', ax=axs[0,1])\n",
    "g2.set(xticks=[])\n",
    "axs[0,1].set_title('Második 25 nap')\n",
    "\n",
    "g3=sns.lineplot(data=Table5['USA infected'], linewidth=2.5, color='midnightblue', ax=axs[0,2])\n",
    "sns.lineplot(data=Table6['approximated'], linewidth=2.5, color='lightsteelblue', ax=axs[0,2])\n",
    "g3.set(xticks=[])\n",
    "axs[0,2].set_title('Harmadik 25 nap')\n",
    "\n",
    "g4=sns.lineplot(data=Table7['USA infected'], linewidth=2.5, color='midnightblue', ax=axs[1,0])\n",
    "sns.lineplot(data=Table8['approximated'], linewidth=2.5, color='lightsteelblue', ax=axs[1,0])\n",
    "g4.set(xticks=[])\n",
    "axs[1,0].set_title('Negyedik 25 nap')\n",
    "\n",
    "g5=sns.lineplot(data=Table9['USA infected'], linewidth=3, color='midnightblue', ax=axs[1,1])\n",
    "sns.lineplot(data=Table10['approximated'], linewidth=1, color='lightsteelblue', ax=axs[1,1])\n",
    "g5.set(xticks=[])\n",
    "axs[1,1].set_title('Ötödik 25 nap')\n",
    "\n",
    "g6=sns.lineplot(data=Table11['USA infected'], linewidth=3, color='midnightblue', ax=axs[1,2])\n",
    "sns.lineplot(data=Table12['approximated'], linewidth=1, color='lightsteelblue', ax=axs[1,2])\n",
    "g6.set(xticks=[])\n",
    "axs[1,2].set_title('Utolsó 25 nap')\n",
    "\n",
    "plt.tight_layout()\n",
    "plt.show()"
   ]
  },
  {
   "cell_type": "code",
   "execution_count": 38,
   "metadata": {},
   "outputs": [],
   "source": [
    "India_approximated=[0]\n",
    "for i in range(1,len(R_0_vals)):\n",
    "    India_approximated.append(R_0_vals['India'][i]*Table['India infected'][i])\n",
    "India_approximated \n",
    "India_approximated_data={\n",
    "    'approximated' : India_approximated,\n",
    "    'date' : R_0_vals['Date']\n",
    "}\n",
    "India_approximated_data=pd.DataFrame(approximated_data)\n",
    "\n",
    "India_approximated_data.reset_index(inplace=True)\n",
    "India_approximated_data.set_index('date', inplace=True)"
   ]
  },
  {
   "cell_type": "code",
   "execution_count": 39,
   "metadata": {},
   "outputs": [],
   "source": [
    "table1 = Table.iloc[[ i for i in range(0,25)]]\n",
    "table2 = India_approximated_data.iloc[[ i for i in range(0,25)]]\n",
    "\n",
    "table3 = Table.iloc[[ i for i in range(25,50)]]\n",
    "table4 = India_approximated_data.iloc[[ i for i in range(25,50)]]\n",
    "\n",
    "table5 = Table.iloc[[ i for i in range(50,75)]]\n",
    "table6 = India_approximated_data.iloc[[ i for i in range(50,75)]]\n",
    "\n",
    "table7 = Table.iloc[[ i for i in range(75,100)]]\n",
    "table8 = India_approximated_data.iloc[[ i for i in range(75,100)]]\n",
    "\n",
    "table9 = Table.iloc[[ i for i in range(100,125)]]\n",
    "table10 = India_approximated_data.iloc[[ i for i in range(100,125)]]\n",
    "\n",
    "table11 = Table.iloc[[ i for i in range(190,216)]]\n",
    "table12 = India_approximated_data.iloc[[ i for i in range(190,216)]]"
   ]
  },
  {
   "cell_type": "code",
   "execution_count": 41,
   "metadata": {},
   "outputs": [
    {
     "data": {
      "image/png": "[encoded data removed]",
      "text/plain": [
       "<Figure size 1000x500 with 6 Axes>"
      ]
     },
     "metadata": {},
     "output_type": "display_data"
    }
   ],
   "source": [
    "fig, axs = plt.subplots(2,3, figsize=(10,5))\n",
    "\n",
    "sns.set_theme(style=\"darkgrid\")\n",
    "\n",
    "h1=sns.lineplot(data=table1['India infected'], linewidth=2.5, color='sienna', ax=axs[0,0])\n",
    "sns.lineplot(data=table2['approximated'], linewidth=2.5, color='sandybrown', ax=axs[0,0])\n",
    "h1.set(xticks=[])\n",
    "axs[0,0].set_title('Első 25 nap')\n",
    "\n",
    "h2=sns.lineplot(data=table3['India infected'], linewidth=2.5, color='sienna', ax=axs[0,1])\n",
    "sns.lineplot(data=table4['approximated'], linewidth=2.5, color='sandybrown', ax=axs[0,1])\n",
    "h2.set(xticks=[])\n",
    "axs[0,1].set_title('Második 25 nap')\n",
    "\n",
    "h3=sns.lineplot(data=table5['India infected'], linewidth=2.5, color='sienna', ax=axs[0,2])\n",
    "sns.lineplot(data=table6['approximated'], linewidth=2.5, color='sandybrown', ax=axs[0,2])\n",
    "h3.set(xticks=[])\n",
    "axs[0,2].set_title('Harmadik 25 nap')\n",
    "\n",
    "h4=sns.lineplot(data=table7['India infected'], linewidth=2.5, color='sienna', ax=axs[1,0])\n",
    "sns.lineplot(data=table8['approximated'], linewidth=2.5, color='sandybrown', ax=axs[1,0])\n",
    "h4.set(xticks=[])\n",
    "axs[1,0].set_title('Negyedik 25 nap')\n",
    "\n",
    "h5=sns.lineplot(data=table9['India infected'], linewidth=2.5, color='sienna', ax=axs[1,1])\n",
    "sns.lineplot(data=table10['approximated'], linewidth=2.5, color='sandybrown', ax=axs[1,1])\n",
    "h5.set(xticks=[])\n",
    "axs[1,1].set_title('Ötödik 25 nap')\n",
    "\n",
    "h6=sns.lineplot(data=table11['India infected'], linewidth=2.5, color='sienna', ax=axs[1,2])\n",
    "sns.lineplot(data=table12['approximated'], linewidth=2.5, color='sandybrown', ax=axs[1,2])\n",
    "h6.set(xticks=[])\n",
    "axs[1,2].set_title('Utolsó 25 nap')\n",
    "\n",
    "plt.tight_layout()\n",
    "plt.show()"
   ]
  },
  {
   "cell_type": "code",
   "execution_count": null,
   "metadata": {},
   "outputs": [],
   "source": [
    "fig, ax = plt.subplots()\n",
    "sns.distplot(d, ax=ax)\n",
    "\n",
    "ax2 = plt.axes([0.2, 0.6, .2, .2], facecolor='y')\n",
    "sns.distplot(d, ax=ax2)\n",
    "ax2.set_title('zoom')\n",
    "ax2.set_xlim([0.9,1.])"
   ]
  },
  {
   "cell_type": "code",
   "execution_count": 169,
   "metadata": {},
   "outputs": [
    {
     "data": {
      "image/png": "[encoded data removed]",
      "text/plain": [
       "<Figure size 640x480 with 2 Axes>"
      ]
     },
     "metadata": {},
     "output_type": "display_data"
    }
   ],
   "source": [
    "import matplotlib.patches as mpatches\n",
    "\n",
    "fig, ax = plt.subplots()\n",
    "sns.set_theme(style='darkgrid')\n",
    "\n",
    "namelist=['USA', 'India', 'Brazil', 'Russia', 'Peru', 'Colombia', 'Turkey', 'Germany']\n",
    "colorlist=['midnightblue', 'sienna', 'seagreen', 'steelblue', 'indianred', 'orange',  'teal', 'dimgray']\n",
    "\n",
    "for i in range(len(namelist)):\n",
    "    sns.lineplot(data=R_0_vals[namelist[i]], linewidth=2.5, color=colorlist[i], label=namelist[i])\n",
    "\n",
    "plt.legend(loc=\"upper right\")\n",
    "plt.xlabel('The number of the day')\n",
    "plt.ylabel('R_0 values')\n",
    "plt.xlim(0,120)\n",
    "\n",
    "left, bottom, width, height = (40, 0, 20, 20)\n",
    "rect=mpatches.Rectangle((left,bottom),width,height,\n",
    "                        color=\"salmon\", alpha=0.2,\n",
    "                       linewidth=2)\n",
    "plt.gca().add_patch(rect)\n",
    "\n",
    "sns.set_theme(style='darkgrid')\n",
    "ax2 = plt.axes([1, 0.2, 0.5, 0.5])\n",
    "for i in range(len(namelist)):\n",
    "    sns.lineplot(R_0_vals[namelist[i]], linewidth=2, ax=ax2, color=colorlist[i])\n",
    "ax2.set_xlabel(None)\n",
    "ax2.set_ylabel(None)\n",
    "ax2.set_xlim([40,60])\n",
    "ax2.set_ylim([0,21])\n",
    "ax2.set_title('From day 40 to 60')\n",
    "\n",
    "plt.show()"
   ]
  },
  {
   "cell_type": "markdown",
   "metadata": {},
   "source": [
    "### Transmission Trees - A terjedés modellezése"
   ]
  },
  {
   "cell_type": "code",
   "execution_count": 22,
   "metadata": {},
   "outputs": [
    {
     "data": {
      "image/svg+xml": [
       "<?xml version=\"1.0\" encoding=\"UTF-8\" standalone=\"no\"?>\n",
       "<!DOCTYPE svg PUBLIC \"-//W3C//DTD SVG 1.1//EN\"\n",
       " \"http://www.w3.org/Graphics/SVG/1.1/DTD/svg11.dtd\">\n",
       "<!-- Generated by graphviz version 2.43.0 (0)\n",
       " -->\n",
       "<!-- Title: T1 Pages: 1 -->\n",
       "<svg width=\"352pt\" height=\"260pt\"\n",
       " viewBox=\"0.00 0.00 352.04 260.00\" xmlns=\"http://www.w3.org/2000/svg\" xmlns:xlink=\"http://www.w3.org/1999/xlink\">\n",
       "<g id=\"graph0\" class=\"graph\" transform=\"scale(1 1) rotate(0) translate(4 256)\">\n",
       "<title>T1</title>\n",
       "<polygon fill=\"white\" stroke=\"transparent\" points=\"-4,4 -4,-256 348.04,-256 348.04,4 -4,4\"/>\n",
       "<!-- Primary_1 -->\n",
       "<g id=\"node1\" class=\"node\">\n",
       "<title>Primary_1</title>\n",
       "<ellipse fill=\"cadetblue\" stroke=\"cadetblue\" cx=\"58.49\" cy=\"-198\" rx=\"58.49\" ry=\"18\"/>\n",
       "<text text-anchor=\"middle\" x=\"58.49\" y=\"-194.3\" font-family=\"Times,serif\" font-size=\"14.00\">Primary_1</text>\n",
       "</g>\n",
       "<!-- Secondary_1 -->\n",
       "<g id=\"node3\" class=\"node\">\n",
       "<title>Secondary_1</title>\n",
       "<ellipse fill=\"lightblue\" stroke=\"lightblue\" cx=\"274.49\" cy=\"-234\" rx=\"69.59\" ry=\"18\"/>\n",
       "<text text-anchor=\"middle\" x=\"274.49\" y=\"-230.3\" font-family=\"Times,serif\" font-size=\"14.00\">Secondary_1</text>\n",
       "</g>\n",
       "<!-- Primary_1&#45;&gt;Secondary_1 -->\n",
       "<g id=\"edge1\" class=\"edge\">\n",
       "<title>Primary_1&#45;&gt;Secondary_1</title>\n",
       "<path fill=\"none\" stroke=\"black\" d=\"M109.96,-206.58C138.67,-211.36 174.81,-217.39 205.9,-222.57\"/>\n",
       "<polygon fill=\"black\" stroke=\"black\" points=\"205.36,-226.03 215.8,-224.22 206.51,-219.12 205.36,-226.03\"/>\n",
       "</g>\n",
       "<!-- Secondary_2 -->\n",
       "<g id=\"node4\" class=\"node\">\n",
       "<title>Secondary_2</title>\n",
       "<ellipse fill=\"lightblue\" stroke=\"lightblue\" cx=\"274.49\" cy=\"-162\" rx=\"69.59\" ry=\"18\"/>\n",
       "<text text-anchor=\"middle\" x=\"274.49\" y=\"-158.3\" font-family=\"Times,serif\" font-size=\"14.00\">Secondary_2</text>\n",
       "</g>\n",
       "<!-- Primary_1&#45;&gt;Secondary_2 -->\n",
       "<g id=\"edge2\" class=\"edge\">\n",
       "<title>Primary_1&#45;&gt;Secondary_2</title>\n",
       "<path fill=\"none\" stroke=\"black\" d=\"M109.96,-189.42C138.67,-184.64 174.81,-178.61 205.9,-173.43\"/>\n",
       "<polygon fill=\"black\" stroke=\"black\" points=\"206.51,-176.88 215.8,-171.78 205.36,-169.97 206.51,-176.88\"/>\n",
       "</g>\n",
       "<!-- Primary_2 -->\n",
       "<g id=\"node2\" class=\"node\">\n",
       "<title>Primary_2</title>\n",
       "<ellipse fill=\"cadetblue\" stroke=\"cadetblue\" cx=\"58.49\" cy=\"-54\" rx=\"58.49\" ry=\"18\"/>\n",
       "<text text-anchor=\"middle\" x=\"58.49\" y=\"-50.3\" font-family=\"Times,serif\" font-size=\"14.00\">Primary_2</text>\n",
       "</g>\n",
       "<!-- Secondary_3 -->\n",
       "<g id=\"node5\" class=\"node\">\n",
       "<title>Secondary_3</title>\n",
       "<ellipse fill=\"lightblue\" stroke=\"lightblue\" cx=\"274.49\" cy=\"-90\" rx=\"69.59\" ry=\"18\"/>\n",
       "<text text-anchor=\"middle\" x=\"274.49\" y=\"-86.3\" font-family=\"Times,serif\" font-size=\"14.00\">Secondary_3</text>\n",
       "</g>\n",
       "<!-- Primary_2&#45;&gt;Secondary_3 -->\n",
       "<g id=\"edge3\" class=\"edge\">\n",
       "<title>Primary_2&#45;&gt;Secondary_3</title>\n",
       "<path fill=\"none\" stroke=\"black\" d=\"M109.96,-62.58C138.67,-67.36 174.81,-73.39 205.9,-78.57\"/>\n",
       "<polygon fill=\"black\" stroke=\"black\" points=\"205.36,-82.03 215.8,-80.22 206.51,-75.12 205.36,-82.03\"/>\n",
       "</g>\n",
       "<!-- Secondary_4 -->\n",
       "<g id=\"node6\" class=\"node\">\n",
       "<title>Secondary_4</title>\n",
       "<ellipse fill=\"lightblue\" stroke=\"lightblue\" cx=\"274.49\" cy=\"-18\" rx=\"69.59\" ry=\"18\"/>\n",
       "<text text-anchor=\"middle\" x=\"274.49\" y=\"-14.3\" font-family=\"Times,serif\" font-size=\"14.00\">Secondary_4</text>\n",
       "</g>\n",
       "<!-- Primary_2&#45;&gt;Secondary_4 -->\n",
       "<g id=\"edge4\" class=\"edge\">\n",
       "<title>Primary_2&#45;&gt;Secondary_4</title>\n",
       "<path fill=\"none\" stroke=\"black\" d=\"M109.96,-45.42C138.67,-40.64 174.81,-34.61 205.9,-29.43\"/>\n",
       "<polygon fill=\"black\" stroke=\"black\" points=\"206.51,-32.88 215.8,-27.78 205.36,-25.97 206.51,-32.88\"/>\n",
       "</g>\n",
       "</g>\n",
       "</svg>\n"
      ],
      "text/plain": [
       "<graphviz.graphs.Digraph at 0x7c75d93a2320>"
      ]
     },
     "metadata": {},
     "output_type": "display_data"
    }
   ],
   "source": [
    "import graphviz\n",
    "\n",
    "T1=graphviz.Digraph('T1', engine='neato')\n",
    "\n",
    "T1.node('Primary_1', pos='-2,1!', color='cadetblue', style='filled')\n",
    "T1.node('Primary_2', pos='-2,-1!', color='cadetblue', style='filled')\n",
    "T1.node('Secondary_1', pos='1,1.5!', color='lightblue', style='filled')\n",
    "T1.node('Secondary_2', pos='1,0.5!', color='lightblue', style='filled')\n",
    "T1.node('Secondary_3', pos='1,-0.5!', color='lightblue', style='filled')\n",
    "T1.node('Secondary_4', pos='1, -1.5!', color='lightblue', style='filled')\n",
    "\n",
    "T1.edge('Primary_1', 'Secondary_1') #, style='dashed')\n",
    "T1.edge('Primary_1', 'Secondary_2')\n",
    "T1.edge('Primary_2', 'Secondary_3')\n",
    "T1.edge('Primary_2', 'Secondary_4')\n",
    "\n",
    "display(T1)"
   ]
  },
  {
   "cell_type": "markdown",
   "metadata": {},
   "source": [
    "És akkor persze nézhetünk további lépcsőket: a másodlagos fertőzöttek elsődleges fertőzök lesznek. (Persze ez egy nagyon leegyszerűsített modell, mert a korábbi Primary-k is fertőzhetnek még, de ettől most eltekintünk)"
   ]
  },
  {
   "cell_type": "code",
   "execution_count": 23,
   "metadata": {},
   "outputs": [
    {
     "data": {
      "image/svg+xml": [
       "<?xml version=\"1.0\" encoding=\"UTF-8\" standalone=\"no\"?>\n",
       "<!DOCTYPE svg PUBLIC \"-//W3C//DTD SVG 1.1//EN\"\n",
       " \"http://www.w3.org/Graphics/SVG/1.1/DTD/svg11.dtd\">\n",
       "<!-- Generated by graphviz version 2.43.0 (0)\n",
       " -->\n",
       "<!-- Title: T2 Pages: 1 -->\n",
       "<svg width=\"578pt\" height=\"357pt\"\n",
       " viewBox=\"0.00 0.00 578.44 357.20\" xmlns=\"http://www.w3.org/2000/svg\" xmlns:xlink=\"http://www.w3.org/1999/xlink\">\n",
       "<g id=\"graph0\" class=\"graph\" transform=\"scale(1 1) rotate(0) translate(4 353.2)\">\n",
       "<title>T2</title>\n",
       "<polygon fill=\"white\" stroke=\"transparent\" points=\"-4,4 -4,-353.2 574.44,-353.2 574.44,4 -4,4\"/>\n",
       "<!-- Primary_1_0 -->\n",
       "<g id=\"node1\" class=\"node\">\n",
       "<title>Primary_1_0</title>\n",
       "<ellipse fill=\"teal\" stroke=\"teal\" cx=\"68.89\" cy=\"-259.2\" rx=\"68.79\" ry=\"18\"/>\n",
       "<text text-anchor=\"middle\" x=\"68.89\" y=\"-255.5\" font-family=\"Times,serif\" font-size=\"14.00\">Primary_1_0</text>\n",
       "</g>\n",
       "<!-- Primary_3_1 -->\n",
       "<g id=\"node3\" class=\"node\">\n",
       "<title>Primary_3_1</title>\n",
       "<ellipse fill=\"cadetblue\" stroke=\"cadetblue\" cx=\"284.89\" cy=\"-295.2\" rx=\"68.79\" ry=\"18\"/>\n",
       "<text text-anchor=\"middle\" x=\"284.89\" y=\"-291.5\" font-family=\"Times,serif\" font-size=\"14.00\">Primary_3_1</text>\n",
       "</g>\n",
       "<!-- Primary_1_0&#45;&gt;Primary_3_1 -->\n",
       "<g id=\"edge1\" class=\"edge\">\n",
       "<title>Primary_1_0&#45;&gt;Primary_3_1</title>\n",
       "<path fill=\"none\" stroke=\"black\" d=\"M127.06,-268.89C154.67,-273.5 187.84,-279.02 216.64,-283.82\"/>\n",
       "<polygon fill=\"black\" stroke=\"black\" points=\"216.18,-287.3 226.62,-285.49 217.33,-280.39 216.18,-287.3\"/>\n",
       "</g>\n",
       "<!-- Primary_4_1 -->\n",
       "<g id=\"node4\" class=\"node\">\n",
       "<title>Primary_4_1</title>\n",
       "<ellipse fill=\"cadetblue\" stroke=\"cadetblue\" cx=\"284.89\" cy=\"-223.2\" rx=\"68.79\" ry=\"18\"/>\n",
       "<text text-anchor=\"middle\" x=\"284.89\" y=\"-219.5\" font-family=\"Times,serif\" font-size=\"14.00\">Primary_4_1</text>\n",
       "</g>\n",
       "<!-- Primary_1_0&#45;&gt;Primary_4_1 -->\n",
       "<g id=\"edge2\" class=\"edge\">\n",
       "<title>Primary_1_0&#45;&gt;Primary_4_1</title>\n",
       "<path fill=\"none\" stroke=\"black\" d=\"M127.06,-249.51C154.67,-244.9 187.84,-239.38 216.64,-234.58\"/>\n",
       "<polygon fill=\"black\" stroke=\"black\" points=\"217.33,-238.01 226.62,-232.91 216.18,-231.1 217.33,-238.01\"/>\n",
       "</g>\n",
       "<!-- Primary_2_0 -->\n",
       "<g id=\"node2\" class=\"node\">\n",
       "<title>Primary_2_0</title>\n",
       "<ellipse fill=\"teal\" stroke=\"teal\" cx=\"68.89\" cy=\"-115.2\" rx=\"68.79\" ry=\"18\"/>\n",
       "<text text-anchor=\"middle\" x=\"68.89\" y=\"-111.5\" font-family=\"Times,serif\" font-size=\"14.00\">Primary_2_0</text>\n",
       "</g>\n",
       "<!-- Primary_5_1 -->\n",
       "<g id=\"node5\" class=\"node\">\n",
       "<title>Primary_5_1</title>\n",
       "<ellipse fill=\"cadetblue\" stroke=\"cadetblue\" cx=\"284.89\" cy=\"-151.2\" rx=\"68.79\" ry=\"18\"/>\n",
       "<text text-anchor=\"middle\" x=\"284.89\" y=\"-147.5\" font-family=\"Times,serif\" font-size=\"14.00\">Primary_5_1</text>\n",
       "</g>\n",
       "<!-- Primary_2_0&#45;&gt;Primary_5_1 -->\n",
       "<g id=\"edge3\" class=\"edge\">\n",
       "<title>Primary_2_0&#45;&gt;Primary_5_1</title>\n",
       "<path fill=\"none\" stroke=\"black\" d=\"M127.06,-124.89C154.67,-129.5 187.84,-135.02 216.64,-139.82\"/>\n",
       "<polygon fill=\"black\" stroke=\"black\" points=\"216.18,-143.3 226.62,-141.49 217.33,-136.39 216.18,-143.3\"/>\n",
       "</g>\n",
       "<!-- Primary_6_1 -->\n",
       "<g id=\"node6\" class=\"node\">\n",
       "<title>Primary_6_1</title>\n",
       "<ellipse fill=\"cadetblue\" stroke=\"cadetblue\" cx=\"284.89\" cy=\"-79.2\" rx=\"68.79\" ry=\"18\"/>\n",
       "<text text-anchor=\"middle\" x=\"284.89\" y=\"-75.5\" font-family=\"Times,serif\" font-size=\"14.00\">Primary_6_1</text>\n",
       "</g>\n",
       "<!-- Primary_2_0&#45;&gt;Primary_6_1 -->\n",
       "<g id=\"edge4\" class=\"edge\">\n",
       "<title>Primary_2_0&#45;&gt;Primary_6_1</title>\n",
       "<path fill=\"none\" stroke=\"black\" d=\"M127.06,-105.51C154.67,-100.9 187.84,-95.38 216.64,-90.58\"/>\n",
       "<polygon fill=\"black\" stroke=\"black\" points=\"217.33,-94.01 226.62,-88.91 216.18,-87.1 217.33,-94.01\"/>\n",
       "</g>\n",
       "<!-- Secondary_1 -->\n",
       "<g id=\"node7\" class=\"node\">\n",
       "<title>Secondary_1</title>\n",
       "<ellipse fill=\"lightblue\" stroke=\"lightblue\" cx=\"500.89\" cy=\"-331.2\" rx=\"69.59\" ry=\"18\"/>\n",
       "<text text-anchor=\"middle\" x=\"500.89\" y=\"-327.5\" font-family=\"Times,serif\" font-size=\"14.00\">Secondary_1</text>\n",
       "</g>\n",
       "<!-- Primary_3_1&#45;&gt;Secondary_1 -->\n",
       "<g id=\"edge5\" class=\"edge\">\n",
       "<title>Primary_3_1&#45;&gt;Secondary_1</title>\n",
       "<path fill=\"none\" stroke=\"black\" d=\"M343.06,-304.89C370.56,-309.48 403.57,-314.98 432.29,-319.77\"/>\n",
       "<polygon fill=\"black\" stroke=\"black\" points=\"431.81,-323.23 442.25,-321.43 432.96,-316.33 431.81,-323.23\"/>\n",
       "</g>\n",
       "<!-- Secondary_2 -->\n",
       "<g id=\"node8\" class=\"node\">\n",
       "<title>Secondary_2</title>\n",
       "<ellipse fill=\"lightblue\" stroke=\"lightblue\" cx=\"500.89\" cy=\"-288\" rx=\"69.59\" ry=\"18\"/>\n",
       "<text text-anchor=\"middle\" x=\"500.89\" y=\"-284.3\" font-family=\"Times,serif\" font-size=\"14.00\">Secondary_2</text>\n",
       "</g>\n",
       "<!-- Primary_3_1&#45;&gt;Secondary_2 -->\n",
       "<g id=\"edge6\" class=\"edge\">\n",
       "<title>Primary_3_1&#45;&gt;Secondary_2</title>\n",
       "<path fill=\"none\" stroke=\"black\" d=\"M353.24,-292.92C375,-292.2 399.25,-291.39 421.7,-290.64\"/>\n",
       "<polygon fill=\"black\" stroke=\"black\" points=\"422,-294.13 431.88,-290.3 421.77,-287.14 422,-294.13\"/>\n",
       "</g>\n",
       "<!-- Secondary_3 -->\n",
       "<g id=\"node9\" class=\"node\">\n",
       "<title>Secondary_3</title>\n",
       "<ellipse fill=\"lightblue\" stroke=\"lightblue\" cx=\"500.89\" cy=\"-241.2\" rx=\"69.59\" ry=\"18\"/>\n",
       "<text text-anchor=\"middle\" x=\"500.89\" y=\"-237.5\" font-family=\"Times,serif\" font-size=\"14.00\">Secondary_3</text>\n",
       "</g>\n",
       "<!-- Primary_4_1&#45;&gt;Secondary_3 -->\n",
       "<g id=\"edge7\" class=\"edge\">\n",
       "<title>Primary_4_1&#45;&gt;Secondary_3</title>\n",
       "<path fill=\"none\" stroke=\"black\" d=\"M350.58,-228.67C373.82,-230.61 400.17,-232.81 424.24,-234.81\"/>\n",
       "<polygon fill=\"black\" stroke=\"black\" points=\"424.15,-238.32 434.4,-235.66 424.73,-231.34 424.15,-238.32\"/>\n",
       "</g>\n",
       "<!-- Secondary_4 -->\n",
       "<g id=\"node10\" class=\"node\">\n",
       "<title>Secondary_4</title>\n",
       "<ellipse fill=\"lightblue\" stroke=\"lightblue\" cx=\"500.89\" cy=\"-198\" rx=\"69.59\" ry=\"18\"/>\n",
       "<text text-anchor=\"middle\" x=\"500.89\" y=\"-194.3\" font-family=\"Times,serif\" font-size=\"14.00\">Secondary_4</text>\n",
       "</g>\n",
       "<!-- Primary_4_1&#45;&gt;Secondary_4 -->\n",
       "<g id=\"edge8\" class=\"edge\">\n",
       "<title>Primary_4_1&#45;&gt;Secondary_4</title>\n",
       "<path fill=\"none\" stroke=\"black\" d=\"M347.95,-215.84C372.79,-212.94 401.5,-209.6 427.29,-206.59\"/>\n",
       "<polygon fill=\"black\" stroke=\"black\" points=\"427.86,-210.04 437.38,-205.41 427.05,-203.09 427.86,-210.04\"/>\n",
       "</g>\n",
       "<!-- Secondary_5 -->\n",
       "<g id=\"node11\" class=\"node\">\n",
       "<title>Secondary_5</title>\n",
       "<ellipse fill=\"lightblue\" stroke=\"lightblue\" cx=\"500.89\" cy=\"-151.2\" rx=\"69.59\" ry=\"18\"/>\n",
       "<text text-anchor=\"middle\" x=\"500.89\" y=\"-147.5\" font-family=\"Times,serif\" font-size=\"14.00\">Secondary_5</text>\n",
       "</g>\n",
       "<!-- Primary_5_1&#45;&gt;Secondary_5 -->\n",
       "<g id=\"edge9\" class=\"edge\">\n",
       "<title>Primary_5_1&#45;&gt;Secondary_5</title>\n",
       "<path fill=\"none\" stroke=\"black\" d=\"M353.83,-151.2C375.24,-151.2 399.03,-151.2 421.11,-151.2\"/>\n",
       "<polygon fill=\"black\" stroke=\"black\" points=\"421.13,-154.7 431.13,-151.2 421.13,-147.7 421.13,-154.7\"/>\n",
       "</g>\n",
       "<!-- Secondary_6 -->\n",
       "<g id=\"node12\" class=\"node\">\n",
       "<title>Secondary_6</title>\n",
       "<ellipse fill=\"lightblue\" stroke=\"lightblue\" cx=\"500.89\" cy=\"-108\" rx=\"69.59\" ry=\"18\"/>\n",
       "<text text-anchor=\"middle\" x=\"500.89\" y=\"-104.3\" font-family=\"Times,serif\" font-size=\"14.00\">Secondary_6</text>\n",
       "</g>\n",
       "<!-- Primary_5_1&#45;&gt;Secondary_6 -->\n",
       "<g id=\"edge10\" class=\"edge\">\n",
       "<title>Primary_5_1&#45;&gt;Secondary_6</title>\n",
       "<path fill=\"none\" stroke=\"black\" d=\"M339.68,-140.24C368.87,-134.4 404.99,-127.18 435.63,-121.05\"/>\n",
       "<polygon fill=\"black\" stroke=\"black\" points=\"436.67,-124.41 445.79,-119.02 435.3,-117.55 436.67,-124.41\"/>\n",
       "</g>\n",
       "<!-- Secondary_7 -->\n",
       "<g id=\"node13\" class=\"node\">\n",
       "<title>Secondary_7</title>\n",
       "<ellipse fill=\"lightblue\" stroke=\"lightblue\" cx=\"500.89\" cy=\"-61.2\" rx=\"69.59\" ry=\"18\"/>\n",
       "<text text-anchor=\"middle\" x=\"500.89\" y=\"-57.5\" font-family=\"Times,serif\" font-size=\"14.00\">Secondary_7</text>\n",
       "</g>\n",
       "<!-- Primary_6_1&#45;&gt;Secondary_7 -->\n",
       "<g id=\"edge11\" class=\"edge\">\n",
       "<title>Primary_6_1&#45;&gt;Secondary_7</title>\n",
       "<path fill=\"none\" stroke=\"black\" d=\"M350.58,-73.73C373.82,-71.79 400.17,-69.59 424.24,-67.59\"/>\n",
       "<polygon fill=\"black\" stroke=\"black\" points=\"424.73,-71.06 434.4,-66.74 424.15,-64.08 424.73,-71.06\"/>\n",
       "</g>\n",
       "<!-- Secondary_8 -->\n",
       "<g id=\"node14\" class=\"node\">\n",
       "<title>Secondary_8</title>\n",
       "<ellipse fill=\"lightblue\" stroke=\"lightblue\" cx=\"500.89\" cy=\"-18\" rx=\"69.59\" ry=\"18\"/>\n",
       "<text text-anchor=\"middle\" x=\"500.89\" y=\"-14.3\" font-family=\"Times,serif\" font-size=\"14.00\">Secondary_8</text>\n",
       "</g>\n",
       "<!-- Primary_6_1&#45;&gt;Secondary_8 -->\n",
       "<g id=\"edge12\" class=\"edge\">\n",
       "<title>Primary_6_1&#45;&gt;Secondary_8</title>\n",
       "<path fill=\"none\" stroke=\"black\" d=\"M331.76,-65.92C364.63,-56.61 408.75,-44.11 443.69,-34.21\"/>\n",
       "<polygon fill=\"black\" stroke=\"black\" points=\"445.08,-37.45 453.74,-31.36 443.17,-30.72 445.08,-37.45\"/>\n",
       "</g>\n",
       "</g>\n",
       "</svg>\n"
      ],
      "text/plain": [
       "<graphviz.graphs.Digraph at 0x7c75d9028d90>"
      ]
     },
     "metadata": {},
     "output_type": "display_data"
    }
   ],
   "source": [
    "T2=graphviz.Digraph('T2', engine='neato')\n",
    "\n",
    "T2.node('Primary_1_0', pos='-2,2!', color='teal', style='filled')\n",
    "T2.node('Primary_2_0', pos='-2,0!', color='teal', style='filled')\n",
    "\n",
    "T2.node('Primary_3_1', pos='1,2.5!', color='cadetblue', style='filled')\n",
    "T2.node('Primary_4_1', pos='1,1.5!', color='cadetblue', style='filled')\n",
    "T2.node('Primary_5_1', pos='1,0.5!', color='cadetblue', style='filled')\n",
    "T2.node('Primary_6_1', pos='1, -0.5!', color='cadetblue', style='filled')\n",
    "\n",
    "T2.node('Secondary_1', pos='4,3!', color='lightblue', style='filled')\n",
    "T2.node('Secondary_2', pos='4,2.4!', color='lightblue', style='filled')\n",
    "T2.node('Secondary_3', pos='4,1.75!', color='lightblue', style='filled')\n",
    "T2.node('Secondary_4', pos='4,1.15!', color='lightblue', style='filled')\n",
    "T2.node('Secondary_5', pos='4,0.5!', color='lightblue', style='filled')\n",
    "T2.node('Secondary_6', pos='4, -0.1!', color='lightblue', style='filled')\n",
    "T2.node('Secondary_7', pos='4,-0.75!', color='lightblue', style='filled')\n",
    "T2.node('Secondary_8', pos='4, -1.35!', color='lightblue', style='filled')\n",
    "\n",
    "T2.edge('Primary_1_0', 'Primary_3_1') #, style='dashed')\n",
    "T2.edge('Primary_1_0', 'Primary_4_1')\n",
    "T2.edge('Primary_2_0', 'Primary_5_1')\n",
    "T2.edge('Primary_2_0', 'Primary_6_1')\n",
    "\n",
    "T2.edge('Primary_3_1', 'Secondary_1')\n",
    "T2.edge('Primary_3_1', 'Secondary_2')\n",
    "T2.edge('Primary_4_1', 'Secondary_3')\n",
    "T2.edge('Primary_4_1', 'Secondary_4')\n",
    "T2.edge('Primary_5_1', 'Secondary_5')\n",
    "T2.edge('Primary_5_1', 'Secondary_6')\n",
    "T2.edge('Primary_6_1', 'Secondary_7')\n",
    "T2.edge('Primary_6_1', 'Secondary_8')\n",
    "\n",
    "display(T2)"
   ]
  },
  {
   "cell_type": "markdown",
   "metadata": {},
   "source": [
    "**Hol jön be itt az $R_{0}$?**  \n",
    "Egy ilyen 'transmission tree' rendszerint nem figyelhető meg, hacsak nem hajtanak végre szigorú kontakt nyomonkövetést mikrobiológiai vizsgálattal. Ehelyett egy valószínűségszámítás alapú rekonstrukciót csinálnak."
   ]
  },
  {
   "cell_type": "markdown",
   "metadata": {},
   "source": [
    "A másik, nem levezetett becslés, (ami $R_{a}$-t használja) átvihető diszkrét esetbe. Ez kell is, mivel az adatokat évente nézzük. Ekkor a becsült $R_{0}$ érték:"
   ]
  },
  {
   "cell_type": "code",
   "execution_count": 24,
   "metadata": {},
   "outputs": [
    {
     "data": {
      "text/latex": [
       "$\\displaystyle R_{0} = \\frac{j_{t}}{\\sum_{s=0}^{\\infty} g_{s} j_{t-s}}$"
      ],
      "text/plain": [
       "Eq(R_0, j_t/Sum(g_s*j_t-s, (s, 0, oo)))"
      ]
     },
     "metadata": {},
     "output_type": "display_data"
    },
    {
     "data": {
      "text/latex": [
       "$\\displaystyle \\frac{1}{R_{0}} = \\frac{\\sum_{s=0}^{\\infty} g_{s} j_{t-s}}{j_{t}}$"
      ],
      "text/plain": [
       "Eq(1/R_0, Sum(g_s*j_t-s, (s, 0, oo))/j_t)"
      ]
     },
     "metadata": {},
     "output_type": "display_data"
    }
   ],
   "source": [
    "j_t=sp.Symbol('j_t')\n",
    "j_t_s=sp.Symbol('j_t-s')\n",
    "g_s=sp.Symbol('g_s')\n",
    "\n",
    "display(sp.Equality(R_0, j_t/sp.Sum(g_s*j_t_s, (s, 0, sp.oo))))\n",
    "display(sp.Equality(1/R_0, sp.Sum(g_s*j_t_s, (s, 0, sp.oo))/j_t))"
   ]
  },
  {
   "cell_type": "markdown",
   "metadata": {},
   "source": [
    "Ha ennek az egyenletnek vesszük a reciprokát, akkor az egyenlőség jobboldalán álló kifejezés  \n",
    "--számlálója: a potenciális elsődlegesen fertőzöttek kapcsolatfelvételének száma, ami egyenlős valószínúséggel eredményez másodlagos fertőződést  \n",
    "--nevezője: a másodlagos fertőzések száma  \n",
    "Így ez a kifejezés a sikeres továbbfertőzés valószínűségét fejezi ki, ami így a baloldal szerint $\\frac{1}{R_{0}}$"
   ]
  },
  {
   "cell_type": "markdown",
   "metadata": {},
   "source": [
    "\n",
    "Ha figyelembe vesszük a hányados által meghatározott valószínűséget, akkor adhatunk egy várható értéket a következőleg megfertőzödöttek számára. Ekkor nem teljesen úgy fog kinézni az ábránk, mint a korábbiakban."
   ]
  },
  {
   "cell_type": "code",
   "execution_count": 25,
   "metadata": {},
   "outputs": [
    {
     "data": {
      "image/svg+xml": [
       "<?xml version=\"1.0\" encoding=\"UTF-8\" standalone=\"no\"?>\n",
       "<!DOCTYPE svg PUBLIC \"-//W3C//DTD SVG 1.1//EN\"\n",
       " \"http://www.w3.org/Graphics/SVG/1.1/DTD/svg11.dtd\">\n",
       "<!-- Generated by graphviz version 2.43.0 (0)\n",
       " -->\n",
       "<!-- Title: T3 Pages: 1 -->\n",
       "<svg width=\"352pt\" height=\"260pt\"\n",
       " viewBox=\"0.00 0.00 352.04 260.00\" xmlns=\"http://www.w3.org/2000/svg\" xmlns:xlink=\"http://www.w3.org/1999/xlink\">\n",
       "<g id=\"graph0\" class=\"graph\" transform=\"scale(1 1) rotate(0) translate(4 256)\">\n",
       "<title>T3</title>\n",
       "<polygon fill=\"white\" stroke=\"transparent\" points=\"-4,4 -4,-256 348.04,-256 348.04,4 -4,4\"/>\n",
       "<!-- Primary_1 -->\n",
       "<g id=\"node1\" class=\"node\">\n",
       "<title>Primary_1</title>\n",
       "<ellipse fill=\"tan\" stroke=\"tan\" cx=\"58.49\" cy=\"-198\" rx=\"58.49\" ry=\"18\"/>\n",
       "<text text-anchor=\"middle\" x=\"58.49\" y=\"-194.3\" font-family=\"Times,serif\" font-size=\"14.00\">Primary_1</text>\n",
       "</g>\n",
       "<!-- Secondary_2 -->\n",
       "<g id=\"node4\" class=\"node\">\n",
       "<title>Secondary_2</title>\n",
       "<ellipse fill=\"wheat\" stroke=\"wheat\" cx=\"274.49\" cy=\"-162\" rx=\"69.59\" ry=\"18\"/>\n",
       "<text text-anchor=\"middle\" x=\"274.49\" y=\"-158.3\" font-family=\"Times,serif\" font-size=\"14.00\">Secondary_2</text>\n",
       "</g>\n",
       "<!-- Primary_1&#45;&gt;Secondary_2 -->\n",
       "<g id=\"edge1\" class=\"edge\">\n",
       "<title>Primary_1&#45;&gt;Secondary_2</title>\n",
       "<path fill=\"none\" stroke=\"black\" stroke-dasharray=\"5,2\" d=\"M109.96,-189.42C138.67,-184.64 174.81,-178.61 205.9,-173.43\"/>\n",
       "<polygon fill=\"black\" stroke=\"black\" points=\"206.51,-176.88 215.8,-171.78 205.36,-169.97 206.51,-176.88\"/>\n",
       "<text text-anchor=\"middle\" x=\"137.93\" y=\"-185.23\" font-family=\"Times,serif\" font-size=\"14.00\">1/R_0</text>\n",
       "</g>\n",
       "<!-- Primary_2 -->\n",
       "<g id=\"node2\" class=\"node\">\n",
       "<title>Primary_2</title>\n",
       "<ellipse fill=\"tan\" stroke=\"tan\" cx=\"58.49\" cy=\"-54\" rx=\"58.49\" ry=\"18\"/>\n",
       "<text text-anchor=\"middle\" x=\"58.49\" y=\"-50.3\" font-family=\"Times,serif\" font-size=\"14.00\">Primary_2</text>\n",
       "</g>\n",
       "<!-- Primary_2&#45;&gt;Secondary_2 -->\n",
       "<g id=\"edge2\" class=\"edge\">\n",
       "<title>Primary_2&#45;&gt;Secondary_2</title>\n",
       "<path fill=\"none\" stroke=\"black\" stroke-dasharray=\"5,2\" d=\"M89.44,-69.47C127.18,-88.34 191.12,-120.31 233.07,-141.29\"/>\n",
       "<polygon fill=\"black\" stroke=\"black\" points=\"231.68,-144.51 242.19,-145.85 234.81,-138.25 231.68,-144.51\"/>\n",
       "<text text-anchor=\"middle\" x=\"141.26\" y=\"-109.18\" font-family=\"Times,serif\" font-size=\"14.00\">1/R_0</text>\n",
       "</g>\n",
       "<!-- Secondary_1 -->\n",
       "<g id=\"node3\" class=\"node\">\n",
       "<title>Secondary_1</title>\n",
       "<ellipse fill=\"wheat\" stroke=\"wheat\" cx=\"274.49\" cy=\"-234\" rx=\"69.59\" ry=\"18\"/>\n",
       "<text text-anchor=\"middle\" x=\"274.49\" y=\"-230.3\" font-family=\"Times,serif\" font-size=\"14.00\">Secondary_1</text>\n",
       "</g>\n",
       "<!-- Secondary_3 -->\n",
       "<g id=\"node5\" class=\"node\">\n",
       "<title>Secondary_3</title>\n",
       "<ellipse fill=\"wheat\" stroke=\"wheat\" cx=\"274.49\" cy=\"-90\" rx=\"69.59\" ry=\"18\"/>\n",
       "<text text-anchor=\"middle\" x=\"274.49\" y=\"-86.3\" font-family=\"Times,serif\" font-size=\"14.00\">Secondary_3</text>\n",
       "</g>\n",
       "<!-- Secondary_4 -->\n",
       "<g id=\"node6\" class=\"node\">\n",
       "<title>Secondary_4</title>\n",
       "<ellipse fill=\"wheat\" stroke=\"wheat\" cx=\"274.49\" cy=\"-18\" rx=\"69.59\" ry=\"18\"/>\n",
       "<text text-anchor=\"middle\" x=\"274.49\" y=\"-14.3\" font-family=\"Times,serif\" font-size=\"14.00\">Secondary_4</text>\n",
       "</g>\n",
       "</g>\n",
       "</svg>\n"
      ],
      "text/plain": [
       "<graphviz.graphs.Digraph at 0x7c75d90298d0>"
      ]
     },
     "metadata": {},
     "output_type": "display_data"
    }
   ],
   "source": [
    "T3=graphviz.Digraph('T3', engine='neato')\n",
    "\n",
    "T3.node('Primary_1', pos='-2,1!', color='tan', style='filled')\n",
    "T3.node('Primary_2', pos='-2,-1!', color='tan', style='filled')\n",
    "T3.node('Secondary_1', pos='1,1.5!', color='wheat', style='filled')\n",
    "T3.node('Secondary_2', pos='1,0.5!', color='wheat', style='filled')\n",
    "T3.node('Secondary_3', pos='1,-0.5!', color='wheat', style='filled')\n",
    "T3.node('Secondary_4', pos='1, -1.5!', color='wheat', style='filled')\n",
    "\n",
    "T3.edge('Primary_1', 'Secondary_2', style='dashed', xlabel=f'{sp.cancel(1/R_0)}')\n",
    "T3.edge('Primary_2', 'Secondary_2', style='dashed', xlabel=f'{sp.cancel(1/R_0)}')\n",
    "\n",
    "display(T3)"
   ]
  }
 ],
 "metadata": {
  "kernelspec": {
   "display_name": "Python 3",
   "language": "python",
   "name": "python3"
  },
  "language_info": {
   "codemirror_mode": {
    "name": "ipython",
    "version": 3
   },
   "file_extension": ".py",
   "mimetype": "text/x-python",
   "name": "python",
   "nbconvert_exporter": "python",
   "pygments_lexer": "ipython3",
   "version": "3.10.12"
  }
 },
 "nbformat": 4,
 "nbformat_minor": 2
}
