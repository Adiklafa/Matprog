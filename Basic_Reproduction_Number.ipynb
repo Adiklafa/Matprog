{
 "cells": [
  {
   "cell_type": "markdown",
   "metadata": {},
   "source": [
    "## $R_{0}$ Becslése\n",
    "\n",
    "Két gyakran használt statisztikai becslési módszert fogunk megvizsgálni:  \n",
    "(1) Exponenciális növekedési ütem alkalmazása $R_{0}$ becslésére (_exponential growth rate_)  \n",
    "(2) Tényleges 'szaporodási' számmal való közelítés  \n",
    "\n"
   ]
  },
  {
   "cell_type": "markdown",
   "metadata": {},
   "source": [
    "**(1) Módszer alkalmazása**  \n",
    "Két statisztikai lépésben végezhető el ez a becslés: megbecsüljük az exponenciális növekedési ütemet, amit _r_ jelöl, majd _r_ segítségével kiszámítjuk $R_{0}$ értéket."
   ]
  },
  {
   "cell_type": "code",
   "execution_count": 47,
   "metadata": {},
   "outputs": [
    {
     "data": {
      "text/latex": [
       "$\\displaystyle j{\\left(t \\right)} = \\int\\limits_{0}^{\\infty} A{\\left(τ \\right)} j{\\left(t - τ \\right)}\\, dτ$"
      ],
      "text/plain": [
       "Eq(j(t), Integral(A(τ)*j(t - τ), (τ, 0, oo)))"
      ]
     },
     "execution_count": 47,
     "metadata": {},
     "output_type": "execute_result"
    }
   ],
   "source": [
    "import sympy as sp\n",
    "\n",
    "t=sp.Symbol('t')\n",
    "j=sp.Function('j')\n",
    "tau=sp.symbols(u'τ') #megfertőződés óta eltelt idő\n",
    "A=sp.Function('A')\n",
    "\n",
    "\n",
    "val=sp.integrate(A(tau)*j(t-tau), (tau, 0, sp.oo))\n",
    "\n",
    "expr1=sp.Equality(j(t), val)\n",
    "expr1"
   ]
  },
  {
   "cell_type": "markdown",
   "metadata": {},
   "source": [
    "Ha feltesszük, hogy a járvány kezdetekor $j(t)$ exponenciálisan növekedő _r_ sebességgel (ami az exponenciális növekedési ütem),  \n",
    "akkor ebben az esetben könnyen megkapható $A(\\tau)$"
   ]
  },
  {
   "cell_type": "code",
   "execution_count": 37,
   "metadata": {},
   "outputs": [
    {
     "data": {
      "text/latex": [
       "$\\displaystyle j{\\left(t \\right)} = k e^{r t}$"
      ],
      "text/plain": [
       "Eq(j(t), k*exp(r*t))"
      ]
     },
     "metadata": {},
     "output_type": "display_data"
    },
    {
     "data": {
      "text/latex": [
       "$\\displaystyle j{\\left(t - τ \\right)} = k e^{r t} e^{- r τ}$"
      ],
      "text/plain": [
       "Eq(j(t - τ), k*exp(r*t)*exp(-r*τ))"
      ]
     },
     "metadata": {},
     "output_type": "display_data"
    }
   ],
   "source": [
    "k=sp.Symbol('k')\n",
    "r=sp.Symbol('r')\n",
    "expr2=sp.Equality(j(t), k*sp.E**(r*t))\n",
    "expr3=sp.Equality(j(t-tau), k*sp.E**(r*t)*sp.E**(-r*tau))\n",
    "\n",
    "display(expr2,expr3)"
   ]
  },
  {
   "cell_type": "markdown",
   "metadata": {},
   "source": [
    "Egy egyszerű behelyettesítéssel megkaphatjuk:"
   ]
  },
  {
   "cell_type": "code",
   "execution_count": 39,
   "metadata": {},
   "outputs": [
    {
     "data": {
      "text/latex": [
       "$\\displaystyle k e^{r t} = k e^{r t} \\int\\limits_{0}^{\\infty} A{\\left(τ \\right)} e^{- r τ}\\, dτ$"
      ],
      "text/plain": [
       "Eq(k*exp(r*t), k*exp(r*t)*Integral(A(τ)*exp(-r*τ), (τ, 0, oo)))"
      ]
     },
     "metadata": {},
     "output_type": "display_data"
    }
   ],
   "source": [
    "expr4=sp.Equality(k*sp.E**(r*t), sp.integrate(A(tau)*k*sp.E**(r*t)*sp.E**(-r*tau), (tau, 0, sp.oo)))\n",
    "display(expr4)"
   ]
  },
  {
   "cell_type": "markdown",
   "metadata": {},
   "source": [
    "Mivel a sympy rendkívűl okos, ki is hozta az integrálból azokat a tagokat, amik nem függnek $\\tau$-tól. Egy egyszerű átosztással pedig a következő egyenlőséget kapjuk:"
   ]
  },
  {
   "cell_type": "code",
   "execution_count": 46,
   "metadata": {},
   "outputs": [
    {
     "data": {
      "text/latex": [
       "$\\displaystyle 1 = \\int\\limits_{0}^{\\infty} A{\\left(τ \\right)} e^{- r τ}\\, dτ$"
      ],
      "text/plain": [
       "Eq(1, Integral(A(τ)*exp(-r*τ), (τ, 0, oo)))"
      ]
     },
     "metadata": {},
     "output_type": "display_data"
    }
   ],
   "source": [
    "expr5=sp.Equality(1, sp.integrate(A(tau)*sp.E**(-r*tau), (tau, 0, sp.oo)))\n",
    "display(expr5)"
   ]
  },
  {
   "cell_type": "markdown",
   "metadata": {},
   "source": [
    "Mostmár közel vagyunk ahhoz, hogy meghatározzuk $A(\\tau)$-t és onnan már egy egyszerű lépés, hogy kapjunk egy értéket $R_{0}$-ra is. Ehhez vesszük $g(\\tau)$ függvényt, ami 'generálódási' idő sűrűségfüggvénye, azaz azt mondja meg, hogy $\\tau$ idő alatt mennyire gyakori a másodlagos megbetegedések száma."
   ]
  },
  {
   "cell_type": "code",
   "execution_count": 52,
   "metadata": {},
   "outputs": [
    {
     "data": {
      "text/latex": [
       "$\\displaystyle g{\\left(τ \\right)} = \\frac{A{\\left(τ \\right)}}{\\int\\limits_{0}^{\\infty} A{\\left(s \\right)}\\, ds}$"
      ],
      "text/plain": [
       "Eq(g(τ), A(τ)/Integral(A(s), (s, 0, oo)))"
      ]
     },
     "metadata": {},
     "output_type": "display_data"
    }
   ],
   "source": [
    "g=sp.Function('g')\n",
    "s=sp.Symbol('s')\n",
    "expr6=sp.Equality(g(tau), A(tau)/sp.integrate(A(s), (s, 0, sp.oo)))\n",
    "display(expr6)"
   ]
  },
  {
   "cell_type": "markdown",
   "metadata": {},
   "source": [
    "Itt a nevező jelentése: az összes elsődlegesen megfertőzödött egyén által megfertőzött másodlagos fertőzések száma, ami a definícionk alapján pont $R_{0}$. Vagyis azt kapjuk, hogy:"
   ]
  },
  {
   "cell_type": "code",
   "execution_count": 57,
   "metadata": {},
   "outputs": [
    {
     "data": {
      "text/latex": [
       "$\\displaystyle g{\\left(τ \\right)} = \\frac{A{\\left(τ \\right)}}{R_{0}}$"
      ],
      "text/plain": [
       "Eq(g(τ), A(τ)/R_0)"
      ]
     },
     "metadata": {},
     "output_type": "display_data"
    },
    {
     "data": {
      "text/latex": [
       "$\\displaystyle A{\\left(τ \\right)} = R_{0} g{\\left(τ \\right)}$"
      ],
      "text/plain": [
       "Eq(A(τ), R_0*g(τ))"
      ]
     },
     "metadata": {},
     "output_type": "display_data"
    }
   ],
   "source": [
    "R_0=sp.Symbol('R_0')\n",
    "expr7=sp.Equality(g(tau), A(tau)/R_0)\n",
    "expr8=sp.Equality(A(tau), R_0*g(tau))\n",
    "display(expr7, expr8)"
   ]
  },
  {
   "cell_type": "markdown",
   "metadata": {},
   "source": [
    "Ezt visszahelyettesítve az (5)-ös egyenletünkbe megkapjuk:"
   ]
  },
  {
   "cell_type": "code",
   "execution_count": 62,
   "metadata": {},
   "outputs": [
    {
     "data": {
      "text/latex": [
       "$\\displaystyle 1 = R_{0} \\int\\limits_{0}^{\\infty} g{\\left(τ \\right)} e^{- r τ}\\, dτ$"
      ],
      "text/plain": [
       "Eq(1, R_0*Integral(g(τ)*exp(-r*τ), (τ, 0, oo)))"
      ]
     },
     "metadata": {},
     "output_type": "display_data"
    },
    {
     "data": {
      "text/latex": [
       "$\\displaystyle R_{0} = \\frac{1}{\\int\\limits_{0}^{\\infty} g{\\left(τ \\right)} e^{- r τ}\\, dτ}$"
      ],
      "text/plain": [
       "Eq(R_0, 1/Integral(g(τ)*exp(-r*τ), (τ, 0, oo)))"
      ]
     },
     "metadata": {},
     "output_type": "display_data"
    }
   ],
   "source": [
    "expr9=sp.Equality(1, sp.integrate(R_0*g(tau)*sp.E**(-r*tau), (tau, 0, sp.oo)))\n",
    "expr10=sp.Equality(R_0, 1/sp.integrate(g(tau)*sp.E**(-r*tau), (tau, 0, sp.oo)))\n",
    "display(expr9, expr10)"
   ]
  }
 ],
 "metadata": {
  "kernelspec": {
   "display_name": "Python 3",
   "language": "python",
   "name": "python3"
  },
  "language_info": {
   "codemirror_mode": {
    "name": "ipython",
    "version": 3
   },
   "file_extension": ".py",
   "mimetype": "text/x-python",
   "name": "python",
   "nbconvert_exporter": "python",
   "pygments_lexer": "ipython3",
   "version": "3.10.12"
  }
 },
 "nbformat": 4,
 "nbformat_minor": 2
}
