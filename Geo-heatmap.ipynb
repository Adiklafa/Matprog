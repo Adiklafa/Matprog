{
 "cells": [
  {
   "cell_type": "code",
   "execution_count": 96,
   "metadata": {},
   "outputs": [],
   "source": [
    "import numpy as np\n",
    "import pandas as pd\n",
    "from matplotlib import pyplot as plt\n",
    "import ipywidgets as widgets\n",
    "from bokeh.io import output_notebook, show, output_file\n",
    "from bokeh.plotting import figure, ColumnDataSource\n",
    "from bokeh.tile_providers import get_provider, Vendors\n",
    "from bokeh.palettes import PRGn, RdYlGn, mpl\n",
    "from bokeh.transform import linear_cmap,factor_cmap\n",
    "from bokeh.layouts import row, column\n",
    "from bokeh.models import GeoJSONDataSource, LinearColorMapper, ColorBar, NumeralTickFormatter"
   ]
  },
  {
   "cell_type": "markdown",
   "metadata": {},
   "source": [
    "### Vizualizáljuk az összes esetek számát és a halálozások számát térképen"
   ]
  },
  {
   "cell_type": "code",
   "execution_count": 97,
   "metadata": {},
   "outputs": [
    {
     "data": {
      "text/html": [
       "    <style>\n",
       "        .bk-notebook-logo {\n",
       "            display: block;\n",
       "            width: 20px;\n",
       "            height: 20px;\n",
       "            background-image: url(data:image/png;base64,iVBORw0KGgoAAAANSUhEUgAAABQAAAAUCAYAAACNiR0NAAAABHNCSVQICAgIfAhkiAAAAAlwSFlzAAALEgAACxIB0t1+/AAAABx0RVh0U29mdHdhcmUAQWRvYmUgRmlyZXdvcmtzIENTNui8sowAAAOkSURBVDiNjZRtaJVlGMd/1/08zzln5zjP1LWcU9N0NkN8m2CYjpgQYQXqSs0I84OLIC0hkEKoPtiH3gmKoiJDU7QpLgoLjLIQCpEsNJ1vqUOdO7ppbuec5+V+rj4ctwzd8IIbbi6u+8f1539dt3A78eXC7QizUF7gyV1fD1Yqg4JWz84yffhm0qkFqBogB9rM8tZdtwVsPUhWhGcFJngGeWrPzHm5oaMmkfEg1usvLFyc8jLRqDOMru7AyC8saQr7GG7f5fvDeH7Ej8CM66nIF+8yngt6HWaKh7k49Soy9nXurCi1o3qUbS3zWfrYeQDTB/Qj6kX6Ybhw4B+bOYoLKCC9H3Nu/leUTZ1JdRWkkn2ldcCamzrcf47KKXdAJllSlxAOkRgyHsGC/zRday5Qld9DyoM4/q/rUoy/CXh3jzOu3bHUVZeU+DEn8FInkPBFlu3+nW3Nw0mk6vCDiWg8CeJaxEwuHS3+z5RgY+YBR6V1Z1nxSOfoaPa4LASWxxdNp+VWTk7+4vzaou8v8PN+xo+KY2xsw6une2frhw05CTYOmQvsEhjhWjn0bmXPjpE1+kplmmkP3suftwTubK9Vq22qKmrBhpY4jvd5afdRA3wGjFAgcnTK2s4hY0/GPNIb0nErGMCRxWOOX64Z8RAC4oCXdklmEvcL8o0BfkNK4lUg9HTl+oPlQxdNo3Mg4Nv175e/1LDGzZen30MEjRUtmXSfiTVu1kK8W4txyV6BMKlbgk3lMwYCiusNy9fVfvvwMxv8Ynl6vxoByANLTWplvuj/nF9m2+PDtt1eiHPBr1oIfhCChQMBw6Aw0UulqTKZdfVvfG7VcfIqLG9bcldL/+pdWTLxLUy8Qq38heUIjh4XlzZxzQm19lLFlr8vdQ97rjZVOLf8nclzckbcD4wxXMidpX30sFd37Fv/GtwwhzhxGVAprjbg0gCAEeIgwCZyTV2Z1REEW8O4py0wsjeloKoMr6iCY6dP92H6Vw/oTyICIthibxjm/DfN9lVz8IqtqKYLUXfoKVMVQVVJOElGjrnnUt9T9wbgp8AyYKaGlqingHZU/uG2NTZSVqwHQTWkx9hxjkpWDaCg6Ckj5qebgBVbT3V3NNXMSiWSDdGV3hrtzla7J+duwPOToIg42ChPQOQjspnSlp1V+Gjdged7+8UN5CRAV7a5EdFNwCjEaBR27b3W890TE7g24NAP/mMDXRWrGoFPQI9ls/MWO2dWFAar/xcOIImbbpA3zgAAAABJRU5ErkJggg==);\n",
       "        }\n",
       "    </style>\n",
       "    <div>\n",
       "        <a href=\"https://bokeh.org\" target=\"_blank\" class=\"bk-notebook-logo\"></a>\n",
       "        <span id=\"f165fa9c-bab3-4e77-b18f-b4aaf4b1ece7\">Loading BokehJS ...</span>\n",
       "    </div>\n"
      ]
     },
     "metadata": {},
     "output_type": "display_data"
    },
    {
     "data": {
      "application/javascript": "(function(root) {\n  function now() {\n    return new Date();\n  }\n\n  const force = true;\n\n  if (typeof root._bokeh_onload_callbacks === \"undefined\" || force === true) {\n    root._bokeh_onload_callbacks = [];\n    root._bokeh_is_loading = undefined;\n  }\n\nconst JS_MIME_TYPE = 'application/javascript';\n  const HTML_MIME_TYPE = 'text/html';\n  const EXEC_MIME_TYPE = 'application/vnd.bokehjs_exec.v0+json';\n  const CLASS_NAME = 'output_bokeh rendered_html';\n\n  /**\n   * Render data to the DOM node\n   */\n  function render(props, node) {\n    const script = document.createElement(\"script\");\n    node.appendChild(script);\n  }\n\n  /**\n   * Handle when an output is cleared or removed\n   */\n  function handleClearOutput(event, handle) {\n    function drop(id) {\n      const view = Bokeh.index.get_by_id(id)\n      if (view != null) {\n        view.model.document.clear()\n        Bokeh.index.delete(view)\n      }\n    }\n\n    const cell = handle.cell;\n\n    const id = cell.output_area._bokeh_element_id;\n    const server_id = cell.output_area._bokeh_server_id;\n\n    // Clean up Bokeh references\n    if (id != null) {\n      drop(id)\n    }\n\n    if (server_id !== undefined) {\n      // Clean up Bokeh references\n      const cmd_clean = \"from bokeh.io.state import curstate; print(curstate().uuid_to_server['\" + server_id + \"'].get_sessions()[0].document.roots[0]._id)\";\n      cell.notebook.kernel.execute(cmd_clean, {\n        iopub: {\n          output: function(msg) {\n            const id = msg.content.text.trim()\n            drop(id)\n          }\n        }\n      });\n      // Destroy server and session\n      const cmd_destroy = \"import bokeh.io.notebook as ion; ion.destroy_server('\" + server_id + \"')\";\n      cell.notebook.kernel.execute(cmd_destroy);\n    }\n  }\n\n  /**\n   * Handle when a new output is added\n   */\n  function handleAddOutput(event, handle) {\n    const output_area = handle.output_area;\n    const output = handle.output;\n\n    // limit handleAddOutput to display_data with EXEC_MIME_TYPE content only\n    if ((output.output_type != \"display_data\") || (!Object.prototype.hasOwnProperty.call(output.data, EXEC_MIME_TYPE))) {\n      return\n    }\n\n    const toinsert = output_area.element.find(\".\" + CLASS_NAME.split(' ')[0]);\n\n    if (output.metadata[EXEC_MIME_TYPE][\"id\"] !== undefined) {\n      toinsert[toinsert.length - 1].firstChild.textContent = output.data[JS_MIME_TYPE];\n      // store reference to embed id on output_area\n      output_area._bokeh_element_id = output.metadata[EXEC_MIME_TYPE][\"id\"];\n    }\n    if (output.metadata[EXEC_MIME_TYPE][\"server_id\"] !== undefined) {\n      const bk_div = document.createElement(\"div\");\n      bk_div.innerHTML = output.data[HTML_MIME_TYPE];\n      const script_attrs = bk_div.children[0].attributes;\n      for (let i = 0; i < script_attrs.length; i++) {\n        toinsert[toinsert.length - 1].firstChild.setAttribute(script_attrs[i].name, script_attrs[i].value);\n        toinsert[toinsert.length - 1].firstChild.textContent = bk_div.children[0].textContent\n      }\n      // store reference to server id on output_area\n      output_area._bokeh_server_id = output.metadata[EXEC_MIME_TYPE][\"server_id\"];\n    }\n  }\n\n  function register_renderer(events, OutputArea) {\n\n    function append_mime(data, metadata, element) {\n      // create a DOM node to render to\n      const toinsert = this.create_output_subarea(\n        metadata,\n        CLASS_NAME,\n        EXEC_MIME_TYPE\n      );\n      this.keyboard_manager.register_events(toinsert);\n      // Render to node\n      const props = {data: data, metadata: metadata[EXEC_MIME_TYPE]};\n      render(props, toinsert[toinsert.length - 1]);\n      element.append(toinsert);\n      return toinsert\n    }\n\n    /* Handle when an output is cleared or removed */\n    events.on('clear_output.CodeCell', handleClearOutput);\n    events.on('delete.Cell', handleClearOutput);\n\n    /* Handle when a new output is added */\n    events.on('output_added.OutputArea', handleAddOutput);\n\n    /**\n     * Register the mime type and append_mime function with output_area\n     */\n    OutputArea.prototype.register_mime_type(EXEC_MIME_TYPE, append_mime, {\n      /* Is output safe? */\n      safe: true,\n      /* Index of renderer in `output_area.display_order` */\n      index: 0\n    });\n  }\n\n  // register the mime type if in Jupyter Notebook environment and previously unregistered\n  if (root.Jupyter !== undefined) {\n    const events = require('base/js/events');\n    const OutputArea = require('notebook/js/outputarea').OutputArea;\n\n    if (OutputArea.prototype.mime_types().indexOf(EXEC_MIME_TYPE) == -1) {\n      register_renderer(events, OutputArea);\n    }\n  }\n  if (typeof (root._bokeh_timeout) === \"undefined\" || force === true) {\n    root._bokeh_timeout = Date.now() + 5000;\n    root._bokeh_failed_load = false;\n  }\n\n  const NB_LOAD_WARNING = {'data': {'text/html':\n     \"<div style='background-color: #fdd'>\\n\"+\n     \"<p>\\n\"+\n     \"BokehJS does not appear to have successfully loaded. If loading BokehJS from CDN, this \\n\"+\n     \"may be due to a slow or bad network connection. Possible fixes:\\n\"+\n     \"</p>\\n\"+\n     \"<ul>\\n\"+\n     \"<li>re-rerun `output_notebook()` to attempt to load from CDN again, or</li>\\n\"+\n     \"<li>use INLINE resources instead, as so:</li>\\n\"+\n     \"</ul>\\n\"+\n     \"<code>\\n\"+\n     \"from bokeh.resources import INLINE\\n\"+\n     \"output_notebook(resources=INLINE)\\n\"+\n     \"</code>\\n\"+\n     \"</div>\"}};\n\n  function display_loaded() {\n    const el = document.getElementById(\"f165fa9c-bab3-4e77-b18f-b4aaf4b1ece7\");\n    if (el != null) {\n      el.textContent = \"BokehJS is loading...\";\n    }\n    if (root.Bokeh !== undefined) {\n      if (el != null) {\n        el.textContent = \"BokehJS \" + root.Bokeh.version + \" successfully loaded.\";\n      }\n    } else if (Date.now() < root._bokeh_timeout) {\n      setTimeout(display_loaded, 100)\n    }\n  }\n\n  function run_callbacks() {\n    try {\n      root._bokeh_onload_callbacks.forEach(function(callback) {\n        if (callback != null)\n          callback();\n      });\n    } finally {\n      delete root._bokeh_onload_callbacks\n    }\n    console.debug(\"Bokeh: all callbacks have finished\");\n  }\n\n  function load_libs(css_urls, js_urls, callback) {\n    if (css_urls == null) css_urls = [];\n    if (js_urls == null) js_urls = [];\n\n    root._bokeh_onload_callbacks.push(callback);\n    if (root._bokeh_is_loading > 0) {\n      console.debug(\"Bokeh: BokehJS is being loaded, scheduling callback at\", now());\n      return null;\n    }\n    if (js_urls == null || js_urls.length === 0) {\n      run_callbacks();\n      return null;\n    }\n    console.debug(\"Bokeh: BokehJS not loaded, scheduling load and callback at\", now());\n    root._bokeh_is_loading = css_urls.length + js_urls.length;\n\n    function on_load() {\n      root._bokeh_is_loading--;\n      if (root._bokeh_is_loading === 0) {\n        console.debug(\"Bokeh: all BokehJS libraries/stylesheets loaded\");\n        run_callbacks()\n      }\n    }\n\n    function on_error(url) {\n      console.error(\"failed to load \" + url);\n    }\n\n    for (let i = 0; i < css_urls.length; i++) {\n      const url = css_urls[i];\n      const element = document.createElement(\"link\");\n      element.onload = on_load;\n      element.onerror = on_error.bind(null, url);\n      element.rel = \"stylesheet\";\n      element.type = \"text/css\";\n      element.href = url;\n      console.debug(\"Bokeh: injecting link tag for BokehJS stylesheet: \", url);\n      document.body.appendChild(element);\n    }\n\n    for (let i = 0; i < js_urls.length; i++) {\n      const url = js_urls[i];\n      const element = document.createElement('script');\n      element.onload = on_load;\n      element.onerror = on_error.bind(null, url);\n      element.async = false;\n      element.src = url;\n      console.debug(\"Bokeh: injecting script tag for BokehJS library: \", url);\n      document.head.appendChild(element);\n    }\n  };\n\n  function inject_raw_css(css) {\n    const element = document.createElement(\"style\");\n    element.appendChild(document.createTextNode(css));\n    document.body.appendChild(element);\n  }\n\n  const js_urls = [\"https://cdn.bokeh.org/bokeh/release/bokeh-3.3.4.min.js\", \"https://cdn.bokeh.org/bokeh/release/bokeh-gl-3.3.4.min.js\", \"https://cdn.bokeh.org/bokeh/release/bokeh-widgets-3.3.4.min.js\", \"https://cdn.bokeh.org/bokeh/release/bokeh-tables-3.3.4.min.js\", \"https://cdn.bokeh.org/bokeh/release/bokeh-mathjax-3.3.4.min.js\"];\n  const css_urls = [];\n\n  const inline_js = [    function(Bokeh) {\n      Bokeh.set_log_level(\"info\");\n    },\nfunction(Bokeh) {\n    }\n  ];\n\n  function run_inline_js() {\n    if (root.Bokeh !== undefined || force === true) {\n          for (let i = 0; i < inline_js.length; i++) {\n      inline_js[i].call(root, root.Bokeh);\n    }\nif (force === true) {\n        display_loaded();\n      }} else if (Date.now() < root._bokeh_timeout) {\n      setTimeout(run_inline_js, 100);\n    } else if (!root._bokeh_failed_load) {\n      console.log(\"Bokeh: BokehJS failed to load within specified timeout.\");\n      root._bokeh_failed_load = true;\n    } else if (force !== true) {\n      const cell = $(document.getElementById(\"f165fa9c-bab3-4e77-b18f-b4aaf4b1ece7\")).parents('.cell').data().cell;\n      cell.output_area.append_execute_result(NB_LOAD_WARNING)\n    }\n  }\n\n  if (root._bokeh_is_loading === 0) {\n    console.debug(\"Bokeh: BokehJS loaded, going straight to plotting\");\n    run_inline_js();\n  } else {\n    load_libs(css_urls, js_urls, function() {\n      console.debug(\"Bokeh: BokehJS plotting callback run at\", now());\n      run_inline_js();\n    });\n  }\n}(window));",
      "application/vnd.bokehjs_load.v0+json": ""
     },
     "metadata": {},
     "output_type": "display_data"
    }
   ],
   "source": [
    "output_notebook()"
   ]
  },
  {
   "cell_type": "code",
   "execution_count": 98,
   "metadata": {},
   "outputs": [],
   "source": [
    "def adatcsvkeep(start_date: str,end_date: str,countries: list,keep_columns: list):\n",
    "    '''\n",
    "    beolvassa a csv fájlt és csinál belőle egy pandas adatszerkezetet,\n",
    "\n",
    "    start_date, end_date stringek yyyy-mm-dd alakban,\n",
    "\n",
    "    countries egy string lista azon országokból, amiket meg akarunk tartani,\n",
    "    \n",
    "    delete_columns string lista azon oszlopokról, amiket ki akarunk törölni\n",
    "    '''  \n",
    "    df = pd.read_csv('owid-covid-data.csv')                \n",
    "    df = df[df[\"iso_code\"].isin(countries)]\n",
    "    df = df[(df[\"date\"]>=start_date) & (df[\"date\"]<=end_date)]\n",
    "    df = df[keep_columns]\n",
    "\n",
    "    return df\n",
    "eu_members= [\n",
    "    \"AUT\",  # Austria\n",
    "    \"BEL\",  # Belgium\n",
    "    \"BGR\",  # Bulgaria\n",
    "    \"CYP\",  # Cyprus\n",
    "    \"CZE\",  # Czech Republic\n",
    "    \"DEU\",  # Germany\n",
    "    \"DNK\",  # Denmark\n",
    "    \"EST\",  # Estonia\n",
    "    \"ESP\",  # Spain\n",
    "    \"FIN\",  # Finland\n",
    "    \"FRA\",  # France\n",
    "    \"GRC\",  # Greece\n",
    "    \"HRV\",  # Croatia\n",
    "    \"HUN\",  # Hungary\n",
    "    \"IRL\",  # Ireland\n",
    "    \"ITA\",  # Italy\n",
    "    \"LTU\",  # Lithuania\n",
    "    \"LUX\",  # Luxembourg\n",
    "    \"LVA\",  # Latvia\n",
    "    \"MLT\",  # Malta\n",
    "    \"NLD\",  # Netherlands\n",
    "    \"POL\",  # Poland\n",
    "    \"PRT\",  # Portugal\n",
    "    \"ROU\",  # Romania\n",
    "    \"SWE\",  # Sweden\n",
    "    \"SVN\",  # Slovenia\n",
    "    \"SVK\",  # Slovakia\n",
    "]"
   ]
  },
  {
   "cell_type": "code",
   "execution_count": 99,
   "metadata": {},
   "outputs": [],
   "source": [
    "data=adatcsvkeep(\"2023-12-31\",\"2023-12-31\",eu_members,[\"iso_code\",\"date\",\"location\",\"total_cases\",\"total_deaths\"])"
   ]
  },
  {
   "cell_type": "code",
   "execution_count": 100,
   "metadata": {},
   "outputs": [],
   "source": [
    "eu_cities = {\n",
    "    'AUT': (48.2082, 16.3738),\n",
    "    'BEL': (50.8503, 4.3517),\n",
    "    'BGR': (42.6977, 23.3219),\n",
    "    'HRV': (45.8150, 15.9819),\n",
    "    'CYP': (35.1856, 33.3823),\n",
    "    'CZE': (50.0755, 14.4378),\n",
    "    'DNK': (55.6761, 12.5683),\n",
    "    'EST': (59.4370, 24.7536),\n",
    "    'FIN': (60.1695, 24.9354),\n",
    "    'FRA': (48.8566, 2.3522),\n",
    "    'DEU': (52.5200, 13.4050),\n",
    "    'GRC': (37.9838, 23.7275),\n",
    "    'HUN': (47.4979, 19.0402),\n",
    "    'IRL': (53.3498, -6.2603),\n",
    "    'ITA': (41.9028, 12.4964),\n",
    "    'LVA': (56.9496, 24.1052),\n",
    "    'LTU': (54.6872, 25.2797),\n",
    "    'LUX': (49.8153, 6.1296),\n",
    "    'MLT': (35.8989, 14.5146),\n",
    "    'NLD': (52.3676, 4.9041),\n",
    "    'POL': (52.2297, 21.0122),\n",
    "    'PRT': (38.7223, -9.1393),\n",
    "    'ROU': (44.4268, 26.1025),\n",
    "    'SVK': (48.1486, 17.1077),\n",
    "    'SVN': (46.0569, 14.5058),\n",
    "    'ESP': (40.4168, -3.7038),\n",
    "    'SWE': (59.3293, 18.0686)\n",
    "}"
   ]
  },
  {
   "cell_type": "markdown",
   "metadata": {},
   "source": [
    "A bokeh csak mercator koordinátákkal tud számolni, ezért a lon-lan koordinátákat át kell váltani"
   ]
  },
  {
   "cell_type": "code",
   "execution_count": 101,
   "metadata": {},
   "outputs": [],
   "source": [
    "def mercator_coord(coord):\n",
    "    \n",
    "    lat = coord[0]\n",
    "    lon = coord[1]\n",
    "    \n",
    "    r_major = 6378137.000\n",
    "    x = r_major * np.radians(lon)\n",
    "    scale = x/lon\n",
    "    y = 180.0/np.pi * np.log(np.tan(np.pi/4.0 + \n",
    "        lat * (np.pi/180.0)/2.0)) * scale\n",
    "    return [x, y]\n",
    "\n",
    "eu_cities_mercator=[mercator_coord(value) for value in eu_cities.values()]\n",
    "eu_mercator_x=[eu_cities_mercator[i][0] for i in range(len(eu_cities_mercator))]\n",
    "eu_mercator_y=[eu_cities_mercator[i][1] for i in range(len(eu_cities_mercator))]"
   ]
  },
  {
   "cell_type": "code",
   "execution_count": 102,
   "metadata": {},
   "outputs": [],
   "source": [
    "total_cases=[]\n",
    "for key in eu_cities:\n",
    "    for index in data.index:\n",
    "        if data[\"iso_code\"][index]==key:\n",
    "            total_cases.append(data[\"total_cases\"][index])"
   ]
  },
  {
   "cell_type": "markdown",
   "metadata": {},
   "source": [
    "### Összes esetek száma"
   ]
  },
  {
   "cell_type": "code",
   "execution_count": 103,
   "metadata": {},
   "outputs": [
    {
     "data": {
      "text/html": [
       "\n",
       "  <div id=\"bdf7329a-aabd-4103-b6e6-31694d0aeedf\" data-root-id=\"p2599\" style=\"display: contents;\"></div>\n"
      ]
     },
     "metadata": {},
     "output_type": "display_data"
    },
    {
     "data": {
      "application/javascript": "(function(root) {\n  function embed_document(root) {\n  const docs_json = {\"98c498af-a4e1-4b1f-ba76-d8908f457b76\":{\"version\":\"3.3.4\",\"title\":\"Bokeh Application\",\"roots\":[{\"type\":\"object\",\"name\":\"Figure\",\"id\":\"p2599\",\"attributes\":{\"x_range\":{\"type\":\"object\",\"name\":\"DataRange1d\",\"id\":\"p2600\"},\"y_range\":{\"type\":\"object\",\"name\":\"DataRange1d\",\"id\":\"p2601\"},\"x_scale\":{\"type\":\"object\",\"name\":\"LinearScale\",\"id\":\"p2609\"},\"y_scale\":{\"type\":\"object\",\"name\":\"LinearScale\",\"id\":\"p2610\"},\"title\":{\"type\":\"object\",\"name\":\"Title\",\"id\":\"p2602\",\"attributes\":{\"text\":\"\\u00d6sszes esetek sz\\u00e1ma az EU-s tag\\u00e1llamokban\"}},\"renderers\":[{\"type\":\"object\",\"name\":\"TileRenderer\",\"id\":\"p2634\",\"attributes\":{\"tile_source\":{\"type\":\"object\",\"name\":\"WMTSTileSource\",\"id\":\"p2633\",\"attributes\":{\"url\":\"https://a.basemaps.cartocdn.com/light_all/{z}/{x}/{y}@2x.png\",\"max_zoom\":20,\"attribution\":\"&copy; <a href=\\\"https://www.openstreetmap.org/copyright\\\">OpenStreetMap</a> contributors &copy; <a href=\\\"https://carto.com/attributions\\\">CARTO</a>\"}}}},{\"type\":\"object\",\"name\":\"GlyphRenderer\",\"id\":\"p2642\",\"attributes\":{\"data_source\":{\"type\":\"object\",\"name\":\"ColumnDataSource\",\"id\":\"p2596\",\"attributes\":{\"selected\":{\"type\":\"object\",\"name\":\"Selection\",\"id\":\"p2597\",\"attributes\":{\"indices\":[],\"line_indices\":[]}},\"selection_policy\":{\"type\":\"object\",\"name\":\"UnionRenderers\",\"id\":\"p2598\"},\"data\":{\"type\":\"map\",\"entries\":[[\"index\",{\"type\":\"ndarray\",\"array\":{\"type\":\"bytes\",\"data\":\"AAAAAAEAAAACAAAAAwAAAAQAAAAFAAAABgAAAAcAAAAIAAAACQAAAAoAAAALAAAADAAAAA0AAAAOAAAADwAAABAAAAARAAAAEgAAABMAAAAUAAAAFQAAABYAAAAXAAAAGAAAABkAAAAaAAAA\"},\"shape\":[27],\"dtype\":\"int32\",\"order\":\"little\"}],[\"total_cases\",{\"type\":\"ndarray\",\"array\":{\"type\":\"bytes\",\"data\":\"AAAAwMEyV0EAAABAGn9SQQAAAAA6MjRBAAAAACD8M0EAAAAASpokQQAAAIBfG1JBAAAAAM0vSkEAAAAAipIiQQAAAABA4jZBAAAAkG+YgkEAAADgG1SCQQAAAIDIP1VBAAAAgOv9QEEAAAAAu2E6QQAAAPCqbHlBAAAAAErWLUEAAAAAfr00QQAAAABUzhdBAAAAAOCL/UAAAADAXnZgQQAAAECgTFlBAAAAgEuDVUEAAACAiclKQQAAAABJnjxBAAAAAKyqNEEAAACAVqpqQQAAAIB89ERB\"},\"shape\":[27],\"dtype\":\"float64\",\"order\":\"little\"}],[\"mercator_x\",{\"type\":\"ndarray\",\"array\":{\"type\":\"bytes\",\"data\":\"Bc4OFAPQO0FkVsIcNJEdQYNxIwSrzkNBG/VL+JglO0Ey35lRAlpMQZ0PT4sohjhBdTOSwThZNUEevdoS8wVFQVrZ7gN6LUVByDhjpq32D0GnWyrGDcU2QQDJ4JvaJkRBa1our7wrQEG7TwHRekQlwSbqfuL0OTVB6cBzS/l4REELiWuqVXhFQS/cyubP0iRB9qyN4Y2nOEGrkmDUA6kgQYDmxLN92EFBgBzFcUwML8HnRxSBOitGQZt74HMkDz1B7ioBRbqjOEHRwB6FRCoZwUPm8Vn7sD5B\"},\"shape\":[27],\"dtype\":\"float64\",\"order\":\"little\"}],[\"mercator_y\",{\"type\":\"ndarray\",\"array\":{\"type\":\"bytes\",\"data\":\"Ggp6g55tV0FJoOQHSihZQcATP9SlFlRB+7t2D/jvVUFzRkUR5vVPQZ1RG1n4o1hBSI43LI+WXEGJoy44fZFfQTCliYjoF2BBI+peFhHYV0ERNkjzGk1aQVceIWPcdVFB/r1/hov6VkEXOg9Zx+JaQUJ8Rp3PoVNBYJxzFDCQXUE5c+NJRNpbQefXRJIDeFhBjPR+xD9aUEFYks7H7DFaQWeqmkxpGVpBBbWGyDzcUUHCeFZyFBpVQfYB/hHnY1dBPFtqC8gVVkH8TtsqOstSQT2S/A6Ael9B\"},\"shape\":[27],\"dtype\":\"float64\",\"order\":\"little\"}],[\"country\",{\"type\":\"ndarray\",\"array\":[\"AUT\",\"BEL\",\"BGR\",\"HRV\",\"CYP\",\"CZE\",\"DNK\",\"EST\",\"FIN\",\"FRA\",\"DEU\",\"GRC\",\"HUN\",\"IRL\",\"ITA\",\"LVA\",\"LTU\",\"LUX\",\"MLT\",\"NLD\",\"POL\",\"PRT\",\"ROU\",\"SVK\",\"SVN\",\"ESP\",\"SWE\"],\"shape\":[27],\"dtype\":\"object\",\"order\":\"little\"}]]}}},\"view\":{\"type\":\"object\",\"name\":\"CDSView\",\"id\":\"p2643\",\"attributes\":{\"filter\":{\"type\":\"object\",\"name\":\"AllIndices\",\"id\":\"p2644\"}}},\"glyph\":{\"type\":\"object\",\"name\":\"Circle\",\"id\":\"p2639\",\"attributes\":{\"x\":{\"type\":\"field\",\"field\":\"mercator_x\"},\"y\":{\"type\":\"field\",\"field\":\"mercator_y\"},\"size\":{\"type\":\"value\",\"value\":30},\"line_color\":{\"type\":\"field\",\"field\":\"total_cases\",\"transform\":{\"type\":\"object\",\"name\":\"LinearColorMapper\",\"id\":\"p2595\",\"attributes\":{\"palette\":[\"#FCFEA4\",\"#F6D542\",\"#FBA40A\",\"#F2751A\",\"#DC5039\",\"#BA3655\",\"#932567\",\"#6A176E\",\"#410967\",\"#160B39\",\"#000003\"],\"low\":121022.0,\"high\":38997490.0}}},\"fill_color\":{\"type\":\"field\",\"field\":\"total_cases\",\"transform\":{\"id\":\"p2595\"}},\"fill_alpha\":{\"type\":\"value\",\"value\":0.7},\"hatch_color\":{\"type\":\"field\",\"field\":\"total_cases\",\"transform\":{\"id\":\"p2595\"}}}},\"nonselection_glyph\":{\"type\":\"object\",\"name\":\"Circle\",\"id\":\"p2640\",\"attributes\":{\"x\":{\"type\":\"field\",\"field\":\"mercator_x\"},\"y\":{\"type\":\"field\",\"field\":\"mercator_y\"},\"size\":{\"type\":\"value\",\"value\":30},\"line_color\":{\"type\":\"field\",\"field\":\"total_cases\",\"transform\":{\"id\":\"p2595\"}},\"line_alpha\":{\"type\":\"value\",\"value\":0.1},\"fill_color\":{\"type\":\"field\",\"field\":\"total_cases\",\"transform\":{\"id\":\"p2595\"}},\"fill_alpha\":{\"type\":\"value\",\"value\":0.1},\"hatch_color\":{\"type\":\"field\",\"field\":\"total_cases\",\"transform\":{\"id\":\"p2595\"}},\"hatch_alpha\":{\"type\":\"value\",\"value\":0.1}}},\"muted_glyph\":{\"type\":\"object\",\"name\":\"Circle\",\"id\":\"p2641\",\"attributes\":{\"x\":{\"type\":\"field\",\"field\":\"mercator_x\"},\"y\":{\"type\":\"field\",\"field\":\"mercator_y\"},\"size\":{\"type\":\"value\",\"value\":30},\"line_color\":{\"type\":\"field\",\"field\":\"total_cases\",\"transform\":{\"id\":\"p2595\"}},\"line_alpha\":{\"type\":\"value\",\"value\":0.2},\"fill_color\":{\"type\":\"field\",\"field\":\"total_cases\",\"transform\":{\"id\":\"p2595\"}},\"fill_alpha\":{\"type\":\"value\",\"value\":0.2},\"hatch_color\":{\"type\":\"field\",\"field\":\"total_cases\",\"transform\":{\"id\":\"p2595\"}},\"hatch_alpha\":{\"type\":\"value\",\"value\":0.2}}}}}],\"toolbar\":{\"type\":\"object\",\"name\":\"Toolbar\",\"id\":\"p2608\",\"attributes\":{\"tools\":[{\"type\":\"object\",\"name\":\"PanTool\",\"id\":\"p2621\"},{\"type\":\"object\",\"name\":\"WheelZoomTool\",\"id\":\"p2622\",\"attributes\":{\"renderers\":\"auto\"}},{\"type\":\"object\",\"name\":\"BoxZoomTool\",\"id\":\"p2623\",\"attributes\":{\"overlay\":{\"type\":\"object\",\"name\":\"BoxAnnotation\",\"id\":\"p2624\",\"attributes\":{\"syncable\":false,\"level\":\"overlay\",\"visible\":false,\"left\":{\"type\":\"number\",\"value\":\"nan\"},\"right\":{\"type\":\"number\",\"value\":\"nan\"},\"top\":{\"type\":\"number\",\"value\":\"nan\"},\"bottom\":{\"type\":\"number\",\"value\":\"nan\"},\"left_units\":\"canvas\",\"right_units\":\"canvas\",\"top_units\":\"canvas\",\"bottom_units\":\"canvas\",\"line_color\":\"black\",\"line_alpha\":1.0,\"line_width\":2,\"line_dash\":[4,4],\"fill_color\":\"lightgrey\",\"fill_alpha\":0.5}}}},{\"type\":\"object\",\"name\":\"SaveTool\",\"id\":\"p2629\"},{\"type\":\"object\",\"name\":\"ResetTool\",\"id\":\"p2630\"},{\"type\":\"object\",\"name\":\"HelpTool\",\"id\":\"p2631\"},{\"type\":\"object\",\"name\":\"HoverTool\",\"id\":\"p2632\",\"attributes\":{\"renderers\":\"auto\",\"tooltips\":[[\"\\u00d6sszes eset\",\"@total_cases\"],[\"Orsz\\u00e1g\",\"@country\"]]}}]}},\"left\":[{\"type\":\"object\",\"name\":\"MercatorAxis\",\"id\":\"p2616\",\"attributes\":{\"ticker\":{\"type\":\"object\",\"name\":\"MercatorTicker\",\"id\":\"p2617\",\"attributes\":{\"mantissas\":[1,2,5],\"dimension\":\"lat\"}},\"formatter\":{\"type\":\"object\",\"name\":\"MercatorTickFormatter\",\"id\":\"p2618\",\"attributes\":{\"dimension\":\"lat\"}},\"axis_label\":\"Sz\\u00e9less\\u00e9gi k\\u00f6r\",\"major_label_policy\":{\"type\":\"object\",\"name\":\"AllLabels\",\"id\":\"p2619\"}}}],\"right\":[{\"type\":\"object\",\"name\":\"ColorBar\",\"id\":\"p2646\",\"attributes\":{\"location\":[0,0],\"width\":8,\"formatter\":{\"type\":\"object\",\"name\":\"NumeralTickFormatter\",\"id\":\"p2645\",\"attributes\":{\"format\":\"0.0[0000]\"}},\"major_label_policy\":{\"type\":\"object\",\"name\":\"NoOverlap\",\"id\":\"p2647\"},\"label_standoff\":13,\"color_mapper\":{\"id\":\"p2595\"}}}],\"below\":[{\"type\":\"object\",\"name\":\"MercatorAxis\",\"id\":\"p2611\",\"attributes\":{\"ticker\":{\"type\":\"object\",\"name\":\"MercatorTicker\",\"id\":\"p2612\",\"attributes\":{\"mantissas\":[1,2,5],\"dimension\":\"lon\"}},\"formatter\":{\"type\":\"object\",\"name\":\"MercatorTickFormatter\",\"id\":\"p2613\",\"attributes\":{\"dimension\":\"lon\"}},\"axis_label\":\"Hossz\\u00fas\\u00e1gi k\\u00f6r\",\"major_label_policy\":{\"type\":\"object\",\"name\":\"AllLabels\",\"id\":\"p2614\"}}}],\"center\":[{\"type\":\"object\",\"name\":\"Grid\",\"id\":\"p2615\",\"attributes\":{\"axis\":{\"id\":\"p2611\"}}},{\"type\":\"object\",\"name\":\"Grid\",\"id\":\"p2620\",\"attributes\":{\"dimension\":1,\"axis\":{\"id\":\"p2616\"}}}]}}]}};\n  const render_items = [{\"docid\":\"98c498af-a4e1-4b1f-ba76-d8908f457b76\",\"roots\":{\"p2599\":\"bdf7329a-aabd-4103-b6e6-31694d0aeedf\"},\"root_ids\":[\"p2599\"]}];\n  root.Bokeh.embed.embed_items_notebook(docs_json, render_items);\n  }\n  if (root.Bokeh !== undefined) {\n    embed_document(root);\n  } else {\n    let attempts = 0;\n    const timer = setInterval(function(root) {\n      if (root.Bokeh !== undefined) {\n        clearInterval(timer);\n        embed_document(root);\n      } else {\n        attempts++;\n        if (attempts > 100) {\n          clearInterval(timer);\n          console.log(\"Bokeh: ERROR: Unable to run BokehJS code because BokehJS library is missing\");\n        }\n      }\n    }, 10, root)\n  }\n})(window);",
      "application/vnd.bokehjs_exec.v0+json": ""
     },
     "metadata": {
      "application/vnd.bokehjs_exec.v0+json": {
       "id": "p2599"
      }
     },
     "output_type": "display_data"
    }
   ],
   "source": [
    "printdata={\n",
    "    'total_cases' : total_cases,\n",
    "    'mercator_x' : eu_mercator_x,\n",
    "    'mercator_y' : eu_mercator_y,\n",
    "    'country' : [key for key in eu_cities]\n",
    "    }\n",
    "df=pd.DataFrame(printdata)\n",
    "color_mapper = linear_cmap(field_name = 'total_cases', palette = mpl['Inferno'][11][::-1], low = df['total_cases'].min(), high = df['total_cases'].max())\n",
    "source = ColumnDataSource(data=df)\n",
    "tooltips = [(\"Összes eset\",\"@total_cases\"), (\"Ország\",\"@country\") ]\n",
    "p = figure(title = 'Összes esetek száma az EU-s tagállamokban',\n",
    "           x_axis_type=\"mercator\", y_axis_type=\"mercator\", x_axis_label = 'Hosszúsági kör', \n",
    "           y_axis_label = 'Szélességi kör', tooltips = tooltips)\n",
    "p.add_tile(\"CartoDB Positron retina\")\n",
    "p.circle(x = 'mercator_x', y = 'mercator_y', color = color_mapper, source=source, size=30, fill_alpha = 0.7)\n",
    "color_bar = ColorBar(color_mapper=color_mapper['transform'], \n",
    "                     formatter = NumeralTickFormatter(format='0.0[0000]'), \n",
    "                     label_standoff = 13, width=8, location=(0,0))\n",
    "p.add_layout(color_bar, 'right')\n",
    "show(p)"
   ]
  },
  {
   "cell_type": "code",
   "execution_count": 104,
   "metadata": {},
   "outputs": [],
   "source": [
    "total_deaths=[]\n",
    "for key in eu_cities:\n",
    "    for index in data.index:\n",
    "        if data[\"iso_code\"][index]==key:\n",
    "            total_deaths.append(data[\"total_deaths\"][index])"
   ]
  },
  {
   "cell_type": "markdown",
   "metadata": {},
   "source": [
    "### Halálozások száma"
   ]
  },
  {
   "cell_type": "code",
   "execution_count": 105,
   "metadata": {},
   "outputs": [
    {
     "data": {
      "text/html": [
       "\n",
       "  <div id=\"e295fe5e-0ceb-4ba6-9044-ce5ee2fd4dde\" data-root-id=\"p2656\" style=\"display: contents;\"></div>\n"
      ]
     },
     "metadata": {},
     "output_type": "display_data"
    },
    {
     "data": {
      "application/javascript": "(function(root) {\n  function embed_document(root) {\n  const docs_json = {\"c1a12930-1132-44fa-9461-afbf0ad7d108\":{\"version\":\"3.3.4\",\"title\":\"Bokeh Application\",\"roots\":[{\"type\":\"object\",\"name\":\"Figure\",\"id\":\"p2656\",\"attributes\":{\"x_range\":{\"type\":\"object\",\"name\":\"DataRange1d\",\"id\":\"p2657\"},\"y_range\":{\"type\":\"object\",\"name\":\"DataRange1d\",\"id\":\"p2658\"},\"x_scale\":{\"type\":\"object\",\"name\":\"LinearScale\",\"id\":\"p2666\"},\"y_scale\":{\"type\":\"object\",\"name\":\"LinearScale\",\"id\":\"p2667\"},\"title\":{\"type\":\"object\",\"name\":\"Title\",\"id\":\"p2659\",\"attributes\":{\"text\":\"Hal\\u00e1loz\\u00e1sok sz\\u00e1ma az EU-s tag\\u00e1llamokban\"}},\"renderers\":[{\"type\":\"object\",\"name\":\"TileRenderer\",\"id\":\"p2691\",\"attributes\":{\"tile_source\":{\"type\":\"object\",\"name\":\"WMTSTileSource\",\"id\":\"p2690\",\"attributes\":{\"url\":\"https://a.basemaps.cartocdn.com/light_all/{z}/{x}/{y}@2x.png\",\"max_zoom\":20,\"attribution\":\"&copy; <a href=\\\"https://www.openstreetmap.org/copyright\\\">OpenStreetMap</a> contributors &copy; <a href=\\\"https://carto.com/attributions\\\">CARTO</a>\"}}}},{\"type\":\"object\",\"name\":\"GlyphRenderer\",\"id\":\"p2699\",\"attributes\":{\"data_source\":{\"type\":\"object\",\"name\":\"ColumnDataSource\",\"id\":\"p2653\",\"attributes\":{\"selected\":{\"type\":\"object\",\"name\":\"Selection\",\"id\":\"p2654\",\"attributes\":{\"indices\":[],\"line_indices\":[]}},\"selection_policy\":{\"type\":\"object\",\"name\":\"UnionRenderers\",\"id\":\"p2655\"},\"data\":{\"type\":\"map\",\"entries\":[[\"index\",{\"type\":\"ndarray\",\"array\":{\"type\":\"bytes\",\"data\":\"AAAAAAEAAAACAAAAAwAAAAQAAAAFAAAABgAAAAcAAAAIAAAACQAAAAoAAAALAAAADAAAAA0AAAAOAAAADwAAABAAAAARAAAAEgAAABMAAAAUAAAAFQAAABYAAAAXAAAAGAAAABkAAAAaAAAA\"},\"shape\":[27],\"dtype\":\"int32\",\"order\":\"little\"}],[\"total_deaths\",{\"type\":\"ndarray\",\"array\":{\"type\":\"bytes\",\"data\":\"AAAAAIAB1kAAAAAAYMTgQAAAAADA3OJAAAAAAMA/0kAAAAAAAFSVQAAAAABAK+VAAAAAAICKwkAAAAAAADinQAAAAAAASMZAAAAAAIiBBEEAAAAAGFwFQQAAAACgwuJAAAAAAODr50AAAAAAAHPCQAAAAABI3QdBAAAAAAApvUAAAAAAgBbDQAAAAAAAQI9AAAAAAADYi0AAAAAAgHLWQAAAAADgWv1AAAAAAEBG20AAAAAAYMHwQAAAAADAtdRAAAAAAIBBw0AAAAAAwL/9QAAAAADAD9pA\"},\"shape\":[27],\"dtype\":\"float64\",\"order\":\"little\"}],[\"mercator_x\",{\"type\":\"ndarray\",\"array\":{\"type\":\"bytes\",\"data\":\"Bc4OFAPQO0FkVsIcNJEdQYNxIwSrzkNBG/VL+JglO0Ey35lRAlpMQZ0PT4sohjhBdTOSwThZNUEevdoS8wVFQVrZ7gN6LUVByDhjpq32D0GnWyrGDcU2QQDJ4JvaJkRBa1our7wrQEG7TwHRekQlwSbqfuL0OTVB6cBzS/l4REELiWuqVXhFQS/cyubP0iRB9qyN4Y2nOEGrkmDUA6kgQYDmxLN92EFBgBzFcUwML8HnRxSBOitGQZt74HMkDz1B7ioBRbqjOEHRwB6FRCoZwUPm8Vn7sD5B\"},\"shape\":[27],\"dtype\":\"float64\",\"order\":\"little\"}],[\"mercator_y\",{\"type\":\"ndarray\",\"array\":{\"type\":\"bytes\",\"data\":\"Ggp6g55tV0FJoOQHSihZQcATP9SlFlRB+7t2D/jvVUFzRkUR5vVPQZ1RG1n4o1hBSI43LI+WXEGJoy44fZFfQTCliYjoF2BBI+peFhHYV0ERNkjzGk1aQVceIWPcdVFB/r1/hov6VkEXOg9Zx+JaQUJ8Rp3PoVNBYJxzFDCQXUE5c+NJRNpbQefXRJIDeFhBjPR+xD9aUEFYks7H7DFaQWeqmkxpGVpBBbWGyDzcUUHCeFZyFBpVQfYB/hHnY1dBPFtqC8gVVkH8TtsqOstSQT2S/A6Ael9B\"},\"shape\":[27],\"dtype\":\"float64\",\"order\":\"little\"}],[\"country\",{\"type\":\"ndarray\",\"array\":[\"AUT\",\"BEL\",\"BGR\",\"HRV\",\"CYP\",\"CZE\",\"DNK\",\"EST\",\"FIN\",\"FRA\",\"DEU\",\"GRC\",\"HUN\",\"IRL\",\"ITA\",\"LVA\",\"LTU\",\"LUX\",\"MLT\",\"NLD\",\"POL\",\"PRT\",\"ROU\",\"SVK\",\"SVN\",\"ESP\",\"SWE\"],\"shape\":[27],\"dtype\":\"object\",\"order\":\"little\"}]]}}},\"view\":{\"type\":\"object\",\"name\":\"CDSView\",\"id\":\"p2700\",\"attributes\":{\"filter\":{\"type\":\"object\",\"name\":\"AllIndices\",\"id\":\"p2701\"}}},\"glyph\":{\"type\":\"object\",\"name\":\"Circle\",\"id\":\"p2696\",\"attributes\":{\"x\":{\"type\":\"field\",\"field\":\"mercator_x\"},\"y\":{\"type\":\"field\",\"field\":\"mercator_y\"},\"size\":{\"type\":\"value\",\"value\":30},\"line_color\":{\"type\":\"field\",\"field\":\"total_deaths\",\"transform\":{\"type\":\"object\",\"name\":\"LinearColorMapper\",\"id\":\"p2652\",\"attributes\":{\"palette\":[\"#FCFEA4\",\"#F6D542\",\"#FBA40A\",\"#F2751A\",\"#DC5039\",\"#BA3655\",\"#932567\",\"#6A176E\",\"#410967\",\"#160B39\",\"#000003\"],\"low\":891.0,\"high\":195497.0}}},\"fill_color\":{\"type\":\"field\",\"field\":\"total_deaths\",\"transform\":{\"id\":\"p2652\"}},\"fill_alpha\":{\"type\":\"value\",\"value\":0.7},\"hatch_color\":{\"type\":\"field\",\"field\":\"total_deaths\",\"transform\":{\"id\":\"p2652\"}}}},\"nonselection_glyph\":{\"type\":\"object\",\"name\":\"Circle\",\"id\":\"p2697\",\"attributes\":{\"x\":{\"type\":\"field\",\"field\":\"mercator_x\"},\"y\":{\"type\":\"field\",\"field\":\"mercator_y\"},\"size\":{\"type\":\"value\",\"value\":30},\"line_color\":{\"type\":\"field\",\"field\":\"total_deaths\",\"transform\":{\"id\":\"p2652\"}},\"line_alpha\":{\"type\":\"value\",\"value\":0.1},\"fill_color\":{\"type\":\"field\",\"field\":\"total_deaths\",\"transform\":{\"id\":\"p2652\"}},\"fill_alpha\":{\"type\":\"value\",\"value\":0.1},\"hatch_color\":{\"type\":\"field\",\"field\":\"total_deaths\",\"transform\":{\"id\":\"p2652\"}},\"hatch_alpha\":{\"type\":\"value\",\"value\":0.1}}},\"muted_glyph\":{\"type\":\"object\",\"name\":\"Circle\",\"id\":\"p2698\",\"attributes\":{\"x\":{\"type\":\"field\",\"field\":\"mercator_x\"},\"y\":{\"type\":\"field\",\"field\":\"mercator_y\"},\"size\":{\"type\":\"value\",\"value\":30},\"line_color\":{\"type\":\"field\",\"field\":\"total_deaths\",\"transform\":{\"id\":\"p2652\"}},\"line_alpha\":{\"type\":\"value\",\"value\":0.2},\"fill_color\":{\"type\":\"field\",\"field\":\"total_deaths\",\"transform\":{\"id\":\"p2652\"}},\"fill_alpha\":{\"type\":\"value\",\"value\":0.2},\"hatch_color\":{\"type\":\"field\",\"field\":\"total_deaths\",\"transform\":{\"id\":\"p2652\"}},\"hatch_alpha\":{\"type\":\"value\",\"value\":0.2}}}}}],\"toolbar\":{\"type\":\"object\",\"name\":\"Toolbar\",\"id\":\"p2665\",\"attributes\":{\"tools\":[{\"type\":\"object\",\"name\":\"PanTool\",\"id\":\"p2678\"},{\"type\":\"object\",\"name\":\"WheelZoomTool\",\"id\":\"p2679\",\"attributes\":{\"renderers\":\"auto\"}},{\"type\":\"object\",\"name\":\"BoxZoomTool\",\"id\":\"p2680\",\"attributes\":{\"overlay\":{\"type\":\"object\",\"name\":\"BoxAnnotation\",\"id\":\"p2681\",\"attributes\":{\"syncable\":false,\"level\":\"overlay\",\"visible\":false,\"left\":{\"type\":\"number\",\"value\":\"nan\"},\"right\":{\"type\":\"number\",\"value\":\"nan\"},\"top\":{\"type\":\"number\",\"value\":\"nan\"},\"bottom\":{\"type\":\"number\",\"value\":\"nan\"},\"left_units\":\"canvas\",\"right_units\":\"canvas\",\"top_units\":\"canvas\",\"bottom_units\":\"canvas\",\"line_color\":\"black\",\"line_alpha\":1.0,\"line_width\":2,\"line_dash\":[4,4],\"fill_color\":\"lightgrey\",\"fill_alpha\":0.5}}}},{\"type\":\"object\",\"name\":\"SaveTool\",\"id\":\"p2686\"},{\"type\":\"object\",\"name\":\"ResetTool\",\"id\":\"p2687\"},{\"type\":\"object\",\"name\":\"HelpTool\",\"id\":\"p2688\"},{\"type\":\"object\",\"name\":\"HoverTool\",\"id\":\"p2689\",\"attributes\":{\"renderers\":\"auto\",\"tooltips\":[[\"\\u00d6sszes hal\\u00e1leset\",\"@total_deaths\"],[\"Orsz\\u00e1g\",\"@country\"]]}}]}},\"left\":[{\"type\":\"object\",\"name\":\"MercatorAxis\",\"id\":\"p2673\",\"attributes\":{\"ticker\":{\"type\":\"object\",\"name\":\"MercatorTicker\",\"id\":\"p2674\",\"attributes\":{\"mantissas\":[1,2,5],\"dimension\":\"lat\"}},\"formatter\":{\"type\":\"object\",\"name\":\"MercatorTickFormatter\",\"id\":\"p2675\",\"attributes\":{\"dimension\":\"lat\"}},\"axis_label\":\"Sz\\u00e9less\\u00e9gi k\\u00f6r\",\"major_label_policy\":{\"type\":\"object\",\"name\":\"AllLabels\",\"id\":\"p2676\"}}}],\"right\":[{\"type\":\"object\",\"name\":\"ColorBar\",\"id\":\"p2703\",\"attributes\":{\"location\":[0,0],\"width\":8,\"formatter\":{\"type\":\"object\",\"name\":\"NumeralTickFormatter\",\"id\":\"p2702\",\"attributes\":{\"format\":\"0.0[0000]\"}},\"major_label_policy\":{\"type\":\"object\",\"name\":\"NoOverlap\",\"id\":\"p2704\"},\"label_standoff\":13,\"color_mapper\":{\"id\":\"p2652\"}}}],\"below\":[{\"type\":\"object\",\"name\":\"MercatorAxis\",\"id\":\"p2668\",\"attributes\":{\"ticker\":{\"type\":\"object\",\"name\":\"MercatorTicker\",\"id\":\"p2669\",\"attributes\":{\"mantissas\":[1,2,5],\"dimension\":\"lon\"}},\"formatter\":{\"type\":\"object\",\"name\":\"MercatorTickFormatter\",\"id\":\"p2670\",\"attributes\":{\"dimension\":\"lon\"}},\"axis_label\":\"Hossz\\u00fas\\u00e1gi k\\u00f6r\",\"major_label_policy\":{\"type\":\"object\",\"name\":\"AllLabels\",\"id\":\"p2671\"}}}],\"center\":[{\"type\":\"object\",\"name\":\"Grid\",\"id\":\"p2672\",\"attributes\":{\"axis\":{\"id\":\"p2668\"}}},{\"type\":\"object\",\"name\":\"Grid\",\"id\":\"p2677\",\"attributes\":{\"dimension\":1,\"axis\":{\"id\":\"p2673\"}}}]}}]}};\n  const render_items = [{\"docid\":\"c1a12930-1132-44fa-9461-afbf0ad7d108\",\"roots\":{\"p2656\":\"e295fe5e-0ceb-4ba6-9044-ce5ee2fd4dde\"},\"root_ids\":[\"p2656\"]}];\n  root.Bokeh.embed.embed_items_notebook(docs_json, render_items);\n  }\n  if (root.Bokeh !== undefined) {\n    embed_document(root);\n  } else {\n    let attempts = 0;\n    const timer = setInterval(function(root) {\n      if (root.Bokeh !== undefined) {\n        clearInterval(timer);\n        embed_document(root);\n      } else {\n        attempts++;\n        if (attempts > 100) {\n          clearInterval(timer);\n          console.log(\"Bokeh: ERROR: Unable to run BokehJS code because BokehJS library is missing\");\n        }\n      }\n    }, 10, root)\n  }\n})(window);",
      "application/vnd.bokehjs_exec.v0+json": ""
     },
     "metadata": {
      "application/vnd.bokehjs_exec.v0+json": {
       "id": "p2656"
      }
     },
     "output_type": "display_data"
    }
   ],
   "source": [
    "printdata1={\n",
    "    'total_deaths' : total_deaths,\n",
    "    'mercator_x' : eu_mercator_x,\n",
    "    'mercator_y' : eu_mercator_y,\n",
    "    'country' : [key for key in eu_cities]\n",
    "    }\n",
    "df=pd.DataFrame(printdata1)\n",
    "color_mapper = linear_cmap(field_name = 'total_deaths', palette = mpl['Inferno'][11][::-1], low = df['total_deaths'].min(), high = df['total_deaths'].max())\n",
    "source = ColumnDataSource(data=df)\n",
    "tooltips = [(\"Összes haláleset\",\"@total_deaths\"), (\"Ország\",\"@country\") ]\n",
    "p = figure(title = 'Halálozások száma az EU-s tagállamokban',\n",
    "           x_axis_type=\"mercator\", y_axis_type=\"mercator\", x_axis_label = 'Hosszúsági kör', \n",
    "           y_axis_label = 'Szélességi kör', tooltips = tooltips)\n",
    "p.add_tile(\"CartoDB Positron retina\")\n",
    "p.circle(x = 'mercator_x', y = 'mercator_y', color = color_mapper, source=source, size=30, fill_alpha = 0.7)\n",
    "color_bar = ColorBar(color_mapper=color_mapper['transform'], \n",
    "                     formatter = NumeralTickFormatter(format='0.0[0000]'), \n",
    "                     label_standoff = 13, width=8, location=(0,0))\n",
    "p.add_layout(color_bar, 'right')\n",
    "show(p)"
   ]
  },
  {
   "cell_type": "code",
   "execution_count": null,
   "metadata": {},
   "outputs": [],
   "source": []
  }
 ],
 "metadata": {
  "kernelspec": {
   "display_name": "base",
   "language": "python",
   "name": "python3"
  },
  "language_info": {
   "codemirror_mode": {
    "name": "ipython",
    "version": 3
   },
   "file_extension": ".py",
   "mimetype": "text/x-python",
   "name": "python",
   "nbconvert_exporter": "python",
   "pygments_lexer": "ipython3",
   "version": "3.11.7"
  }
 },
 "nbformat": 4,
 "nbformat_minor": 2
}
