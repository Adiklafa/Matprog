{
 "cells": [
  {
   "cell_type": "markdown",
   "metadata": {},
   "source": [
    "# SIR modell készítése\n",
    "#### Anita és Ádám közös munkája"
   ]
  },
  {
   "cell_type": "code",
   "execution_count": 2,
   "metadata": {},
   "outputs": [
    {
     "data": {
      "text/plain": [
       "\"import numpy as np\\nimport scipy as sci\\nfrom scipy.integrate import odeint\\nimport matplotlib.pyplot as plt\\n\\n# parameter values\\nR0 = 2.4\\nt_infective = 5.1 + 3.3 \\n\\n# initial number of infected and recovered individuals\\ni_initial = 2/9800000\\nr_initial = 0.00\\ns_initial = 1 - i_initial - r_initial\\n\\ngamma = 1/t_infective\\nbeta = R0*gamma\\n\\n# SIR model differential equations.\\ndef deriv(x, t, beta, gamma):\\n    s, i, r = x\\n    dsdt = -beta * s * i\\n    didt = beta * s * i - gamma * i\\n    drdt =  gamma * i\\n    return [dsdt, didt, drdt]\\n\\nt = np.linspace(0, 180, 2000)\\nx_initial = s_initial, i_initial, r_initial\\nsoln = odeint(deriv, x_initial, t, args=(beta, gamma))\\ns, i, r = soln.T\\ne = None\\n\\ndef plotdata(t, s, i, e=None):\\n    # plot the data\\n    fig = plt.figure(figsize=(12,6))\\n    ax = [fig.add_subplot(221, axisbelow=True), \\n          fig.add_subplot(223),\\n          fig.add_subplot(122)]\\n\\n    ax[0].plot(t, s, lw=3, label='Fraction Susceptible')\\n    ax[0].plot(t, i, lw=3, label='Fraction Infective')\\n    ax[0].plot(t, r, lw=3, label='Recovered')\\n    ax[0].set_title('Susceptible and Recovered Populations')\\n    ax[0].set_xlabel('Time /days')\\n    ax[0].set_ylabel('Fraction')\\n\\n    ax[1].plot(t, i, lw=3, label='Infective')\\n    ax[1].set_title('Infectious Population')\\n    if e is not None: ax[1].plot(t, e, lw=3, label='Exposed')\\n    ax[1].set_ylim(0, 0.3)\\n    ax[1].set_xlabel('Time /days')\\n    ax[1].set_ylabel('Fraction')\\n\\n    ax[2].plot(s, i, lw=3, label='s, i trajectory')\\n    ax[2].plot([1/R0, 1/R0], [0, 1], '--', lw=3, label='di/dt = 0')\\n    ax[2].plot(s[0], i[0], '.', ms=20, label='Initial Condition')\\n    ax[2].plot(s[-1], i[-1], '.', ms=20, label='Final Condition')\\n    ax[2].set_title('State Trajectory')\\n    ax[2].set_aspect('equal')\\n    ax[2].set_ylim(0, 1.05)\\n    ax[2].set_xlim(0, 1.05)\\n    ax[2].set_xlabel('Susceptible')\\n    ax[2].set_ylabel('Infectious')\\n\\n    for a in ax: \\n        a.grid(True)\\n        a.legend()\\n\\n    plt.tight_layout()\\n    \\nplotdata(t, s, i)\""
      ]
     },
     "execution_count": 2,
     "metadata": {},
     "output_type": "execute_result"
    }
   ],
   "source": [
    "'''import numpy as np\n",
    "import scipy as sci\n",
    "from scipy.integrate import odeint\n",
    "import matplotlib.pyplot as plt\n",
    "\n",
    "# parameter values\n",
    "R0 = 2.4\n",
    "t_infective = 5.1 + 3.3 \n",
    "\n",
    "# initial number of infected and recovered individuals\n",
    "i_initial = 2/9800000\n",
    "r_initial = 0.00\n",
    "s_initial = 1 - i_initial - r_initial\n",
    "\n",
    "gamma = 1/t_infective\n",
    "beta = R0*gamma\n",
    "\n",
    "# SIR model differential equations.\n",
    "def deriv(x, t, beta, gamma):\n",
    "    s, i, r = x\n",
    "    dsdt = -beta * s * i\n",
    "    didt = beta * s * i - gamma * i\n",
    "    drdt =  gamma * i\n",
    "    return [dsdt, didt, drdt]\n",
    "\n",
    "t = np.linspace(0, 180, 2000)\n",
    "x_initial = s_initial, i_initial, r_initial\n",
    "soln = odeint(deriv, x_initial, t, args=(beta, gamma))\n",
    "s, i, r = soln.T\n",
    "e = None\n",
    "\n",
    "def plotdata(t, s, i, e=None):\n",
    "    # plot the data\n",
    "    fig = plt.figure(figsize=(12,6))\n",
    "    ax = [fig.add_subplot(221, axisbelow=True), \n",
    "          fig.add_subplot(223),\n",
    "          fig.add_subplot(122)]\n",
    "\n",
    "    ax[0].plot(t, s, lw=3, label='Fraction Susceptible')\n",
    "    ax[0].plot(t, i, lw=3, label='Fraction Infective')\n",
    "    ax[0].plot(t, r, lw=3, label='Recovered')\n",
    "    ax[0].set_title('Susceptible and Recovered Populations')\n",
    "    ax[0].set_xlabel('Time /days')\n",
    "    ax[0].set_ylabel('Fraction')\n",
    "\n",
    "    ax[1].plot(t, i, lw=3, label='Infective')\n",
    "    ax[1].set_title('Infectious Population')\n",
    "    if e is not None: ax[1].plot(t, e, lw=3, label='Exposed')\n",
    "    ax[1].set_ylim(0, 0.3)\n",
    "    ax[1].set_xlabel('Time /days')\n",
    "    ax[1].set_ylabel('Fraction')\n",
    "\n",
    "    ax[2].plot(s, i, lw=3, label='s, i trajectory')\n",
    "    ax[2].plot([1/R0, 1/R0], [0, 1], '--', lw=3, label='di/dt = 0')\n",
    "    ax[2].plot(s[0], i[0], '.', ms=20, label='Initial Condition')\n",
    "    ax[2].plot(s[-1], i[-1], '.', ms=20, label='Final Condition')\n",
    "    ax[2].set_title('State Trajectory')\n",
    "    ax[2].set_aspect('equal')\n",
    "    ax[2].set_ylim(0, 1.05)\n",
    "    ax[2].set_xlim(0, 1.05)\n",
    "    ax[2].set_xlabel('Susceptible')\n",
    "    ax[2].set_ylabel('Infectious')\n",
    "\n",
    "    for a in ax: \n",
    "        a.grid(True)\n",
    "        a.legend()\n",
    "\n",
    "    plt.tight_layout()\n",
    "    \n",
    "plotdata(t, s, i)'''"
   ]
  },
  {
   "cell_type": "code",
   "execution_count": 3,
   "metadata": {},
   "outputs": [],
   "source": [
    "%matplotlib inline\n",
    "import numpy as np\n",
    "from scipy.integrate import odeint\n",
    "import sympy as sym\n",
    "from sympy.utilities.lambdify import implemented_function\n",
    "import pandas as pd\n",
    "import matplotlib.pyplot as plt\n",
    "import matplotlib\n",
    "matplotlib.use('Agg')"
   ]
  },
  {
   "cell_type": "code",
   "execution_count": 4,
   "metadata": {},
   "outputs": [],
   "source": [
    "data=pd.read_csv(\"owid-covid-data.csv\")"
   ]
  },
  {
   "cell_type": "code",
   "execution_count": 5,
   "metadata": {},
   "outputs": [
    {
     "data": {
      "text/latex": [
       "$\\displaystyle \\frac{d}{d t} S{\\left(t \\right)} = - β I{\\left(t \\right)} S{\\left(t \\right)}$"
      ],
      "text/plain": [
       "Eq(Derivative(S(t), t), -β*I(t)*S(t))"
      ]
     },
     "metadata": {},
     "output_type": "display_data"
    },
    {
     "data": {
      "text/latex": [
       "$\\displaystyle \\frac{d}{d t} I{\\left(t \\right)} = β I{\\left(t \\right)} S{\\left(t \\right)} - γ I{\\left(t \\right)}$"
      ],
      "text/plain": [
       "Eq(Derivative(I(t), t), β*I(t)*S(t) - γ*I(t))"
      ]
     },
     "metadata": {},
     "output_type": "display_data"
    },
    {
     "data": {
      "text/latex": [
       "$\\displaystyle \\frac{d}{d t} R{\\left(t \\right)} = γ I{\\left(t \\right)}$"
      ],
      "text/plain": [
       "Eq(Derivative(R(t), t), γ*I(t))"
      ]
     },
     "metadata": {},
     "output_type": "display_data"
    }
   ],
   "source": [
    "t = sym.symbols('t')\n",
    "S = sym.Function('S')(t)\n",
    "I = sym.Function('I')(t)\n",
    "R = sym.Function('R')(t)\n",
    "beta = sym.symbols(u'β')\n",
    "gamma = sym.symbols(u'γ')\n",
    "dSdt=sym.Derivative(S,t)\n",
    "dIdt=sym.Derivative(I,t)\n",
    "dRdt=sym.Derivative(R,t)\n",
    "\n",
    "eq1=sym.Equality(dSdt, -beta * S * I)\n",
    "eq2=sym.Equality(dIdt, beta * S * I - gamma * I)\n",
    "eq3=sym.Equality(dRdt,  gamma * I)\n",
    "\n",
    "display(eq1,eq2,eq3)"
   ]
  },
  {
   "cell_type": "code",
   "execution_count": 6,
   "metadata": {},
   "outputs": [
    {
     "data": {
      "text/html": [
       "<div>\n",
       "<style scoped>\n",
       "    .dataframe tbody tr th:only-of-type {\n",
       "        vertical-align: middle;\n",
       "    }\n",
       "\n",
       "    .dataframe tbody tr th {\n",
       "        vertical-align: top;\n",
       "    }\n",
       "\n",
       "    .dataframe thead th {\n",
       "        text-align: right;\n",
       "    }\n",
       "</style>\n",
       "<table border=\"1\" class=\"dataframe\">\n",
       "  <thead>\n",
       "    <tr style=\"text-align: right;\">\n",
       "      <th></th>\n",
       "      <th>Country</th>\n",
       "      <th>Population</th>\n",
       "      <th>R0</th>\n",
       "      <th>Rt</th>\n",
       "      <th>t*</th>\n",
       "      <th>T</th>\n",
       "      <th>Δt</th>\n",
       "      <th>Beta</th>\n",
       "    </tr>\n",
       "  </thead>\n",
       "  <tbody>\n",
       "    <tr>\n",
       "      <th>0</th>\n",
       "      <td>Austria</td>\n",
       "      <td>8840521</td>\n",
       "      <td>4.38</td>\n",
       "      <td>0.45±0.01</td>\n",
       "      <td>13.37±0.68</td>\n",
       "      <td>6.49±0.47</td>\n",
       "      <td>8.33</td>\n",
       "      <td>0.525810</td>\n",
       "    </tr>\n",
       "    <tr>\n",
       "      <th>8</th>\n",
       "      <td>Finland</td>\n",
       "      <td>5515525</td>\n",
       "      <td>1.62</td>\n",
       "      <td>0.92±0.01</td>\n",
       "      <td>25.05±0.51</td>\n",
       "      <td>1.20±0.68</td>\n",
       "      <td>24.25</td>\n",
       "      <td>0.066804</td>\n",
       "    </tr>\n",
       "    <tr>\n",
       "      <th>10</th>\n",
       "      <td>Germany</td>\n",
       "      <td>82905782</td>\n",
       "      <td>6.33</td>\n",
       "      <td>0.58±0.01</td>\n",
       "      <td>17.06±1.39</td>\n",
       "      <td>12.41±0.71</td>\n",
       "      <td>3.25</td>\n",
       "      <td>1.947692</td>\n",
       "    </tr>\n",
       "    <tr>\n",
       "      <th>12</th>\n",
       "      <td>Hungary</td>\n",
       "      <td>9775564</td>\n",
       "      <td>1.97</td>\n",
       "      <td>0.37±0.15</td>\n",
       "      <td>25.62±6.55</td>\n",
       "      <td>20.23±7.33</td>\n",
       "      <td>31.67</td>\n",
       "      <td>0.062204</td>\n",
       "    </tr>\n",
       "    <tr>\n",
       "      <th>13</th>\n",
       "      <td>Ireland</td>\n",
       "      <td>4867309</td>\n",
       "      <td>1.94</td>\n",
       "      <td>0.57±0.03</td>\n",
       "      <td>30.78±0.53</td>\n",
       "      <td>5.94±1.28</td>\n",
       "      <td>30.0</td>\n",
       "      <td>0.064667</td>\n",
       "    </tr>\n",
       "    <tr>\n",
       "      <th>27</th>\n",
       "      <td>European Union</td>\n",
       "      <td>446786293</td>\n",
       "      <td>4.22</td>\n",
       "      <td>0.67±0.18</td>\n",
       "      <td>18.61±6.43</td>\n",
       "      <td>10.82±4.65</td>\n",
       "      <td>17.24</td>\n",
       "      <td>0.244780</td>\n",
       "    </tr>\n",
       "  </tbody>\n",
       "</table>\n",
       "</div>"
      ],
      "text/plain": [
       "           Country Population    R0         Rt          t*           T     Δt  \\\n",
       "0          Austria    8840521  4.38  0.45±0.01  13.37±0.68   6.49±0.47   8.33   \n",
       "8          Finland    5515525  1.62  0.92±0.01  25.05±0.51   1.20±0.68  24.25   \n",
       "10         Germany   82905782  6.33  0.58±0.01  17.06±1.39  12.41±0.71   3.25   \n",
       "12         Hungary    9775564  1.97  0.37±0.15  25.62±6.55  20.23±7.33  31.67   \n",
       "13         Ireland    4867309  1.94  0.57±0.03  30.78±0.53   5.94±1.28   30.0   \n",
       "27  European Union  446786293  4.22  0.67±0.18  18.61±6.43  10.82±4.65  17.24   \n",
       "\n",
       "        Beta  \n",
       "0   0.525810  \n",
       "8   0.066804  \n",
       "10  1.947692  \n",
       "12  0.062204  \n",
       "13  0.064667  \n",
       "27  0.244780  "
      ]
     },
     "execution_count": 6,
     "metadata": {},
     "output_type": "execute_result"
    }
   ],
   "source": [
    "pd.options.mode.chained_assignment = None\n",
    "\n",
    "sir_data=pd.read_csv(\"sir_data.csv\")\n",
    "sir_countries=[\"Austria\",\"Finland\",\"Germany\",\"Hungary\",\"Ireland\",\"European Union\"]\n",
    "sir_data=sir_data[sir_data[\"Country\"].isin(sir_countries)]\n",
    "sir_indexes=[sir_data[sir_data['Country'] == country].index[-1] for country in sir_countries]\n",
    "for index in sir_indexes:\n",
    "    sir_data['R0'][index]=float(sir_data['R0'][index][0:(sir_data['R0'][index]).find('±')])\n",
    "for index in sir_indexes:\n",
    "    sir_data['Δt'][index]=float(sir_data['Δt'][index][0:(sir_data['Δt'][index]).find('±')])\n",
    "sir_data.insert(7, \"Beta\", [sir_data[\"R0\"][index]/sir_data[\"Δt\"][index] for index in sir_indexes], True)\n",
    "for index in sir_indexes:\n",
    "    temp=sir_data['Population'][index]\n",
    "    sir_data['Population'][index]=int(temp.replace('.', '', temp.count('.')))\n",
    "\n",
    "sir_data"
   ]
  },
  {
   "cell_type": "code",
   "execution_count": 7,
   "metadata": {},
   "outputs": [
    {
     "data": {
      "text/plain": [
       "0.12004801920768307"
      ]
     },
     "execution_count": 7,
     "metadata": {},
     "output_type": "execute_result"
    }
   ],
   "source": [
    "beta=float(beta.subs(beta,sir_data[\"Beta\"][0]))\n",
    "gamma=float(gamma.subs(gamma,1/sir_data[\"Δt\"][0]))\n",
    "gamma"
   ]
  },
  {
   "cell_type": "code",
   "execution_count": 8,
   "metadata": {},
   "outputs": [],
   "source": [
    "I_initial = 2/sir_data[\"Population\"][0]\n",
    "R_initial = 0\n",
    "S_initial = 1-R_initial-I_initial\n",
    "\n",
    "x_initial= S_initial, I_initial, R_initial\n",
    "def deriv(x, t, beta, gamma):\n",
    "    s, i, r = x\n",
    "    dsdt = -beta * s * i\n",
    "    didt = beta * s * i - gamma * i\n",
    "    drdt =  gamma * i\n",
    "    return [dsdt, didt, drdt]\n",
    "\n",
    "t = np.linspace(0, 180, 2000)\n",
    "x_initial = S_initial, I_initial, R_initial\n",
    "soln = odeint(deriv, x_initial, t, args=(beta, gamma))"
   ]
  },
  {
   "cell_type": "code",
   "execution_count": 9,
   "metadata": {},
   "outputs": [
    {
     "data": {
      "text/plain": [
       "array([      0.        ,  982280.11111111, 1964560.22222222,\n",
       "       2946840.33333333, 3929120.44444444, 4911400.55555556,\n",
       "       5893680.66666667, 6875960.77777778, 7858240.88888889,\n",
       "       8840521.        ])"
      ]
     },
     "execution_count": 9,
     "metadata": {},
     "output_type": "execute_result"
    }
   ],
   "source": [
    "s, i, r = soln.T*sir_data['Population'][0]\n",
    "y=np.linspace(0,sir_data['Population'][0],10)\n",
    "y\n"
   ]
  },
  {
   "cell_type": "code",
   "execution_count": 10,
   "metadata": {},
   "outputs": [
    {
     "data": {
      "image/png": "[encoded data removed]",
      "text/plain": [
       "<Figure size 1200x600 with 1 Axes>"
      ]
     },
     "execution_count": 10,
     "metadata": {},
     "output_type": "execute_result"
    }
   ],
   "source": [
    "fig, ax = plt.subplots(figsize=(12,6))\n",
    "ax.set_yticks(y)\n",
    "ax.plot(t, s, lw=3, label='Susceptible', c='lightgreen')\n",
    "ax.plot(t, i, lw=3, label='Infective', c='red')\n",
    "ax.plot(t, r, lw=3, label='Recovered', c='lightblue')\n",
    "ax.legend()\n",
    "fig"
   ]
  },
  {
   "cell_type": "code",
   "execution_count": 11,
   "metadata": {},
   "outputs": [],
   "source": [
    "import networkx as nx\n",
    "import ndlib.models.ModelConfig as mc\n",
    "import ndlib.models.epidemics as ep\n",
    "from bokeh.io import output_notebook, show\n",
    "from ndlib.viz.bokeh.DiffusionTrend import DiffusionTrend"
   ]
  },
  {
   "cell_type": "code",
   "execution_count": 12,
   "metadata": {},
   "outputs": [
    {
     "name": "stdout",
     "output_type": "stream",
     "text": [
      "8840521\n"
     ]
    }
   ],
   "source": [
    "population=sir_data[\"Population\"][0]\n",
    "print(sir_data[\"Population\"][0])\n",
    "fraction=2/population"
   ]
  },
  {
   "cell_type": "code",
   "execution_count": 22,
   "metadata": {},
   "outputs": [],
   "source": [
    "g = nx.erdos_renyi_graph(1000, 0.1)"
   ]
  },
  {
   "cell_type": "code",
   "execution_count": 23,
   "metadata": {},
   "outputs": [],
   "source": [
    "model = ep.SIRModel(g)"
   ]
  },
  {
   "cell_type": "code",
   "execution_count": 24,
   "metadata": {},
   "outputs": [],
   "source": [
    "cfg = mc.Configuration()\n",
    "cfg.add_model_parameter('beta', 0.5258103241296519)\n",
    "cfg.add_model_parameter('gamma', 0.12004801920768307)\n",
    "cfg.add_model_parameter(\"fraction_infected\", 0.001)\n",
    "model.set_initial_status(cfg)"
   ]
  },
  {
   "cell_type": "code",
   "execution_count": 25,
   "metadata": {},
   "outputs": [],
   "source": [
    "iterations = model.iteration_bunch(200)\n",
    "trends = model.build_trends(iterations)"
   ]
  },
  {
   "cell_type": "code",
   "execution_count": 26,
   "metadata": {},
   "outputs": [
    {
     "ename": "TypeError",
     "evalue": "ufunc 'divide' not supported for the input types, and the inputs could not be safely coerced to any supported types according to the casting rule ''safe''",
     "output_type": "error",
     "traceback": [
      "\u001b[1;31m---------------------------------------------------------------------------\u001b[0m",
      "\u001b[1;31mTypeError\u001b[0m                                 Traceback (most recent call last)",
      "Cell \u001b[1;32mIn[26], line 4\u001b[0m\n\u001b[0;32m      1\u001b[0m \u001b[38;5;28;01mfrom\u001b[39;00m \u001b[38;5;21;01mndlib\u001b[39;00m\u001b[38;5;21;01m.\u001b[39;00m\u001b[38;5;21;01mviz\u001b[39;00m\u001b[38;5;21;01m.\u001b[39;00m\u001b[38;5;21;01mbokeh\u001b[39;00m\u001b[38;5;21;01m.\u001b[39;00m\u001b[38;5;21;01mDiffusionPrevalence\u001b[39;00m \u001b[38;5;28;01mimport\u001b[39;00m DiffusionPrevalence\n\u001b[0;32m      3\u001b[0m viz \u001b[38;5;241m=\u001b[39m DiffusionTrend(model, trends)\n\u001b[1;32m----> 4\u001b[0m viz\u001b[38;5;241m.\u001b[39mplot(\u001b[38;5;124m\"\u001b[39m\u001b[38;5;124mdiffusion.pdf\u001b[39m\u001b[38;5;124m\"\u001b[39m)\n",
      "File \u001b[1;32mc:\\Users\\temes\\anaconda3\\Lib\\site-packages\\ndlib\\viz\\bokeh\\DiffusionViz.py:46\u001b[0m, in \u001b[0;36mDiffusionPlot.plot\u001b[1;34m(self, percentile, width, height)\u001b[0m\n\u001b[0;32m     37\u001b[0m \u001b[38;5;28;01mdef\u001b[39;00m \u001b[38;5;21mplot\u001b[39m(\u001b[38;5;28mself\u001b[39m, percentile\u001b[38;5;241m=\u001b[39m\u001b[38;5;241m100\u001b[39m, width\u001b[38;5;241m=\u001b[39m\u001b[38;5;241m500\u001b[39m, height\u001b[38;5;241m=\u001b[39m\u001b[38;5;241m500\u001b[39m):\n\u001b[0;32m     38\u001b[0m \u001b[38;5;250m    \u001b[39m\u001b[38;5;124;03m\"\"\"\u001b[39;00m\n\u001b[0;32m     39\u001b[0m \u001b[38;5;124;03m    Generates the plot\u001b[39;00m\n\u001b[0;32m     40\u001b[0m \n\u001b[1;32m   (...)\u001b[0m\n\u001b[0;32m     44\u001b[0m \u001b[38;5;124;03m    :return: a bokeh figure image\u001b[39;00m\n\u001b[0;32m     45\u001b[0m \u001b[38;5;124;03m    \"\"\"\u001b[39;00m\n\u001b[1;32m---> 46\u001b[0m     pres \u001b[38;5;241m=\u001b[39m \u001b[38;5;28mself\u001b[39m\u001b[38;5;241m.\u001b[39miteration_series(percentile)\n\u001b[0;32m     47\u001b[0m     infos \u001b[38;5;241m=\u001b[39m \u001b[38;5;28mself\u001b[39m\u001b[38;5;241m.\u001b[39mmodel\u001b[38;5;241m.\u001b[39mget_info()\n\u001b[0;32m     48\u001b[0m     descr \u001b[38;5;241m=\u001b[39m \u001b[38;5;124m\"\u001b[39m\u001b[38;5;124m\"\u001b[39m\n",
      "File \u001b[1;32mc:\\Users\\temes\\anaconda3\\Lib\\site-packages\\ndlib\\viz\\bokeh\\DiffusionTrend.py:31\u001b[0m, in \u001b[0;36mDiffusionTrend.iteration_series\u001b[1;34m(self, percentile)\u001b[0m\n\u001b[0;32m     28\u001b[0m             presences[k]\u001b[38;5;241m.\u001b[39mappend(np\u001b[38;5;241m.\u001b[39marray(t[st][\u001b[38;5;124m'\u001b[39m\u001b[38;5;124mnode_count\u001b[39m\u001b[38;5;124m'\u001b[39m][k]))\n\u001b[0;32m     30\u001b[0m \u001b[38;5;28;01mfor\u001b[39;00m st \u001b[38;5;129;01min\u001b[39;00m presences:\n\u001b[1;32m---> 31\u001b[0m     tp \u001b[38;5;241m=\u001b[39m np\u001b[38;5;241m.\u001b[39mpercentile(np\u001b[38;5;241m.\u001b[39marray(presences[st]), percentile, axis\u001b[38;5;241m=\u001b[39m\u001b[38;5;241m0\u001b[39m)\n\u001b[0;32m     32\u001b[0m     bp \u001b[38;5;241m=\u001b[39m np\u001b[38;5;241m.\u001b[39mpercentile(np\u001b[38;5;241m.\u001b[39marray(presences[st]), \u001b[38;5;241m100\u001b[39m \u001b[38;5;241m-\u001b[39m percentile, axis\u001b[38;5;241m=\u001b[39m\u001b[38;5;241m0\u001b[39m)\n\u001b[0;32m     33\u001b[0m     av \u001b[38;5;241m=\u001b[39m np\u001b[38;5;241m.\u001b[39maverage(np\u001b[38;5;241m.\u001b[39marray(presences[st]), axis\u001b[38;5;241m=\u001b[39m\u001b[38;5;241m0\u001b[39m)\n",
      "File \u001b[1;32m<__array_function__ internals>:200\u001b[0m, in \u001b[0;36mpercentile\u001b[1;34m(*args, **kwargs)\u001b[0m\n",
      "File \u001b[1;32mc:\\Users\\temes\\anaconda3\\Lib\\site-packages\\numpy\\lib\\function_base.py:4201\u001b[0m, in \u001b[0;36mpercentile\u001b[1;34m(a, q, axis, out, overwrite_input, method, keepdims, interpolation)\u001b[0m\n\u001b[0;32m   4198\u001b[0m \u001b[38;5;28;01mif\u001b[39;00m interpolation \u001b[38;5;129;01mis\u001b[39;00m \u001b[38;5;129;01mnot\u001b[39;00m \u001b[38;5;28;01mNone\u001b[39;00m:\n\u001b[0;32m   4199\u001b[0m     method \u001b[38;5;241m=\u001b[39m _check_interpolation_as_method(\n\u001b[0;32m   4200\u001b[0m         method, interpolation, \u001b[38;5;124m\"\u001b[39m\u001b[38;5;124mpercentile\u001b[39m\u001b[38;5;124m\"\u001b[39m)\n\u001b[1;32m-> 4201\u001b[0m q \u001b[38;5;241m=\u001b[39m np\u001b[38;5;241m.\u001b[39mtrue_divide(q, \u001b[38;5;241m100\u001b[39m)\n\u001b[0;32m   4202\u001b[0m q \u001b[38;5;241m=\u001b[39m asanyarray(q)  \u001b[38;5;66;03m# undo any decay that the ufunc performed (see gh-13105)\u001b[39;00m\n\u001b[0;32m   4203\u001b[0m \u001b[38;5;28;01mif\u001b[39;00m \u001b[38;5;129;01mnot\u001b[39;00m _quantile_is_valid(q):\n",
      "\u001b[1;31mTypeError\u001b[0m: ufunc 'divide' not supported for the input types, and the inputs could not be safely coerced to any supported types according to the casting rule ''safe''"
     ]
    }
   ],
   "source": [
    "from ndlib.viz.bokeh.DiffusionPrevalence import DiffusionPrevalence\n",
    "\n",
    "viz = DiffusionTrend(model, trends)\n",
    "viz.plot(\"diffusion.pdf\")"
   ]
  },
  {
   "cell_type": "code",
   "execution_count": 20,
   "metadata": {},
   "outputs": [
    {
     "name": "stdout",
     "output_type": "stream",
     "text": [
      "0.5258103241296519\n",
      "0.12004801920768307\n",
      "2.2623101059315395e-07\n"
     ]
    }
   ],
   "source": [
    "print(beta)\n",
    "print(gamma)\n",
    "print(fraction)"
   ]
  },
  {
   "cell_type": "code",
   "execution_count": 30,
   "metadata": {},
   "outputs": [
    {
     "name": "stderr",
     "output_type": "stream",
     "text": [
      "c:\\Users\\temes\\anaconda3\\Lib\\site-packages\\ndlib\\models\\DiffusionModel.py:169: UserWarning: The fraction_infected value is too low given the number of nodes of the selected graph: a single node will be set as infected\n",
      "  warnings.warn(\n"
     ]
    }
   ],
   "source": [
    "import networkx as nx\n",
    "import ndlib.models.ModelConfig as mc\n",
    "import ndlib.models.epidemics as ep\n",
    "from ndlib.viz.mpl.DiffusionTrend import DiffusionTrend\n",
    "%matplotlib qt\n",
    "\n",
    "\n",
    "# Network topology\n",
    "g = nx.erdos_renyi_graph(1000, 0.1)\n",
    "\n",
    "# Model selection\n",
    "model = ep.SIRModel(g)\n",
    "\n",
    "# Model Configuration\n",
    "cfg = mc.Configuration()\n",
    "cfg.add_model_parameter('beta', 0.5258103241296519)\n",
    "cfg.add_model_parameter('gamma', 0.12004801920768307)\n",
    "cfg.add_model_parameter(\"fraction_infected\", 2.2623101059315395e-06)\n",
    "model.set_initial_status(cfg)\n",
    "\n",
    "# Simulation execution\n",
    "iterations = model.iteration_bunch(200)\n",
    "trends = model.build_trends(iterations)\n",
    "\n",
    "# Visualization\n",
    "viz = DiffusionTrend(model, trends)\n",
    "viz.plot(\"diffusion.pdf\")"
   ]
  }
 ],
 "metadata": {
  "kernelspec": {
   "display_name": "base",
   "language": "python",
   "name": "python3"
  },
  "language_info": {
   "codemirror_mode": {
    "name": "ipython",
    "version": 3
   },
   "file_extension": ".py",
   "mimetype": "text/x-python",
   "name": "python",
   "nbconvert_exporter": "python",
   "pygments_lexer": "ipython3",
   "version": "3.11.7"
  }
 },
 "nbformat": 4,
 "nbformat_minor": 2
}
