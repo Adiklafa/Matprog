{
 "cells": [
  {
   "cell_type": "markdown",
   "metadata": {},
   "source": [
    "# SIR modell készítése\n",
    "#### Anita és Ádám közös munkája"
   ]
  },
  {
   "cell_type": "code",
   "execution_count": 112,
   "metadata": {},
   "outputs": [
    {
     "data": {
      "text/plain": [
       "\"import numpy as np\\nimport scipy as sci\\nfrom scipy.integrate import odeint\\nimport matplotlib.pyplot as plt\\n\\n# parameter values\\nR0 = 2.4\\nt_infective = 5.1 + 3.3 \\n\\n# initial number of infected and recovered individuals\\ni_initial = 2/9800000\\nr_initial = 0.00\\ns_initial = 1 - i_initial - r_initial\\n\\ngamma = 1/t_infective\\nbeta = R0*gamma\\n\\n# SIR model differential equations.\\ndef deriv(x, t, beta, gamma):\\n    s, i, r = x\\n    dsdt = -beta * s * i\\n    didt = beta * s * i - gamma * i\\n    drdt =  gamma * i\\n    return [dsdt, didt, drdt]\\n\\nt = np.linspace(0, 180, 2000)\\nx_initial = s_initial, i_initial, r_initial\\nsoln = odeint(deriv, x_initial, t, args=(beta, gamma))\\ns, i, r = soln.T\\ne = None\\n\\ndef plotdata(t, s, i, e=None):\\n    # plot the data\\n    fig = plt.figure(figsize=(12,6))\\n    ax = [fig.add_subplot(221, axisbelow=True), \\n          fig.add_subplot(223),\\n          fig.add_subplot(122)]\\n\\n    ax[0].plot(t, s, lw=3, label='Fraction Susceptible')\\n    ax[0].plot(t, i, lw=3, label='Fraction Infective')\\n    ax[0].plot(t, r, lw=3, label='Recovered')\\n    ax[0].set_title('Susceptible and Recovered Populations')\\n    ax[0].set_xlabel('Time /days')\\n    ax[0].set_ylabel('Fraction')\\n\\n    ax[1].plot(t, i, lw=3, label='Infective')\\n    ax[1].set_title('Infectious Population')\\n    if e is not None: ax[1].plot(t, e, lw=3, label='Exposed')\\n    ax[1].set_ylim(0, 0.3)\\n    ax[1].set_xlabel('Time /days')\\n    ax[1].set_ylabel('Fraction')\\n\\n    ax[2].plot(s, i, lw=3, label='s, i trajectory')\\n    ax[2].plot([1/R0, 1/R0], [0, 1], '--', lw=3, label='di/dt = 0')\\n    ax[2].plot(s[0], i[0], '.', ms=20, label='Initial Condition')\\n    ax[2].plot(s[-1], i[-1], '.', ms=20, label='Final Condition')\\n    ax[2].set_title('State Trajectory')\\n    ax[2].set_aspect('equal')\\n    ax[2].set_ylim(0, 1.05)\\n    ax[2].set_xlim(0, 1.05)\\n    ax[2].set_xlabel('Susceptible')\\n    ax[2].set_ylabel('Infectious')\\n\\n    for a in ax: \\n        a.grid(True)\\n        a.legend()\\n\\n    plt.tight_layout()\\n    \\nplotdata(t, s, i)\""
      ]
     },
     "execution_count": 112,
     "metadata": {},
     "output_type": "execute_result"
    }
   ],
   "source": [
    "'''import numpy as np\n",
    "import scipy as sci\n",
    "from scipy.integrate import odeint\n",
    "import matplotlib.pyplot as plt\n",
    "\n",
    "# parameter values\n",
    "R0 = 2.4\n",
    "t_infective = 5.1 + 3.3 \n",
    "\n",
    "# initial number of infected and recovered individuals\n",
    "i_initial = 2/9800000\n",
    "r_initial = 0.00\n",
    "s_initial = 1 - i_initial - r_initial\n",
    "\n",
    "gamma = 1/t_infective\n",
    "beta = R0*gamma\n",
    "\n",
    "# SIR model differential equations.\n",
    "def deriv(x, t, beta, gamma):\n",
    "    s, i, r = x\n",
    "    dsdt = -beta * s * i\n",
    "    didt = beta * s * i - gamma * i\n",
    "    drdt =  gamma * i\n",
    "    return [dsdt, didt, drdt]\n",
    "\n",
    "t = np.linspace(0, 180, 2000)\n",
    "x_initial = s_initial, i_initial, r_initial\n",
    "soln = odeint(deriv, x_initial, t, args=(beta, gamma))\n",
    "s, i, r = soln.T\n",
    "e = None\n",
    "\n",
    "def plotdata(t, s, i, e=None):\n",
    "    # plot the data\n",
    "    fig = plt.figure(figsize=(12,6))\n",
    "    ax = [fig.add_subplot(221, axisbelow=True), \n",
    "          fig.add_subplot(223),\n",
    "          fig.add_subplot(122)]\n",
    "\n",
    "    ax[0].plot(t, s, lw=3, label='Fraction Susceptible')\n",
    "    ax[0].plot(t, i, lw=3, label='Fraction Infective')\n",
    "    ax[0].plot(t, r, lw=3, label='Recovered')\n",
    "    ax[0].set_title('Susceptible and Recovered Populations')\n",
    "    ax[0].set_xlabel('Time /days')\n",
    "    ax[0].set_ylabel('Fraction')\n",
    "\n",
    "    ax[1].plot(t, i, lw=3, label='Infective')\n",
    "    ax[1].set_title('Infectious Population')\n",
    "    if e is not None: ax[1].plot(t, e, lw=3, label='Exposed')\n",
    "    ax[1].set_ylim(0, 0.3)\n",
    "    ax[1].set_xlabel('Time /days')\n",
    "    ax[1].set_ylabel('Fraction')\n",
    "\n",
    "    ax[2].plot(s, i, lw=3, label='s, i trajectory')\n",
    "    ax[2].plot([1/R0, 1/R0], [0, 1], '--', lw=3, label='di/dt = 0')\n",
    "    ax[2].plot(s[0], i[0], '.', ms=20, label='Initial Condition')\n",
    "    ax[2].plot(s[-1], i[-1], '.', ms=20, label='Final Condition')\n",
    "    ax[2].set_title('State Trajectory')\n",
    "    ax[2].set_aspect('equal')\n",
    "    ax[2].set_ylim(0, 1.05)\n",
    "    ax[2].set_xlim(0, 1.05)\n",
    "    ax[2].set_xlabel('Susceptible')\n",
    "    ax[2].set_ylabel('Infectious')\n",
    "\n",
    "    for a in ax: \n",
    "        a.grid(True)\n",
    "        a.legend()\n",
    "\n",
    "    plt.tight_layout()\n",
    "    \n",
    "plotdata(t, s, i)'''"
   ]
  },
  {
   "cell_type": "code",
   "execution_count": 113,
   "metadata": {},
   "outputs": [],
   "source": [
    "import numpy as np\n",
    "from scipy.integrate import odeint\n",
    "import sympy as sym\n",
    "from sympy.utilities.lambdify import implemented_function\n",
    "import pandas as pd\n",
    "import matplotlib.pyplot as plt\n",
    "import matplotlib"
   ]
  },
  {
   "cell_type": "code",
   "execution_count": 101,
   "metadata": {},
   "outputs": [],
   "source": [
    "data=pd.read_csv(\"owid-covid-data.csv\")"
   ]
  },
  {
   "cell_type": "code",
   "execution_count": 102,
   "metadata": {},
   "outputs": [
    {
     "data": {
      "text/latex": [
       "$\\displaystyle \\frac{d}{d t} S{\\left(t \\right)} = - β I{\\left(t \\right)} S{\\left(t \\right)}$"
      ],
      "text/plain": [
       "Eq(Derivative(S(t), t), -β*I(t)*S(t))"
      ]
     },
     "metadata": {},
     "output_type": "display_data"
    },
    {
     "data": {
      "text/latex": [
       "$\\displaystyle \\frac{d}{d t} I{\\left(t \\right)} = β I{\\left(t \\right)} S{\\left(t \\right)} - γ I{\\left(t \\right)}$"
      ],
      "text/plain": [
       "Eq(Derivative(I(t), t), β*I(t)*S(t) - γ*I(t))"
      ]
     },
     "metadata": {},
     "output_type": "display_data"
    },
    {
     "data": {
      "text/latex": [
       "$\\displaystyle \\frac{d}{d t} R{\\left(t \\right)} = γ I{\\left(t \\right)}$"
      ],
      "text/plain": [
       "Eq(Derivative(R(t), t), γ*I(t))"
      ]
     },
     "metadata": {},
     "output_type": "display_data"
    }
   ],
   "source": [
    "t = sym.symbols('t')\n",
    "S = sym.Function('S')(t)\n",
    "I = sym.Function('I')(t)\n",
    "R = sym.Function('R')(t)\n",
    "beta = sym.symbols(u'β')\n",
    "gamma = sym.symbols(u'γ')\n",
    "dSdt=sym.Derivative(S,t)\n",
    "dIdt=sym.Derivative(I,t)\n",
    "dRdt=sym.Derivative(R,t)\n",
    "\n",
    "eq1=sym.Equality(dSdt, -beta * S * I)\n",
    "eq2=sym.Equality(dIdt, beta * S * I - gamma * I)\n",
    "eq3=sym.Equality(dRdt,  gamma * I)\n",
    "\n",
    "display(eq1,eq2,eq3)"
   ]
  },
  {
   "cell_type": "code",
   "execution_count": 103,
   "metadata": {},
   "outputs": [
    {
     "data": {
      "text/html": [
       "<div>\n",
       "<style scoped>\n",
       "    .dataframe tbody tr th:only-of-type {\n",
       "        vertical-align: middle;\n",
       "    }\n",
       "\n",
       "    .dataframe tbody tr th {\n",
       "        vertical-align: top;\n",
       "    }\n",
       "\n",
       "    .dataframe thead th {\n",
       "        text-align: right;\n",
       "    }\n",
       "</style>\n",
       "<table border=\"1\" class=\"dataframe\">\n",
       "  <thead>\n",
       "    <tr style=\"text-align: right;\">\n",
       "      <th></th>\n",
       "      <th>Country</th>\n",
       "      <th>Population</th>\n",
       "      <th>R0</th>\n",
       "      <th>Rt</th>\n",
       "      <th>t*</th>\n",
       "      <th>T</th>\n",
       "      <th>Δt</th>\n",
       "      <th>Beta</th>\n",
       "    </tr>\n",
       "  </thead>\n",
       "  <tbody>\n",
       "    <tr>\n",
       "      <th>0</th>\n",
       "      <td>Austria</td>\n",
       "      <td>8840521</td>\n",
       "      <td>4.38</td>\n",
       "      <td>0.45±0.01</td>\n",
       "      <td>13.37±0.68</td>\n",
       "      <td>6.49±0.47</td>\n",
       "      <td>8.33</td>\n",
       "      <td>0.525810</td>\n",
       "    </tr>\n",
       "    <tr>\n",
       "      <th>8</th>\n",
       "      <td>Finland</td>\n",
       "      <td>5515525</td>\n",
       "      <td>1.62</td>\n",
       "      <td>0.92±0.01</td>\n",
       "      <td>25.05±0.51</td>\n",
       "      <td>1.20±0.68</td>\n",
       "      <td>24.25</td>\n",
       "      <td>0.066804</td>\n",
       "    </tr>\n",
       "    <tr>\n",
       "      <th>10</th>\n",
       "      <td>Germany</td>\n",
       "      <td>82905782</td>\n",
       "      <td>6.33</td>\n",
       "      <td>0.58±0.01</td>\n",
       "      <td>17.06±1.39</td>\n",
       "      <td>12.41±0.71</td>\n",
       "      <td>3.25</td>\n",
       "      <td>1.947692</td>\n",
       "    </tr>\n",
       "    <tr>\n",
       "      <th>12</th>\n",
       "      <td>Hungary</td>\n",
       "      <td>9775564</td>\n",
       "      <td>1.97</td>\n",
       "      <td>0.37±0.15</td>\n",
       "      <td>25.62±6.55</td>\n",
       "      <td>20.23±7.33</td>\n",
       "      <td>31.67</td>\n",
       "      <td>0.062204</td>\n",
       "    </tr>\n",
       "    <tr>\n",
       "      <th>13</th>\n",
       "      <td>Ireland</td>\n",
       "      <td>4867309</td>\n",
       "      <td>1.94</td>\n",
       "      <td>0.57±0.03</td>\n",
       "      <td>30.78±0.53</td>\n",
       "      <td>5.94±1.28</td>\n",
       "      <td>30.0</td>\n",
       "      <td>0.064667</td>\n",
       "    </tr>\n",
       "    <tr>\n",
       "      <th>27</th>\n",
       "      <td>European Union</td>\n",
       "      <td>446786293</td>\n",
       "      <td>4.22</td>\n",
       "      <td>0.67±0.18</td>\n",
       "      <td>18.61±6.43</td>\n",
       "      <td>10.82±4.65</td>\n",
       "      <td>17.24</td>\n",
       "      <td>0.244780</td>\n",
       "    </tr>\n",
       "  </tbody>\n",
       "</table>\n",
       "</div>"
      ],
      "text/plain": [
       "           Country Population    R0         Rt          t*           T     Δt  \\\n",
       "0          Austria    8840521  4.38  0.45±0.01  13.37±0.68   6.49±0.47   8.33   \n",
       "8          Finland    5515525  1.62  0.92±0.01  25.05±0.51   1.20±0.68  24.25   \n",
       "10         Germany   82905782  6.33  0.58±0.01  17.06±1.39  12.41±0.71   3.25   \n",
       "12         Hungary    9775564  1.97  0.37±0.15  25.62±6.55  20.23±7.33  31.67   \n",
       "13         Ireland    4867309  1.94  0.57±0.03  30.78±0.53   5.94±1.28   30.0   \n",
       "27  European Union  446786293  4.22  0.67±0.18  18.61±6.43  10.82±4.65  17.24   \n",
       "\n",
       "        Beta  \n",
       "0   0.525810  \n",
       "8   0.066804  \n",
       "10  1.947692  \n",
       "12  0.062204  \n",
       "13  0.064667  \n",
       "27  0.244780  "
      ]
     },
     "execution_count": 103,
     "metadata": {},
     "output_type": "execute_result"
    }
   ],
   "source": [
    "pd.options.mode.chained_assignment = None\n",
    "\n",
    "sir_data=pd.read_csv(\"sir_data.csv\")\n",
    "sir_countries=[\"Austria\",\"Finland\",\"Germany\",\"Hungary\",\"Ireland\",\"European Union\"]\n",
    "sir_data=sir_data[sir_data[\"Country\"].isin(sir_countries)]\n",
    "sir_indexes=[sir_data[sir_data['Country'] == country].index[-1] for country in sir_countries]\n",
    "for index in sir_indexes:\n",
    "    sir_data['R0'][index]=float(sir_data['R0'][index][0:(sir_data['R0'][index]).find('±')])\n",
    "for index in sir_indexes:\n",
    "    sir_data['Δt'][index]=float(sir_data['Δt'][index][0:(sir_data['Δt'][index]).find('±')])\n",
    "sir_data.insert(7, \"Beta\", [sir_data[\"R0\"][index]/sir_data[\"Δt\"][index] for index in sir_indexes], True)\n",
    "for index in sir_indexes:\n",
    "    temp=sir_data['Population'][index]\n",
    "    sir_data['Population'][index]=int(temp.replace('.', '', temp.count('.')))\n",
    "\n",
    "sir_data"
   ]
  },
  {
   "cell_type": "code",
   "execution_count": 104,
   "metadata": {},
   "outputs": [
    {
     "data": {
      "text/plain": [
       "0.12004801920768307"
      ]
     },
     "execution_count": 104,
     "metadata": {},
     "output_type": "execute_result"
    }
   ],
   "source": [
    "beta=float(beta.subs(beta,sir_data[\"Beta\"][0]))\n",
    "gamma=float(gamma.subs(gamma,1/sir_data[\"Δt\"][0]))\n",
    "gamma"
   ]
  },
  {
   "cell_type": "code",
   "execution_count": 129,
   "metadata": {},
   "outputs": [],
   "source": [
    "I_initial = 2/sir_data[\"Population\"][0]\n",
    "R_initial = 0\n",
    "S_initial = 1-R_initial-I_initial\n",
    "\n",
    "x_initial= S_initial, I_initial, R_initial\n",
    "def deriv(x, t, beta, gamma):\n",
    "    s, i, r = x\n",
    "    dsdt = -beta * s * i\n",
    "    didt = beta * s * i - gamma * i\n",
    "    drdt =  gamma * i\n",
    "    return [dsdt, didt, drdt]\n",
    "\n",
    "t = np.linspace(0, 180, 2000)\n",
    "x_initial = S_initial, I_initial, R_initial\n",
    "soln = odeint(deriv, x_initial, t, args=(beta, gamma))"
   ]
  },
  {
   "cell_type": "code",
   "execution_count": 130,
   "metadata": {},
   "outputs": [],
   "source": [
    "s, i, r = soln.T"
   ]
  },
  {
   "cell_type": "code",
   "execution_count": 131,
   "metadata": {},
   "outputs": [
    {
     "data": {
      "image/png": "[encoded data removed]",
      "text/plain": [
       "<Figure size 1200x600 with 1 Axes>"
      ]
     },
     "execution_count": 131,
     "metadata": {},
     "output_type": "execute_result"
    }
   ],
   "source": [
    "fig, ax = plt.subplots(figsize=(12,6))\n",
    "ax.plot(t, s, lw=3, label='Fraction Susceptible')\n",
    "ax.plot(t, i, lw=3, label='Fraction Infective')\n",
    "ax.plot(t, r, lw=3, label='Recovered')\n",
    "fig\n"
   ]
  },
  {
   "cell_type": "code",
   "execution_count": 72,
   "metadata": {},
   "outputs": [],
   "source": [
    "import networkx as nx\n",
    "import ndlib.models.ModelConfig as mc\n",
    "import ndlib.models.epidemics as ep\n",
    "from bokeh.io import output_notebook, show\n",
    "from ndlib.viz.bokeh.DiffusionTrend import DiffusionTrend"
   ]
  },
  {
   "cell_type": "code",
   "execution_count": 93,
   "metadata": {},
   "outputs": [
    {
     "name": "stdout",
     "output_type": "stream",
     "text": [
      "8840521\n"
     ]
    }
   ],
   "source": [
    "population=sir_data[\"Population\"][0]\n",
    "print(sir_data[\"Population\"][0])\n",
    "fraction=2/population"
   ]
  },
  {
   "cell_type": "code",
   "execution_count": 94,
   "metadata": {},
   "outputs": [],
   "source": [
    "g = nx.erdos_renyi_graph(10000, 0.1)"
   ]
  },
  {
   "cell_type": "code",
   "execution_count": 95,
   "metadata": {},
   "outputs": [],
   "source": [
    "model = ep.SIRModel(g)"
   ]
  },
  {
   "cell_type": "code",
   "execution_count": 96,
   "metadata": {},
   "outputs": [
    {
     "name": "stderr",
     "output_type": "stream",
     "text": [
      "c:\\Users\\temes\\anaconda3\\Lib\\site-packages\\ndlib\\models\\DiffusionModel.py:169: UserWarning: The fraction_infected value is too low given the number of nodes of the selected graph: a single node will be set as infected\n",
      "  warnings.warn(\n"
     ]
    }
   ],
   "source": [
    "cfg = mc.Configuration()\n",
    "cfg.add_model_parameter('beta', beta)\n",
    "cfg.add_model_parameter('gamma', gamma)\n",
    "cfg.add_model_parameter(\"fraction_infected\", fraction)\n",
    "model.set_initial_status(cfg)"
   ]
  },
  {
   "cell_type": "code",
   "execution_count": 97,
   "metadata": {},
   "outputs": [],
   "source": [
    "iterations = model.iteration_bunch(200)\n",
    "trends = model.build_trends(iterations)"
   ]
  },
  {
   "cell_type": "code",
   "execution_count": 98,
   "metadata": {},
   "outputs": [],
   "source": [
    "from ndlib.viz.bokeh.DiffusionPrevalence import DiffusionPrevalence\n",
    "\n",
    "viz = DiffusionTrend(model, trends)\n",
    "viz.plot(\"diffusion.pdf\")"
   ]
  },
  {
   "cell_type": "code",
   "execution_count": 99,
   "metadata": {},
   "outputs": [],
   "source": [
    "import networkx as nx\n",
    "import ndlib.models.ModelConfig as mc\n",
    "import ndlib.models.epidemics as ep\n",
    "from ndlib.viz.mpl.DiffusionTrend import DiffusionTrend\n",
    "\n",
    "\n",
    "# Network topology\n",
    "g = nx.erdos_renyi_graph(1000, 0.1)\n",
    "\n",
    "# Model selection\n",
    "model = ep.SIRModel(g)\n",
    "\n",
    "# Model Configuration\n",
    "cfg = mc.Configuration()\n",
    "cfg.add_model_parameter('beta', 0.001)\n",
    "cfg.add_model_parameter('gamma', 0.01)\n",
    "cfg.add_model_parameter(\"fraction_infected\", 0.01)\n",
    "model.set_initial_status(cfg)\n",
    "\n",
    "# Simulation execution\n",
    "iterations = model.iteration_bunch(200)\n",
    "trends = model.build_trends(iterations)\n",
    "\n",
    "# Visualization\n",
    "viz = DiffusionTrend(model, trends)\n",
    "viz.plot(\"diffusion.pdf\")"
   ]
  }
 ],
 "metadata": {
  "kernelspec": {
   "display_name": "base",
   "language": "python",
   "name": "python3"
  },
  "language_info": {
   "codemirror_mode": {
    "name": "ipython",
    "version": 3
   },
   "file_extension": ".py",
   "mimetype": "text/x-python",
   "name": "python",
   "nbconvert_exporter": "python",
   "pygments_lexer": "ipython3",
   "version": "3.11.7"
  }
 },
 "nbformat": 4,
 "nbformat_minor": 2
}
